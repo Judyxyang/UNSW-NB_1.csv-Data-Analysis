{
 "cells": [
  {
   "cell_type": "code",
   "execution_count": 389,
   "id": "ee2a6019",
   "metadata": {},
   "outputs": [],
   "source": [
    "from sklearn.datasets import load_boston\n",
    "from mlxtend.feature_selection import SequentialFeatureSelector as SFS\n",
    "from sklearn.linear_model import LinearRegression\n",
    "import pandas as pd\n",
    "import numpy as np\n",
    "%matplotlib inline\n",
    "import matplotlib.pyplot as plt"
   ]
  },
  {
   "cell_type": "code",
   "execution_count": 390,
   "id": "b95cc558",
   "metadata": {},
   "outputs": [],
   "source": [
    "# load sklearn dataset\n",
    "data=pd.read_csv(r'E:\\My Drive\\UNSW-NB15 Dataset\\StabdardizedDatasetXY\\UNSW-NB15_1NN_50F_OneHote.csv', low_memory=False)"
   ]
  },
  {
   "cell_type": "code",
   "execution_count": 391,
   "id": "58a45111",
   "metadata": {},
   "outputs": [
    {
     "data": {
      "text/html": [
       "<div>\n",
       "<style scoped>\n",
       "    .dataframe tbody tr th:only-of-type {\n",
       "        vertical-align: middle;\n",
       "    }\n",
       "\n",
       "    .dataframe tbody tr th {\n",
       "        vertical-align: top;\n",
       "    }\n",
       "\n",
       "    .dataframe thead th {\n",
       "        text-align: right;\n",
       "    }\n",
       "</style>\n",
       "<table border=\"1\" class=\"dataframe\">\n",
       "  <thead>\n",
       "    <tr style=\"text-align: right;\">\n",
       "      <th></th>\n",
       "      <th>Unnamed: 0</th>\n",
       "      <th>dur</th>\n",
       "      <th>sbytes</th>\n",
       "      <th>dbytes</th>\n",
       "      <th>sttl</th>\n",
       "      <th>dttl</th>\n",
       "      <th>sloss</th>\n",
       "      <th>dloss</th>\n",
       "      <th>Sload</th>\n",
       "      <th>Dload</th>\n",
       "      <th>...</th>\n",
       "      <th>Fuzzers</th>\n",
       "      <th>Analysis</th>\n",
       "      <th>Backdoors</th>\n",
       "      <th>DoS</th>\n",
       "      <th>Exploits</th>\n",
       "      <th>Generic</th>\n",
       "      <th>Normal</th>\n",
       "      <th>Reconnaissance</th>\n",
       "      <th>Shellcode</th>\n",
       "      <th>Worms</th>\n",
       "    </tr>\n",
       "  </thead>\n",
       "  <tbody>\n",
       "    <tr>\n",
       "      <th>0</th>\n",
       "      <td>0</td>\n",
       "      <td>0.036133</td>\n",
       "      <td>528</td>\n",
       "      <td>304</td>\n",
       "      <td>31</td>\n",
       "      <td>29</td>\n",
       "      <td>0</td>\n",
       "      <td>0</td>\n",
       "      <td>87676.08594</td>\n",
       "      <td>50480.17188</td>\n",
       "      <td>...</td>\n",
       "      <td>0</td>\n",
       "      <td>0</td>\n",
       "      <td>0</td>\n",
       "      <td>0</td>\n",
       "      <td>0</td>\n",
       "      <td>0</td>\n",
       "      <td>1</td>\n",
       "      <td>0</td>\n",
       "      <td>0</td>\n",
       "      <td>0</td>\n",
       "    </tr>\n",
       "    <tr>\n",
       "      <th>1</th>\n",
       "      <td>1</td>\n",
       "      <td>0.001119</td>\n",
       "      <td>146</td>\n",
       "      <td>178</td>\n",
       "      <td>31</td>\n",
       "      <td>29</td>\n",
       "      <td>0</td>\n",
       "      <td>0</td>\n",
       "      <td>521894.53130</td>\n",
       "      <td>636282.37500</td>\n",
       "      <td>...</td>\n",
       "      <td>0</td>\n",
       "      <td>0</td>\n",
       "      <td>0</td>\n",
       "      <td>0</td>\n",
       "      <td>0</td>\n",
       "      <td>0</td>\n",
       "      <td>1</td>\n",
       "      <td>0</td>\n",
       "      <td>0</td>\n",
       "      <td>0</td>\n",
       "    </tr>\n",
       "    <tr>\n",
       "      <th>2</th>\n",
       "      <td>2</td>\n",
       "      <td>0.001209</td>\n",
       "      <td>132</td>\n",
       "      <td>164</td>\n",
       "      <td>31</td>\n",
       "      <td>29</td>\n",
       "      <td>0</td>\n",
       "      <td>0</td>\n",
       "      <td>436724.56250</td>\n",
       "      <td>542597.18750</td>\n",
       "      <td>...</td>\n",
       "      <td>0</td>\n",
       "      <td>0</td>\n",
       "      <td>0</td>\n",
       "      <td>0</td>\n",
       "      <td>0</td>\n",
       "      <td>0</td>\n",
       "      <td>1</td>\n",
       "      <td>0</td>\n",
       "      <td>0</td>\n",
       "      <td>0</td>\n",
       "    </tr>\n",
       "    <tr>\n",
       "      <th>3</th>\n",
       "      <td>3</td>\n",
       "      <td>0.001169</td>\n",
       "      <td>146</td>\n",
       "      <td>178</td>\n",
       "      <td>31</td>\n",
       "      <td>29</td>\n",
       "      <td>0</td>\n",
       "      <td>0</td>\n",
       "      <td>499572.25000</td>\n",
       "      <td>609067.56250</td>\n",
       "      <td>...</td>\n",
       "      <td>0</td>\n",
       "      <td>0</td>\n",
       "      <td>0</td>\n",
       "      <td>0</td>\n",
       "      <td>0</td>\n",
       "      <td>0</td>\n",
       "      <td>1</td>\n",
       "      <td>0</td>\n",
       "      <td>0</td>\n",
       "      <td>0</td>\n",
       "    </tr>\n",
       "    <tr>\n",
       "      <th>4</th>\n",
       "      <td>4</td>\n",
       "      <td>0.078339</td>\n",
       "      <td>568</td>\n",
       "      <td>312</td>\n",
       "      <td>31</td>\n",
       "      <td>29</td>\n",
       "      <td>0</td>\n",
       "      <td>0</td>\n",
       "      <td>43503.23438</td>\n",
       "      <td>23896.14258</td>\n",
       "      <td>...</td>\n",
       "      <td>0</td>\n",
       "      <td>0</td>\n",
       "      <td>0</td>\n",
       "      <td>0</td>\n",
       "      <td>0</td>\n",
       "      <td>0</td>\n",
       "      <td>1</td>\n",
       "      <td>0</td>\n",
       "      <td>0</td>\n",
       "      <td>0</td>\n",
       "    </tr>\n",
       "  </tbody>\n",
       "</table>\n",
       "<p>5 rows × 51 columns</p>\n",
       "</div>"
      ],
      "text/plain": [
       "   Unnamed: 0       dur  sbytes  dbytes  sttl  dttl  sloss  dloss  \\\n",
       "0           0  0.036133     528     304    31    29      0      0   \n",
       "1           1  0.001119     146     178    31    29      0      0   \n",
       "2           2  0.001209     132     164    31    29      0      0   \n",
       "3           3  0.001169     146     178    31    29      0      0   \n",
       "4           4  0.078339     568     312    31    29      0      0   \n",
       "\n",
       "          Sload         Dload  ...   Fuzzers  Analysis  Backdoors  DoS  \\\n",
       "0   87676.08594   50480.17188  ...         0         0          0    0   \n",
       "1  521894.53130  636282.37500  ...         0         0          0    0   \n",
       "2  436724.56250  542597.18750  ...         0         0          0    0   \n",
       "3  499572.25000  609067.56250  ...         0         0          0    0   \n",
       "4   43503.23438   23896.14258  ...         0         0          0    0   \n",
       "\n",
       "   Exploits  Generic  Normal  Reconnaissance  Shellcode  Worms  \n",
       "0         0        0       1               0          0      0  \n",
       "1         0        0       1               0          0      0  \n",
       "2         0        0       1               0          0      0  \n",
       "3         0        0       1               0          0      0  \n",
       "4         0        0       1               0          0      0  \n",
       "\n",
       "[5 rows x 51 columns]"
      ]
     },
     "execution_count": 391,
     "metadata": {},
     "output_type": "execute_result"
    }
   ],
   "source": [
    "data.head()"
   ]
  },
  {
   "cell_type": "code",
   "execution_count": 392,
   "id": "304d858e",
   "metadata": {},
   "outputs": [
    {
     "data": {
      "text/plain": [
       "(700000, 51)"
      ]
     },
     "execution_count": 392,
     "metadata": {},
     "output_type": "execute_result"
    }
   ],
   "source": [
    "data.shape"
   ]
  },
  {
   "cell_type": "code",
   "execution_count": 371,
   "id": "ea7dfd9a",
   "metadata": {},
   "outputs": [],
   "source": [
    "# Balance Dataset into Normal and Abnormal"
   ]
  },
  {
   "cell_type": "code",
   "execution_count": 393,
   "id": "914c3400",
   "metadata": {},
   "outputs": [],
   "source": [
    "data_normal=data.loc[data['Normal']==1]"
   ]
  },
  {
   "cell_type": "code",
   "execution_count": 394,
   "id": "a8ea4240",
   "metadata": {},
   "outputs": [
    {
     "data": {
      "text/plain": [
       "(677785, 51)"
      ]
     },
     "execution_count": 394,
     "metadata": {},
     "output_type": "execute_result"
    }
   ],
   "source": [
    "data_normal.shape"
   ]
  },
  {
   "cell_type": "code",
   "execution_count": 395,
   "id": "c0313804",
   "metadata": {},
   "outputs": [
    {
     "data": {
      "text/html": [
       "<div>\n",
       "<style scoped>\n",
       "    .dataframe tbody tr th:only-of-type {\n",
       "        vertical-align: middle;\n",
       "    }\n",
       "\n",
       "    .dataframe tbody tr th {\n",
       "        vertical-align: top;\n",
       "    }\n",
       "\n",
       "    .dataframe thead th {\n",
       "        text-align: right;\n",
       "    }\n",
       "</style>\n",
       "<table border=\"1\" class=\"dataframe\">\n",
       "  <thead>\n",
       "    <tr style=\"text-align: right;\">\n",
       "      <th></th>\n",
       "      <th>Unnamed: 0</th>\n",
       "      <th>dur</th>\n",
       "      <th>sbytes</th>\n",
       "      <th>dbytes</th>\n",
       "      <th>sttl</th>\n",
       "      <th>dttl</th>\n",
       "      <th>sloss</th>\n",
       "      <th>dloss</th>\n",
       "      <th>Sload</th>\n",
       "      <th>Dload</th>\n",
       "      <th>...</th>\n",
       "      <th>Fuzzers</th>\n",
       "      <th>Analysis</th>\n",
       "      <th>Backdoors</th>\n",
       "      <th>DoS</th>\n",
       "      <th>Exploits</th>\n",
       "      <th>Generic</th>\n",
       "      <th>Normal</th>\n",
       "      <th>Reconnaissance</th>\n",
       "      <th>Shellcode</th>\n",
       "      <th>Worms</th>\n",
       "    </tr>\n",
       "  </thead>\n",
       "  <tbody>\n",
       "    <tr>\n",
       "      <th>0</th>\n",
       "      <td>0</td>\n",
       "      <td>0.036133</td>\n",
       "      <td>528</td>\n",
       "      <td>304</td>\n",
       "      <td>31</td>\n",
       "      <td>29</td>\n",
       "      <td>0</td>\n",
       "      <td>0</td>\n",
       "      <td>87676.08594</td>\n",
       "      <td>50480.17188</td>\n",
       "      <td>...</td>\n",
       "      <td>0</td>\n",
       "      <td>0</td>\n",
       "      <td>0</td>\n",
       "      <td>0</td>\n",
       "      <td>0</td>\n",
       "      <td>0</td>\n",
       "      <td>1</td>\n",
       "      <td>0</td>\n",
       "      <td>0</td>\n",
       "      <td>0</td>\n",
       "    </tr>\n",
       "    <tr>\n",
       "      <th>1</th>\n",
       "      <td>1</td>\n",
       "      <td>0.001119</td>\n",
       "      <td>146</td>\n",
       "      <td>178</td>\n",
       "      <td>31</td>\n",
       "      <td>29</td>\n",
       "      <td>0</td>\n",
       "      <td>0</td>\n",
       "      <td>521894.53130</td>\n",
       "      <td>636282.37500</td>\n",
       "      <td>...</td>\n",
       "      <td>0</td>\n",
       "      <td>0</td>\n",
       "      <td>0</td>\n",
       "      <td>0</td>\n",
       "      <td>0</td>\n",
       "      <td>0</td>\n",
       "      <td>1</td>\n",
       "      <td>0</td>\n",
       "      <td>0</td>\n",
       "      <td>0</td>\n",
       "    </tr>\n",
       "    <tr>\n",
       "      <th>2</th>\n",
       "      <td>2</td>\n",
       "      <td>0.001209</td>\n",
       "      <td>132</td>\n",
       "      <td>164</td>\n",
       "      <td>31</td>\n",
       "      <td>29</td>\n",
       "      <td>0</td>\n",
       "      <td>0</td>\n",
       "      <td>436724.56250</td>\n",
       "      <td>542597.18750</td>\n",
       "      <td>...</td>\n",
       "      <td>0</td>\n",
       "      <td>0</td>\n",
       "      <td>0</td>\n",
       "      <td>0</td>\n",
       "      <td>0</td>\n",
       "      <td>0</td>\n",
       "      <td>1</td>\n",
       "      <td>0</td>\n",
       "      <td>0</td>\n",
       "      <td>0</td>\n",
       "    </tr>\n",
       "    <tr>\n",
       "      <th>3</th>\n",
       "      <td>3</td>\n",
       "      <td>0.001169</td>\n",
       "      <td>146</td>\n",
       "      <td>178</td>\n",
       "      <td>31</td>\n",
       "      <td>29</td>\n",
       "      <td>0</td>\n",
       "      <td>0</td>\n",
       "      <td>499572.25000</td>\n",
       "      <td>609067.56250</td>\n",
       "      <td>...</td>\n",
       "      <td>0</td>\n",
       "      <td>0</td>\n",
       "      <td>0</td>\n",
       "      <td>0</td>\n",
       "      <td>0</td>\n",
       "      <td>0</td>\n",
       "      <td>1</td>\n",
       "      <td>0</td>\n",
       "      <td>0</td>\n",
       "      <td>0</td>\n",
       "    </tr>\n",
       "    <tr>\n",
       "      <th>4</th>\n",
       "      <td>4</td>\n",
       "      <td>0.078339</td>\n",
       "      <td>568</td>\n",
       "      <td>312</td>\n",
       "      <td>31</td>\n",
       "      <td>29</td>\n",
       "      <td>0</td>\n",
       "      <td>0</td>\n",
       "      <td>43503.23438</td>\n",
       "      <td>23896.14258</td>\n",
       "      <td>...</td>\n",
       "      <td>0</td>\n",
       "      <td>0</td>\n",
       "      <td>0</td>\n",
       "      <td>0</td>\n",
       "      <td>0</td>\n",
       "      <td>0</td>\n",
       "      <td>1</td>\n",
       "      <td>0</td>\n",
       "      <td>0</td>\n",
       "      <td>0</td>\n",
       "    </tr>\n",
       "  </tbody>\n",
       "</table>\n",
       "<p>5 rows × 51 columns</p>\n",
       "</div>"
      ],
      "text/plain": [
       "   Unnamed: 0       dur  sbytes  dbytes  sttl  dttl  sloss  dloss  \\\n",
       "0           0  0.036133     528     304    31    29      0      0   \n",
       "1           1  0.001119     146     178    31    29      0      0   \n",
       "2           2  0.001209     132     164    31    29      0      0   \n",
       "3           3  0.001169     146     178    31    29      0      0   \n",
       "4           4  0.078339     568     312    31    29      0      0   \n",
       "\n",
       "          Sload         Dload  ...   Fuzzers  Analysis  Backdoors  DoS  \\\n",
       "0   87676.08594   50480.17188  ...         0         0          0    0   \n",
       "1  521894.53130  636282.37500  ...         0         0          0    0   \n",
       "2  436724.56250  542597.18750  ...         0         0          0    0   \n",
       "3  499572.25000  609067.56250  ...         0         0          0    0   \n",
       "4   43503.23438   23896.14258  ...         0         0          0    0   \n",
       "\n",
       "   Exploits  Generic  Normal  Reconnaissance  Shellcode  Worms  \n",
       "0         0        0       1               0          0      0  \n",
       "1         0        0       1               0          0      0  \n",
       "2         0        0       1               0          0      0  \n",
       "3         0        0       1               0          0      0  \n",
       "4         0        0       1               0          0      0  \n",
       "\n",
       "[5 rows x 51 columns]"
      ]
     },
     "execution_count": 395,
     "metadata": {},
     "output_type": "execute_result"
    }
   ],
   "source": [
    "data_normal.head()"
   ]
  },
  {
   "cell_type": "code",
   "execution_count": 396,
   "id": "0006f1dc",
   "metadata": {},
   "outputs": [
    {
     "data": {
      "text/plain": [
       "Index(['Unnamed: 0', 'dur', 'sbytes', 'dbytes', 'sttl', 'dttl', 'sloss',\n",
       "       'dloss', 'Sload', 'Dload', 'Spkts', 'Dpkts', 'swin', 'dwin', 'stcpb',\n",
       "       'dtcpb', 'smeansz', 'dmeansz', 'trans_depth', 'res_bdy_len', 'Sjit',\n",
       "       'Djit', 'Stime', 'Ltime', 'Sintpkt', 'Dintpkt', 'tcprtt', 'synack',\n",
       "       'ackdat', 'is_sm_ips_ports', 'ct_state_ttl', 'ct_flw_http_mthd',\n",
       "       'is_ftp_login', 'ct_ftp_cmd', 'ct_srv_src', 'ct_srv_dst', 'ct_dst_ltm',\n",
       "       'ct_src_ ltm', 'ct_src_dport_ltm', 'ct_dst_sport_ltm', 'ct_dst_src_ltm',\n",
       "       ' Fuzzers', 'Analysis', 'Backdoors', 'DoS', 'Exploits', 'Generic',\n",
       "       'Normal', 'Reconnaissance', 'Shellcode', 'Worms'],\n",
       "      dtype='object')"
      ]
     },
     "execution_count": 396,
     "metadata": {},
     "output_type": "execute_result"
    }
   ],
   "source": [
    "data_normal.columns"
   ]
  },
  {
   "cell_type": "code",
   "execution_count": 397,
   "id": "ebc3a212",
   "metadata": {},
   "outputs": [],
   "source": [
    "data_normal=data_normal.drop([' Fuzzers', 'Analysis', 'Backdoors', 'DoS', 'Exploits', 'Generic','Reconnaissance', 'Shellcode', 'Worms'], axis=1)"
   ]
  },
  {
   "cell_type": "code",
   "execution_count": 398,
   "id": "410f1d51",
   "metadata": {},
   "outputs": [
    {
     "data": {
      "text/plain": [
       "(677785, 42)"
      ]
     },
     "execution_count": 398,
     "metadata": {},
     "output_type": "execute_result"
    }
   ],
   "source": [
    "data_normal.shape"
   ]
  },
  {
   "cell_type": "code",
   "execution_count": 399,
   "id": "865a9acd",
   "metadata": {},
   "outputs": [],
   "source": [
    "data_normal=data_normal.to_csv(r'E:\\My Drive\\UNSW-NB15 Dataset\\StabdardizedDatasetXY\\UNSW-NB15_1NN_Normal_OneHot.csv')"
   ]
  },
  {
   "cell_type": "code",
   "execution_count": 400,
   "id": "227703ea",
   "metadata": {},
   "outputs": [],
   "source": [
    "data_anormal=data.loc[data['Normal']==0]"
   ]
  },
  {
   "cell_type": "code",
   "execution_count": 401,
   "id": "497942df",
   "metadata": {},
   "outputs": [
    {
     "data": {
      "text/plain": [
       "(22215, 51)"
      ]
     },
     "execution_count": 401,
     "metadata": {},
     "output_type": "execute_result"
    }
   ],
   "source": [
    "data_anormal.shape"
   ]
  },
  {
   "cell_type": "code",
   "execution_count": 402,
   "id": "6c85b829",
   "metadata": {},
   "outputs": [
    {
     "data": {
      "text/plain": [
       "Index(['Unnamed: 0', 'dur', 'sbytes', 'dbytes', 'sttl', 'dttl', 'sloss',\n",
       "       'dloss', 'Sload', 'Dload', 'Spkts', 'Dpkts', 'swin', 'dwin', 'stcpb',\n",
       "       'dtcpb', 'smeansz', 'dmeansz', 'trans_depth', 'res_bdy_len', 'Sjit',\n",
       "       'Djit', 'Stime', 'Ltime', 'Sintpkt', 'Dintpkt', 'tcprtt', 'synack',\n",
       "       'ackdat', 'is_sm_ips_ports', 'ct_state_ttl', 'ct_flw_http_mthd',\n",
       "       'is_ftp_login', 'ct_ftp_cmd', 'ct_srv_src', 'ct_srv_dst', 'ct_dst_ltm',\n",
       "       'ct_src_ ltm', 'ct_src_dport_ltm', 'ct_dst_sport_ltm', 'ct_dst_src_ltm',\n",
       "       ' Fuzzers', 'Analysis', 'Backdoors', 'DoS', 'Exploits', 'Generic',\n",
       "       'Normal', 'Reconnaissance', 'Shellcode', 'Worms'],\n",
       "      dtype='object')"
      ]
     },
     "execution_count": 402,
     "metadata": {},
     "output_type": "execute_result"
    }
   ],
   "source": [
    "data_anormal.columns"
   ]
  },
  {
   "cell_type": "code",
   "execution_count": 403,
   "id": "586830d6",
   "metadata": {},
   "outputs": [],
   "source": [
    "data_anormal=data_anormal.drop(['Normal'], axis=1)"
   ]
  },
  {
   "cell_type": "code",
   "execution_count": 405,
   "id": "8e0486ab",
   "metadata": {},
   "outputs": [
    {
     "ename": "PermissionError",
     "evalue": "[Errno 13] Permission denied: 'E:\\\\My Drive\\\\UNSW-NB15 Dataset\\\\StabdardizedDatasetXY\\\\UNSW-NB15_1NN_Anormal_OneHot.csv'",
     "output_type": "error",
     "traceback": [
      "\u001b[1;31m---------------------------------------------------------------------------\u001b[0m",
      "\u001b[1;31mPermissionError\u001b[0m                           Traceback (most recent call last)",
      "\u001b[1;32m<ipython-input-405-3969a2cb4093>\u001b[0m in \u001b[0;36m<module>\u001b[1;34m\u001b[0m\n\u001b[1;32m----> 1\u001b[1;33m \u001b[0mdata_anormal\u001b[0m\u001b[1;33m=\u001b[0m\u001b[0mdata_anormal\u001b[0m\u001b[1;33m.\u001b[0m\u001b[0mto_csv\u001b[0m\u001b[1;33m(\u001b[0m\u001b[1;34mr'E:\\My Drive\\UNSW-NB15 Dataset\\StabdardizedDatasetXY\\UNSW-NB15_1NN_Anormal_OneHot.csv'\u001b[0m\u001b[1;33m)\u001b[0m\u001b[1;33m\u001b[0m\u001b[1;33m\u001b[0m\u001b[0m\n\u001b[0m",
      "\u001b[1;32m~\\Anaconda3\\envs\\py3-TF1\\lib\\site-packages\\pandas\\core\\generic.py\u001b[0m in \u001b[0;36mto_csv\u001b[1;34m(self, path_or_buf, sep, na_rep, float_format, columns, header, index, index_label, mode, encoding, compression, quoting, quotechar, line_terminator, chunksize, date_format, doublequote, escapechar, decimal, errors, storage_options)\u001b[0m\n\u001b[0;32m   3401\u001b[0m             \u001b[0mdoublequote\u001b[0m\u001b[1;33m=\u001b[0m\u001b[0mdoublequote\u001b[0m\u001b[1;33m,\u001b[0m\u001b[1;33m\u001b[0m\u001b[1;33m\u001b[0m\u001b[0m\n\u001b[0;32m   3402\u001b[0m             \u001b[0mescapechar\u001b[0m\u001b[1;33m=\u001b[0m\u001b[0mescapechar\u001b[0m\u001b[1;33m,\u001b[0m\u001b[1;33m\u001b[0m\u001b[1;33m\u001b[0m\u001b[0m\n\u001b[1;32m-> 3403\u001b[1;33m             \u001b[0mstorage_options\u001b[0m\u001b[1;33m=\u001b[0m\u001b[0mstorage_options\u001b[0m\u001b[1;33m,\u001b[0m\u001b[1;33m\u001b[0m\u001b[1;33m\u001b[0m\u001b[0m\n\u001b[0m\u001b[0;32m   3404\u001b[0m         )\n\u001b[0;32m   3405\u001b[0m \u001b[1;33m\u001b[0m\u001b[0m\n",
      "\u001b[1;32m~\\Anaconda3\\envs\\py3-TF1\\lib\\site-packages\\pandas\\io\\formats\\format.py\u001b[0m in \u001b[0;36mto_csv\u001b[1;34m(self, path_or_buf, encoding, sep, columns, index_label, mode, compression, quoting, quotechar, line_terminator, chunksize, date_format, doublequote, escapechar, errors, storage_options)\u001b[0m\n\u001b[0;32m   1081\u001b[0m             \u001b[0mformatter\u001b[0m\u001b[1;33m=\u001b[0m\u001b[0mself\u001b[0m\u001b[1;33m.\u001b[0m\u001b[0mfmt\u001b[0m\u001b[1;33m,\u001b[0m\u001b[1;33m\u001b[0m\u001b[1;33m\u001b[0m\u001b[0m\n\u001b[0;32m   1082\u001b[0m         )\n\u001b[1;32m-> 1083\u001b[1;33m         \u001b[0mcsv_formatter\u001b[0m\u001b[1;33m.\u001b[0m\u001b[0msave\u001b[0m\u001b[1;33m(\u001b[0m\u001b[1;33m)\u001b[0m\u001b[1;33m\u001b[0m\u001b[1;33m\u001b[0m\u001b[0m\n\u001b[0m\u001b[0;32m   1084\u001b[0m \u001b[1;33m\u001b[0m\u001b[0m\n\u001b[0;32m   1085\u001b[0m         \u001b[1;32mif\u001b[0m \u001b[0mcreated_buffer\u001b[0m\u001b[1;33m:\u001b[0m\u001b[1;33m\u001b[0m\u001b[1;33m\u001b[0m\u001b[0m\n",
      "\u001b[1;32m~\\Anaconda3\\envs\\py3-TF1\\lib\\site-packages\\pandas\\io\\formats\\csvs.py\u001b[0m in \u001b[0;36msave\u001b[1;34m(self)\u001b[0m\n\u001b[0;32m    232\u001b[0m             \u001b[0merrors\u001b[0m\u001b[1;33m=\u001b[0m\u001b[0mself\u001b[0m\u001b[1;33m.\u001b[0m\u001b[0merrors\u001b[0m\u001b[1;33m,\u001b[0m\u001b[1;33m\u001b[0m\u001b[1;33m\u001b[0m\u001b[0m\n\u001b[0;32m    233\u001b[0m             \u001b[0mcompression\u001b[0m\u001b[1;33m=\u001b[0m\u001b[0mself\u001b[0m\u001b[1;33m.\u001b[0m\u001b[0mcompression\u001b[0m\u001b[1;33m,\u001b[0m\u001b[1;33m\u001b[0m\u001b[1;33m\u001b[0m\u001b[0m\n\u001b[1;32m--> 234\u001b[1;33m             \u001b[0mstorage_options\u001b[0m\u001b[1;33m=\u001b[0m\u001b[0mself\u001b[0m\u001b[1;33m.\u001b[0m\u001b[0mstorage_options\u001b[0m\u001b[1;33m,\u001b[0m\u001b[1;33m\u001b[0m\u001b[1;33m\u001b[0m\u001b[0m\n\u001b[0m\u001b[0;32m    235\u001b[0m         ) as handles:\n\u001b[0;32m    236\u001b[0m \u001b[1;33m\u001b[0m\u001b[0m\n",
      "\u001b[1;32m~\\Anaconda3\\envs\\py3-TF1\\lib\\site-packages\\pandas\\io\\common.py\u001b[0m in \u001b[0;36mget_handle\u001b[1;34m(path_or_buf, mode, encoding, compression, memory_map, is_text, errors, storage_options)\u001b[0m\n\u001b[0;32m    645\u001b[0m                 \u001b[0mencoding\u001b[0m\u001b[1;33m=\u001b[0m\u001b[0mioargs\u001b[0m\u001b[1;33m.\u001b[0m\u001b[0mencoding\u001b[0m\u001b[1;33m,\u001b[0m\u001b[1;33m\u001b[0m\u001b[1;33m\u001b[0m\u001b[0m\n\u001b[0;32m    646\u001b[0m                 \u001b[0merrors\u001b[0m\u001b[1;33m=\u001b[0m\u001b[0merrors\u001b[0m\u001b[1;33m,\u001b[0m\u001b[1;33m\u001b[0m\u001b[1;33m\u001b[0m\u001b[0m\n\u001b[1;32m--> 647\u001b[1;33m                 \u001b[0mnewline\u001b[0m\u001b[1;33m=\u001b[0m\u001b[1;34m\"\"\u001b[0m\u001b[1;33m,\u001b[0m\u001b[1;33m\u001b[0m\u001b[1;33m\u001b[0m\u001b[0m\n\u001b[0m\u001b[0;32m    648\u001b[0m             )\n\u001b[0;32m    649\u001b[0m         \u001b[1;32melse\u001b[0m\u001b[1;33m:\u001b[0m\u001b[1;33m\u001b[0m\u001b[1;33m\u001b[0m\u001b[0m\n",
      "\u001b[1;31mPermissionError\u001b[0m: [Errno 13] Permission denied: 'E:\\\\My Drive\\\\UNSW-NB15 Dataset\\\\StabdardizedDatasetXY\\\\UNSW-NB15_1NN_Anormal_OneHot.csv'"
     ]
    }
   ],
   "source": [
    "data_anormal=data_anormal.to_csv(r'E:\\My Drive\\UNSW-NB15 Dataset\\StabdardizedDatasetXY\\UNSW-NB15_1NN_Anormal_OneHot.csv')"
   ]
  },
  {
   "cell_type": "markdown",
   "id": "9152d598",
   "metadata": {},
   "source": [
    "# Drop 10 features from Normal dataset based on SFS"
   ]
  },
  {
   "cell_type": "code",
   "execution_count": 406,
   "id": "a31c6968",
   "metadata": {},
   "outputs": [],
   "source": [
    "data_normal=pd.read_csv(r'E:\\My Drive\\UNSW-NB15 Dataset\\StabdardizedDatasetXY\\UNSW-NB15_1NN_Normal_OneHot.csv',low_memory=False)"
   ]
  },
  {
   "cell_type": "code",
   "execution_count": 407,
   "id": "061c9132",
   "metadata": {},
   "outputs": [],
   "source": [
    "#Select the first 40 columns as features \n",
    "X_1=data_normal.iloc[:,:40]\n",
    "#Slecte the 41-50 columns as targets \n",
    "y_1=data_normal.iloc[:,-1]"
   ]
  },
  {
   "cell_type": "code",
   "execution_count": 408,
   "id": "24d8a4a9",
   "metadata": {},
   "outputs": [
    {
     "data": {
      "text/plain": [
       "Index(['Unnamed: 0', 'Unnamed: 0.1', 'dur', 'sbytes', 'dbytes', 'sttl', 'dttl',\n",
       "       'sloss', 'dloss', 'Sload', 'Dload', 'Spkts', 'Dpkts', 'swin', 'dwin',\n",
       "       'stcpb', 'dtcpb', 'smeansz', 'dmeansz', 'trans_depth', 'res_bdy_len',\n",
       "       'Sjit', 'Djit', 'Stime', 'Ltime', 'Sintpkt', 'Dintpkt', 'tcprtt',\n",
       "       'synack', 'ackdat', 'is_sm_ips_ports', 'ct_state_ttl',\n",
       "       'ct_flw_http_mthd', 'is_ftp_login', 'ct_ftp_cmd', 'ct_srv_src',\n",
       "       'ct_srv_dst', 'ct_dst_ltm', 'ct_src_ ltm', 'ct_src_dport_ltm'],\n",
       "      dtype='object')"
      ]
     },
     "execution_count": 408,
     "metadata": {},
     "output_type": "execute_result"
    }
   ],
   "source": [
    "X_1.columns"
   ]
  },
  {
   "cell_type": "code",
   "execution_count": 409,
   "id": "08fe041e",
   "metadata": {},
   "outputs": [],
   "source": [
    "# Drop index 8, 13, 14, 18, 21, 24, 25, 32, 39, 40\n",
    "Data_normal_New=data_normal.drop(['Sload','dwin', 'stcpb','trans_depth','Djit','Sintpkt', 'Dintpkt','is_ftp_login','ct_src_dport_ltm'],axis=1)"
   ]
  },
  {
   "cell_type": "code",
   "execution_count": 410,
   "id": "ac9c6195",
   "metadata": {},
   "outputs": [
    {
     "data": {
      "text/plain": [
       "(677785, 34)"
      ]
     },
     "execution_count": 410,
     "metadata": {},
     "output_type": "execute_result"
    }
   ],
   "source": [
    "Data_normal_New.shape"
   ]
  },
  {
   "cell_type": "code",
   "execution_count": 411,
   "id": "e15f6835",
   "metadata": {},
   "outputs": [
    {
     "data": {
      "text/html": [
       "<div>\n",
       "<style scoped>\n",
       "    .dataframe tbody tr th:only-of-type {\n",
       "        vertical-align: middle;\n",
       "    }\n",
       "\n",
       "    .dataframe tbody tr th {\n",
       "        vertical-align: top;\n",
       "    }\n",
       "\n",
       "    .dataframe thead th {\n",
       "        text-align: right;\n",
       "    }\n",
       "</style>\n",
       "<table border=\"1\" class=\"dataframe\">\n",
       "  <thead>\n",
       "    <tr style=\"text-align: right;\">\n",
       "      <th></th>\n",
       "      <th>Unnamed: 0</th>\n",
       "      <th>Unnamed: 0.1</th>\n",
       "      <th>dur</th>\n",
       "      <th>sbytes</th>\n",
       "      <th>dbytes</th>\n",
       "      <th>sttl</th>\n",
       "      <th>dttl</th>\n",
       "      <th>sloss</th>\n",
       "      <th>dloss</th>\n",
       "      <th>Dload</th>\n",
       "      <th>...</th>\n",
       "      <th>ct_state_ttl</th>\n",
       "      <th>ct_flw_http_mthd</th>\n",
       "      <th>ct_ftp_cmd</th>\n",
       "      <th>ct_srv_src</th>\n",
       "      <th>ct_srv_dst</th>\n",
       "      <th>ct_dst_ltm</th>\n",
       "      <th>ct_src_ ltm</th>\n",
       "      <th>ct_dst_sport_ltm</th>\n",
       "      <th>ct_dst_src_ltm</th>\n",
       "      <th>Normal</th>\n",
       "    </tr>\n",
       "  </thead>\n",
       "  <tbody>\n",
       "    <tr>\n",
       "      <th>0</th>\n",
       "      <td>0</td>\n",
       "      <td>0</td>\n",
       "      <td>0.036133</td>\n",
       "      <td>528</td>\n",
       "      <td>304</td>\n",
       "      <td>31</td>\n",
       "      <td>29</td>\n",
       "      <td>0</td>\n",
       "      <td>0</td>\n",
       "      <td>50480.17188</td>\n",
       "      <td>...</td>\n",
       "      <td>0</td>\n",
       "      <td>0</td>\n",
       "      <td>0</td>\n",
       "      <td>2</td>\n",
       "      <td>4</td>\n",
       "      <td>2</td>\n",
       "      <td>3</td>\n",
       "      <td>1</td>\n",
       "      <td>2</td>\n",
       "      <td>1</td>\n",
       "    </tr>\n",
       "    <tr>\n",
       "      <th>1</th>\n",
       "      <td>1</td>\n",
       "      <td>1</td>\n",
       "      <td>0.001119</td>\n",
       "      <td>146</td>\n",
       "      <td>178</td>\n",
       "      <td>31</td>\n",
       "      <td>29</td>\n",
       "      <td>0</td>\n",
       "      <td>0</td>\n",
       "      <td>636282.37500</td>\n",
       "      <td>...</td>\n",
       "      <td>0</td>\n",
       "      <td>0</td>\n",
       "      <td>0</td>\n",
       "      <td>12</td>\n",
       "      <td>8</td>\n",
       "      <td>1</td>\n",
       "      <td>2</td>\n",
       "      <td>1</td>\n",
       "      <td>1</td>\n",
       "      <td>1</td>\n",
       "    </tr>\n",
       "    <tr>\n",
       "      <th>2</th>\n",
       "      <td>2</td>\n",
       "      <td>2</td>\n",
       "      <td>0.001209</td>\n",
       "      <td>132</td>\n",
       "      <td>164</td>\n",
       "      <td>31</td>\n",
       "      <td>29</td>\n",
       "      <td>0</td>\n",
       "      <td>0</td>\n",
       "      <td>542597.18750</td>\n",
       "      <td>...</td>\n",
       "      <td>0</td>\n",
       "      <td>0</td>\n",
       "      <td>0</td>\n",
       "      <td>6</td>\n",
       "      <td>9</td>\n",
       "      <td>1</td>\n",
       "      <td>1</td>\n",
       "      <td>1</td>\n",
       "      <td>1</td>\n",
       "      <td>1</td>\n",
       "    </tr>\n",
       "    <tr>\n",
       "      <th>3</th>\n",
       "      <td>3</td>\n",
       "      <td>3</td>\n",
       "      <td>0.001169</td>\n",
       "      <td>146</td>\n",
       "      <td>178</td>\n",
       "      <td>31</td>\n",
       "      <td>29</td>\n",
       "      <td>0</td>\n",
       "      <td>0</td>\n",
       "      <td>609067.56250</td>\n",
       "      <td>...</td>\n",
       "      <td>0</td>\n",
       "      <td>0</td>\n",
       "      <td>0</td>\n",
       "      <td>7</td>\n",
       "      <td>9</td>\n",
       "      <td>1</td>\n",
       "      <td>1</td>\n",
       "      <td>1</td>\n",
       "      <td>1</td>\n",
       "      <td>1</td>\n",
       "    </tr>\n",
       "    <tr>\n",
       "      <th>4</th>\n",
       "      <td>4</td>\n",
       "      <td>4</td>\n",
       "      <td>0.078339</td>\n",
       "      <td>568</td>\n",
       "      <td>312</td>\n",
       "      <td>31</td>\n",
       "      <td>29</td>\n",
       "      <td>0</td>\n",
       "      <td>0</td>\n",
       "      <td>23896.14258</td>\n",
       "      <td>...</td>\n",
       "      <td>0</td>\n",
       "      <td>0</td>\n",
       "      <td>0</td>\n",
       "      <td>2</td>\n",
       "      <td>4</td>\n",
       "      <td>2</td>\n",
       "      <td>3</td>\n",
       "      <td>1</td>\n",
       "      <td>2</td>\n",
       "      <td>1</td>\n",
       "    </tr>\n",
       "  </tbody>\n",
       "</table>\n",
       "<p>5 rows × 34 columns</p>\n",
       "</div>"
      ],
      "text/plain": [
       "   Unnamed: 0  Unnamed: 0.1       dur  sbytes  dbytes  sttl  dttl  sloss  \\\n",
       "0           0             0  0.036133     528     304    31    29      0   \n",
       "1           1             1  0.001119     146     178    31    29      0   \n",
       "2           2             2  0.001209     132     164    31    29      0   \n",
       "3           3             3  0.001169     146     178    31    29      0   \n",
       "4           4             4  0.078339     568     312    31    29      0   \n",
       "\n",
       "   dloss         Dload  ...  ct_state_ttl  ct_flw_http_mthd  ct_ftp_cmd  \\\n",
       "0      0   50480.17188  ...             0                 0           0   \n",
       "1      0  636282.37500  ...             0                 0           0   \n",
       "2      0  542597.18750  ...             0                 0           0   \n",
       "3      0  609067.56250  ...             0                 0           0   \n",
       "4      0   23896.14258  ...             0                 0           0   \n",
       "\n",
       "   ct_srv_src  ct_srv_dst  ct_dst_ltm  ct_src_ ltm  ct_dst_sport_ltm  \\\n",
       "0           2           4           2            3                 1   \n",
       "1          12           8           1            2                 1   \n",
       "2           6           9           1            1                 1   \n",
       "3           7           9           1            1                 1   \n",
       "4           2           4           2            3                 1   \n",
       "\n",
       "   ct_dst_src_ltm  Normal  \n",
       "0               2       1  \n",
       "1               1       1  \n",
       "2               1       1  \n",
       "3               1       1  \n",
       "4               2       1  \n",
       "\n",
       "[5 rows x 34 columns]"
      ]
     },
     "execution_count": 411,
     "metadata": {},
     "output_type": "execute_result"
    }
   ],
   "source": [
    "Data_normal_New.head()"
   ]
  },
  {
   "cell_type": "code",
   "execution_count": 412,
   "id": "127abf54",
   "metadata": {},
   "outputs": [],
   "source": [
    "Data_normal_New=Data_normal_New.drop([ 'Unnamed: 0.1'],axis=1)"
   ]
  },
  {
   "cell_type": "code",
   "execution_count": 413,
   "id": "69777688",
   "metadata": {},
   "outputs": [],
   "source": [
    "Data_normal_New=Data_normal_New.drop([ 'Unnamed: 0'],axis=1)"
   ]
  },
  {
   "cell_type": "code",
   "execution_count": 414,
   "id": "cc20fa77",
   "metadata": {},
   "outputs": [
    {
     "data": {
      "text/plain": [
       "(677785, 32)"
      ]
     },
     "execution_count": 414,
     "metadata": {},
     "output_type": "execute_result"
    }
   ],
   "source": [
    "Data_normal_New.shape"
   ]
  },
  {
   "cell_type": "code",
   "execution_count": 415,
   "id": "bf1c9d8e",
   "metadata": {},
   "outputs": [
    {
     "data": {
      "text/html": [
       "<div>\n",
       "<style scoped>\n",
       "    .dataframe tbody tr th:only-of-type {\n",
       "        vertical-align: middle;\n",
       "    }\n",
       "\n",
       "    .dataframe tbody tr th {\n",
       "        vertical-align: top;\n",
       "    }\n",
       "\n",
       "    .dataframe thead th {\n",
       "        text-align: right;\n",
       "    }\n",
       "</style>\n",
       "<table border=\"1\" class=\"dataframe\">\n",
       "  <thead>\n",
       "    <tr style=\"text-align: right;\">\n",
       "      <th></th>\n",
       "      <th>dur</th>\n",
       "      <th>sbytes</th>\n",
       "      <th>dbytes</th>\n",
       "      <th>sttl</th>\n",
       "      <th>dttl</th>\n",
       "      <th>sloss</th>\n",
       "      <th>dloss</th>\n",
       "      <th>Dload</th>\n",
       "      <th>Spkts</th>\n",
       "      <th>Dpkts</th>\n",
       "      <th>...</th>\n",
       "      <th>ct_state_ttl</th>\n",
       "      <th>ct_flw_http_mthd</th>\n",
       "      <th>ct_ftp_cmd</th>\n",
       "      <th>ct_srv_src</th>\n",
       "      <th>ct_srv_dst</th>\n",
       "      <th>ct_dst_ltm</th>\n",
       "      <th>ct_src_ ltm</th>\n",
       "      <th>ct_dst_sport_ltm</th>\n",
       "      <th>ct_dst_src_ltm</th>\n",
       "      <th>Normal</th>\n",
       "    </tr>\n",
       "  </thead>\n",
       "  <tbody>\n",
       "    <tr>\n",
       "      <th>0</th>\n",
       "      <td>0.036133</td>\n",
       "      <td>528</td>\n",
       "      <td>304</td>\n",
       "      <td>31</td>\n",
       "      <td>29</td>\n",
       "      <td>0</td>\n",
       "      <td>0</td>\n",
       "      <td>50480.17188</td>\n",
       "      <td>4</td>\n",
       "      <td>4</td>\n",
       "      <td>...</td>\n",
       "      <td>0</td>\n",
       "      <td>0</td>\n",
       "      <td>0</td>\n",
       "      <td>2</td>\n",
       "      <td>4</td>\n",
       "      <td>2</td>\n",
       "      <td>3</td>\n",
       "      <td>1</td>\n",
       "      <td>2</td>\n",
       "      <td>1</td>\n",
       "    </tr>\n",
       "    <tr>\n",
       "      <th>1</th>\n",
       "      <td>0.001119</td>\n",
       "      <td>146</td>\n",
       "      <td>178</td>\n",
       "      <td>31</td>\n",
       "      <td>29</td>\n",
       "      <td>0</td>\n",
       "      <td>0</td>\n",
       "      <td>636282.37500</td>\n",
       "      <td>2</td>\n",
       "      <td>2</td>\n",
       "      <td>...</td>\n",
       "      <td>0</td>\n",
       "      <td>0</td>\n",
       "      <td>0</td>\n",
       "      <td>12</td>\n",
       "      <td>8</td>\n",
       "      <td>1</td>\n",
       "      <td>2</td>\n",
       "      <td>1</td>\n",
       "      <td>1</td>\n",
       "      <td>1</td>\n",
       "    </tr>\n",
       "    <tr>\n",
       "      <th>2</th>\n",
       "      <td>0.001209</td>\n",
       "      <td>132</td>\n",
       "      <td>164</td>\n",
       "      <td>31</td>\n",
       "      <td>29</td>\n",
       "      <td>0</td>\n",
       "      <td>0</td>\n",
       "      <td>542597.18750</td>\n",
       "      <td>2</td>\n",
       "      <td>2</td>\n",
       "      <td>...</td>\n",
       "      <td>0</td>\n",
       "      <td>0</td>\n",
       "      <td>0</td>\n",
       "      <td>6</td>\n",
       "      <td>9</td>\n",
       "      <td>1</td>\n",
       "      <td>1</td>\n",
       "      <td>1</td>\n",
       "      <td>1</td>\n",
       "      <td>1</td>\n",
       "    </tr>\n",
       "    <tr>\n",
       "      <th>3</th>\n",
       "      <td>0.001169</td>\n",
       "      <td>146</td>\n",
       "      <td>178</td>\n",
       "      <td>31</td>\n",
       "      <td>29</td>\n",
       "      <td>0</td>\n",
       "      <td>0</td>\n",
       "      <td>609067.56250</td>\n",
       "      <td>2</td>\n",
       "      <td>2</td>\n",
       "      <td>...</td>\n",
       "      <td>0</td>\n",
       "      <td>0</td>\n",
       "      <td>0</td>\n",
       "      <td>7</td>\n",
       "      <td>9</td>\n",
       "      <td>1</td>\n",
       "      <td>1</td>\n",
       "      <td>1</td>\n",
       "      <td>1</td>\n",
       "      <td>1</td>\n",
       "    </tr>\n",
       "    <tr>\n",
       "      <th>4</th>\n",
       "      <td>0.078339</td>\n",
       "      <td>568</td>\n",
       "      <td>312</td>\n",
       "      <td>31</td>\n",
       "      <td>29</td>\n",
       "      <td>0</td>\n",
       "      <td>0</td>\n",
       "      <td>23896.14258</td>\n",
       "      <td>4</td>\n",
       "      <td>4</td>\n",
       "      <td>...</td>\n",
       "      <td>0</td>\n",
       "      <td>0</td>\n",
       "      <td>0</td>\n",
       "      <td>2</td>\n",
       "      <td>4</td>\n",
       "      <td>2</td>\n",
       "      <td>3</td>\n",
       "      <td>1</td>\n",
       "      <td>2</td>\n",
       "      <td>1</td>\n",
       "    </tr>\n",
       "  </tbody>\n",
       "</table>\n",
       "<p>5 rows × 32 columns</p>\n",
       "</div>"
      ],
      "text/plain": [
       "        dur  sbytes  dbytes  sttl  dttl  sloss  dloss         Dload  Spkts  \\\n",
       "0  0.036133     528     304    31    29      0      0   50480.17188      4   \n",
       "1  0.001119     146     178    31    29      0      0  636282.37500      2   \n",
       "2  0.001209     132     164    31    29      0      0  542597.18750      2   \n",
       "3  0.001169     146     178    31    29      0      0  609067.56250      2   \n",
       "4  0.078339     568     312    31    29      0      0   23896.14258      4   \n",
       "\n",
       "   Dpkts  ...  ct_state_ttl  ct_flw_http_mthd  ct_ftp_cmd  ct_srv_src  \\\n",
       "0      4  ...             0                 0           0           2   \n",
       "1      2  ...             0                 0           0          12   \n",
       "2      2  ...             0                 0           0           6   \n",
       "3      2  ...             0                 0           0           7   \n",
       "4      4  ...             0                 0           0           2   \n",
       "\n",
       "   ct_srv_dst  ct_dst_ltm  ct_src_ ltm  ct_dst_sport_ltm  ct_dst_src_ltm  \\\n",
       "0           4           2            3                 1               2   \n",
       "1           8           1            2                 1               1   \n",
       "2           9           1            1                 1               1   \n",
       "3           9           1            1                 1               1   \n",
       "4           4           2            3                 1               2   \n",
       "\n",
       "   Normal  \n",
       "0       1  \n",
       "1       1  \n",
       "2       1  \n",
       "3       1  \n",
       "4       1  \n",
       "\n",
       "[5 rows x 32 columns]"
      ]
     },
     "execution_count": 415,
     "metadata": {},
     "output_type": "execute_result"
    }
   ],
   "source": [
    "Data_normal_New.head()"
   ]
  },
  {
   "cell_type": "code",
   "execution_count": 416,
   "id": "3bb7c11c",
   "metadata": {},
   "outputs": [
    {
     "data": {
      "text/plain": [
       "Index(['dur', 'sbytes', 'dbytes', 'sttl', 'dttl', 'sloss', 'dloss', 'Dload',\n",
       "       'Spkts', 'Dpkts', 'swin', 'dtcpb', 'smeansz', 'dmeansz', 'res_bdy_len',\n",
       "       'Sjit', 'Stime', 'Ltime', 'tcprtt', 'synack', 'ackdat',\n",
       "       'is_sm_ips_ports', 'ct_state_ttl', 'ct_flw_http_mthd', 'ct_ftp_cmd',\n",
       "       'ct_srv_src', 'ct_srv_dst', 'ct_dst_ltm', 'ct_src_ ltm',\n",
       "       'ct_dst_sport_ltm', 'ct_dst_src_ltm', 'Normal'],\n",
       "      dtype='object')"
      ]
     },
     "execution_count": 416,
     "metadata": {},
     "output_type": "execute_result"
    }
   ],
   "source": [
    "Data_normal_New.columns"
   ]
  },
  {
   "cell_type": "code",
   "execution_count": 417,
   "id": "be996ff8",
   "metadata": {},
   "outputs": [],
   "source": [
    "#Select the first 31 columns as features \n",
    "X_1=Data_normal_New.iloc[:,:31]\n",
    "#Slecte the 41-50 columns as targets \n",
    "y_1=Data_normal_New.iloc[:,-1]"
   ]
  },
  {
   "cell_type": "code",
   "execution_count": 418,
   "id": "2b46185d",
   "metadata": {},
   "outputs": [
    {
     "data": {
      "text/plain": [
       "0         1\n",
       "1         1\n",
       "2         1\n",
       "3         1\n",
       "4         1\n",
       "         ..\n",
       "677780    1\n",
       "677781    1\n",
       "677782    1\n",
       "677783    1\n",
       "677784    1\n",
       "Name: Normal, Length: 677785, dtype: int64"
      ]
     },
     "execution_count": 418,
     "metadata": {},
     "output_type": "execute_result"
    }
   ],
   "source": [
    "y_1"
   ]
  },
  {
   "cell_type": "code",
   "execution_count": 419,
   "id": "f632d2fc",
   "metadata": {},
   "outputs": [],
   "source": [
    "X_1=X_1.to_csv(r'E:\\My Drive\\UNSW-NB15 Dataset\\StabdardizedDatasetXY\\UNSW-NB15_1NN_X_1_OneHot.csv')"
   ]
  },
  {
   "cell_type": "code",
   "execution_count": 420,
   "id": "c80d5527",
   "metadata": {},
   "outputs": [],
   "source": [
    "X_1=pd.read_csv(r'E:\\My Drive\\UNSW-NB15 Dataset\\StabdardizedDatasetXY\\UNSW-NB15_1NN_X_1_OneHot.csv',low_memory=False)"
   ]
  },
  {
   "cell_type": "markdown",
   "id": "aa9e1678",
   "metadata": {},
   "source": [
    "# Load ANormal Dataset"
   ]
  },
  {
   "cell_type": "code",
   "execution_count": 421,
   "id": "ec117f55",
   "metadata": {},
   "outputs": [],
   "source": [
    "data_anormal=pd.read_csv(r'E:\\My Drive\\UNSW-NB15 Dataset\\StabdardizedDatasetXY\\UNSW-NB15_1NN_Anormal_OneHot.csv')"
   ]
  },
  {
   "cell_type": "code",
   "execution_count": 422,
   "id": "71c225bf",
   "metadata": {},
   "outputs": [
    {
     "data": {
      "text/html": [
       "<div>\n",
       "<style scoped>\n",
       "    .dataframe tbody tr th:only-of-type {\n",
       "        vertical-align: middle;\n",
       "    }\n",
       "\n",
       "    .dataframe tbody tr th {\n",
       "        vertical-align: top;\n",
       "    }\n",
       "\n",
       "    .dataframe thead th {\n",
       "        text-align: right;\n",
       "    }\n",
       "</style>\n",
       "<table border=\"1\" class=\"dataframe\">\n",
       "  <thead>\n",
       "    <tr style=\"text-align: right;\">\n",
       "      <th></th>\n",
       "      <th>Unnamed: 0</th>\n",
       "      <th>Unnamed: 0.1</th>\n",
       "      <th>dur</th>\n",
       "      <th>sbytes</th>\n",
       "      <th>dbytes</th>\n",
       "      <th>sttl</th>\n",
       "      <th>dttl</th>\n",
       "      <th>sloss</th>\n",
       "      <th>dloss</th>\n",
       "      <th>Sload</th>\n",
       "      <th>...</th>\n",
       "      <th>ct_dst_src_ltm</th>\n",
       "      <th>Fuzzers</th>\n",
       "      <th>Analysis</th>\n",
       "      <th>Backdoors</th>\n",
       "      <th>DoS</th>\n",
       "      <th>Exploits</th>\n",
       "      <th>Generic</th>\n",
       "      <th>Reconnaissance</th>\n",
       "      <th>Shellcode</th>\n",
       "      <th>Worms</th>\n",
       "    </tr>\n",
       "  </thead>\n",
       "  <tbody>\n",
       "    <tr>\n",
       "      <th>0</th>\n",
       "      <td>19</td>\n",
       "      <td>19</td>\n",
       "      <td>0.000021</td>\n",
       "      <td>728</td>\n",
       "      <td>0</td>\n",
       "      <td>254</td>\n",
       "      <td>0</td>\n",
       "      <td>0</td>\n",
       "      <td>0</td>\n",
       "      <td>1.386667e+08</td>\n",
       "      <td>...</td>\n",
       "      <td>1</td>\n",
       "      <td>0</td>\n",
       "      <td>0</td>\n",
       "      <td>0</td>\n",
       "      <td>0</td>\n",
       "      <td>1</td>\n",
       "      <td>0</td>\n",
       "      <td>0</td>\n",
       "      <td>0</td>\n",
       "      <td>0</td>\n",
       "    </tr>\n",
       "    <tr>\n",
       "      <th>1</th>\n",
       "      <td>20</td>\n",
       "      <td>20</td>\n",
       "      <td>0.240139</td>\n",
       "      <td>918</td>\n",
       "      <td>25552</td>\n",
       "      <td>62</td>\n",
       "      <td>252</td>\n",
       "      <td>2</td>\n",
       "      <td>10</td>\n",
       "      <td>2.805042e+04</td>\n",
       "      <td>...</td>\n",
       "      <td>1</td>\n",
       "      <td>0</td>\n",
       "      <td>0</td>\n",
       "      <td>0</td>\n",
       "      <td>0</td>\n",
       "      <td>1</td>\n",
       "      <td>0</td>\n",
       "      <td>0</td>\n",
       "      <td>0</td>\n",
       "      <td>0</td>\n",
       "    </tr>\n",
       "    <tr>\n",
       "      <th>2</th>\n",
       "      <td>21</td>\n",
       "      <td>21</td>\n",
       "      <td>2.390390</td>\n",
       "      <td>1362</td>\n",
       "      <td>268</td>\n",
       "      <td>254</td>\n",
       "      <td>252</td>\n",
       "      <td>6</td>\n",
       "      <td>1</td>\n",
       "      <td>4.233619e+03</td>\n",
       "      <td>...</td>\n",
       "      <td>1</td>\n",
       "      <td>0</td>\n",
       "      <td>0</td>\n",
       "      <td>0</td>\n",
       "      <td>0</td>\n",
       "      <td>0</td>\n",
       "      <td>0</td>\n",
       "      <td>1</td>\n",
       "      <td>0</td>\n",
       "      <td>0</td>\n",
       "    </tr>\n",
       "    <tr>\n",
       "      <th>3</th>\n",
       "      <td>38</td>\n",
       "      <td>38</td>\n",
       "      <td>0.175190</td>\n",
       "      <td>8168</td>\n",
       "      <td>268</td>\n",
       "      <td>254</td>\n",
       "      <td>252</td>\n",
       "      <td>4</td>\n",
       "      <td>1</td>\n",
       "      <td>3.463668e+05</td>\n",
       "      <td>...</td>\n",
       "      <td>1</td>\n",
       "      <td>0</td>\n",
       "      <td>0</td>\n",
       "      <td>0</td>\n",
       "      <td>0</td>\n",
       "      <td>1</td>\n",
       "      <td>0</td>\n",
       "      <td>0</td>\n",
       "      <td>0</td>\n",
       "      <td>0</td>\n",
       "    </tr>\n",
       "    <tr>\n",
       "      <th>4</th>\n",
       "      <td>39</td>\n",
       "      <td>39</td>\n",
       "      <td>0.190600</td>\n",
       "      <td>844</td>\n",
       "      <td>268</td>\n",
       "      <td>254</td>\n",
       "      <td>252</td>\n",
       "      <td>2</td>\n",
       "      <td>1</td>\n",
       "      <td>3.189927e+04</td>\n",
       "      <td>...</td>\n",
       "      <td>1</td>\n",
       "      <td>0</td>\n",
       "      <td>0</td>\n",
       "      <td>0</td>\n",
       "      <td>0</td>\n",
       "      <td>1</td>\n",
       "      <td>0</td>\n",
       "      <td>0</td>\n",
       "      <td>0</td>\n",
       "      <td>0</td>\n",
       "    </tr>\n",
       "  </tbody>\n",
       "</table>\n",
       "<p>5 rows × 51 columns</p>\n",
       "</div>"
      ],
      "text/plain": [
       "   Unnamed: 0  Unnamed: 0.1       dur  sbytes  dbytes  sttl  dttl  sloss  \\\n",
       "0          19            19  0.000021     728       0   254     0      0   \n",
       "1          20            20  0.240139     918   25552    62   252      2   \n",
       "2          21            21  2.390390    1362     268   254   252      6   \n",
       "3          38            38  0.175190    8168     268   254   252      4   \n",
       "4          39            39  0.190600     844     268   254   252      2   \n",
       "\n",
       "   dloss         Sload  ...  ct_dst_src_ltm   Fuzzers  Analysis  Backdoors  \\\n",
       "0      0  1.386667e+08  ...               1         0         0          0   \n",
       "1     10  2.805042e+04  ...               1         0         0          0   \n",
       "2      1  4.233619e+03  ...               1         0         0          0   \n",
       "3      1  3.463668e+05  ...               1         0         0          0   \n",
       "4      1  3.189927e+04  ...               1         0         0          0   \n",
       "\n",
       "   DoS  Exploits  Generic  Reconnaissance  Shellcode  Worms  \n",
       "0    0         1        0               0          0      0  \n",
       "1    0         1        0               0          0      0  \n",
       "2    0         0        0               1          0      0  \n",
       "3    0         1        0               0          0      0  \n",
       "4    0         1        0               0          0      0  \n",
       "\n",
       "[5 rows x 51 columns]"
      ]
     },
     "execution_count": 422,
     "metadata": {},
     "output_type": "execute_result"
    }
   ],
   "source": [
    "data_anormal.head()"
   ]
  },
  {
   "cell_type": "code",
   "execution_count": 423,
   "id": "c83dbc0e",
   "metadata": {},
   "outputs": [
    {
     "data": {
      "text/plain": [
       "Index(['Unnamed: 0', 'Unnamed: 0.1', 'dur', 'sbytes', 'dbytes', 'sttl', 'dttl',\n",
       "       'sloss', 'dloss', 'Sload', 'Dload', 'Spkts', 'Dpkts', 'swin', 'dwin',\n",
       "       'stcpb', 'dtcpb', 'smeansz', 'dmeansz', 'trans_depth', 'res_bdy_len',\n",
       "       'Sjit', 'Djit', 'Stime', 'Ltime', 'Sintpkt', 'Dintpkt', 'tcprtt',\n",
       "       'synack', 'ackdat', 'is_sm_ips_ports', 'ct_state_ttl',\n",
       "       'ct_flw_http_mthd', 'is_ftp_login', 'ct_ftp_cmd', 'ct_srv_src',\n",
       "       'ct_srv_dst', 'ct_dst_ltm', 'ct_src_ ltm', 'ct_src_dport_ltm',\n",
       "       'ct_dst_sport_ltm', 'ct_dst_src_ltm', ' Fuzzers', 'Analysis',\n",
       "       'Backdoors', 'DoS', 'Exploits', 'Generic', 'Reconnaissance',\n",
       "       'Shellcode', 'Worms'],\n",
       "      dtype='object')"
      ]
     },
     "execution_count": 423,
     "metadata": {},
     "output_type": "execute_result"
    }
   ],
   "source": [
    "data_anormal.columns"
   ]
  },
  {
   "cell_type": "code",
   "execution_count": 424,
   "id": "274a2b90",
   "metadata": {},
   "outputs": [],
   "source": [
    "# Drop Anomaly Dataset into 31 Features also \n",
    "# Drop index 8, 13, 14, 18, 21, 24, 25, 32, 39, 40\n",
    "Data_anormal_New=data_anormal.drop(['Sload','dwin', 'stcpb','trans_depth','Djit','Sintpkt', 'Dintpkt','is_ftp_login','ct_src_dport_ltm'],axis=1)"
   ]
  },
  {
   "cell_type": "code",
   "execution_count": 425,
   "id": "1b7ceeb4",
   "metadata": {},
   "outputs": [
    {
     "data": {
      "text/plain": [
       "(22215, 42)"
      ]
     },
     "execution_count": 425,
     "metadata": {},
     "output_type": "execute_result"
    }
   ],
   "source": [
    "Data_anormal_New.shape"
   ]
  },
  {
   "cell_type": "code",
   "execution_count": 426,
   "id": "0e6e3494",
   "metadata": {},
   "outputs": [
    {
     "data": {
      "text/plain": [
       "Index(['Unnamed: 0', 'Unnamed: 0.1', 'dur', 'sbytes', 'dbytes', 'sttl', 'dttl',\n",
       "       'sloss', 'dloss', 'Dload', 'Spkts', 'Dpkts', 'swin', 'dtcpb', 'smeansz',\n",
       "       'dmeansz', 'res_bdy_len', 'Sjit', 'Stime', 'Ltime', 'tcprtt', 'synack',\n",
       "       'ackdat', 'is_sm_ips_ports', 'ct_state_ttl', 'ct_flw_http_mthd',\n",
       "       'ct_ftp_cmd', 'ct_srv_src', 'ct_srv_dst', 'ct_dst_ltm', 'ct_src_ ltm',\n",
       "       'ct_dst_sport_ltm', 'ct_dst_src_ltm', ' Fuzzers', 'Analysis',\n",
       "       'Backdoors', 'DoS', 'Exploits', 'Generic', 'Reconnaissance',\n",
       "       'Shellcode', 'Worms'],\n",
       "      dtype='object')"
      ]
     },
     "execution_count": 426,
     "metadata": {},
     "output_type": "execute_result"
    }
   ],
   "source": [
    "Data_anormal_New.columns"
   ]
  },
  {
   "cell_type": "code",
   "execution_count": 427,
   "id": "39ebfef0",
   "metadata": {},
   "outputs": [],
   "source": [
    "Data_anormal_New=Data_anormal_New.drop([ 'Unnamed: 0','Unnamed: 0.1'],axis=1)"
   ]
  },
  {
   "cell_type": "code",
   "execution_count": 428,
   "id": "9b2dac98",
   "metadata": {},
   "outputs": [
    {
     "data": {
      "text/plain": [
       "(22215, 40)"
      ]
     },
     "execution_count": 428,
     "metadata": {},
     "output_type": "execute_result"
    }
   ],
   "source": [
    "Data_anormal_New.shape"
   ]
  },
  {
   "cell_type": "code",
   "execution_count": 429,
   "id": "e6a33624",
   "metadata": {},
   "outputs": [
    {
     "data": {
      "text/html": [
       "<div>\n",
       "<style scoped>\n",
       "    .dataframe tbody tr th:only-of-type {\n",
       "        vertical-align: middle;\n",
       "    }\n",
       "\n",
       "    .dataframe tbody tr th {\n",
       "        vertical-align: top;\n",
       "    }\n",
       "\n",
       "    .dataframe thead th {\n",
       "        text-align: right;\n",
       "    }\n",
       "</style>\n",
       "<table border=\"1\" class=\"dataframe\">\n",
       "  <thead>\n",
       "    <tr style=\"text-align: right;\">\n",
       "      <th></th>\n",
       "      <th>dur</th>\n",
       "      <th>sbytes</th>\n",
       "      <th>dbytes</th>\n",
       "      <th>sttl</th>\n",
       "      <th>dttl</th>\n",
       "      <th>sloss</th>\n",
       "      <th>dloss</th>\n",
       "      <th>Dload</th>\n",
       "      <th>Spkts</th>\n",
       "      <th>Dpkts</th>\n",
       "      <th>...</th>\n",
       "      <th>ct_dst_src_ltm</th>\n",
       "      <th>Fuzzers</th>\n",
       "      <th>Analysis</th>\n",
       "      <th>Backdoors</th>\n",
       "      <th>DoS</th>\n",
       "      <th>Exploits</th>\n",
       "      <th>Generic</th>\n",
       "      <th>Reconnaissance</th>\n",
       "      <th>Shellcode</th>\n",
       "      <th>Worms</th>\n",
       "    </tr>\n",
       "  </thead>\n",
       "  <tbody>\n",
       "    <tr>\n",
       "      <th>0</th>\n",
       "      <td>0.000021</td>\n",
       "      <td>728</td>\n",
       "      <td>0</td>\n",
       "      <td>254</td>\n",
       "      <td>0</td>\n",
       "      <td>0</td>\n",
       "      <td>0</td>\n",
       "      <td>0.000000</td>\n",
       "      <td>2</td>\n",
       "      <td>0</td>\n",
       "      <td>...</td>\n",
       "      <td>1</td>\n",
       "      <td>0</td>\n",
       "      <td>0</td>\n",
       "      <td>0</td>\n",
       "      <td>0</td>\n",
       "      <td>1</td>\n",
       "      <td>0</td>\n",
       "      <td>0</td>\n",
       "      <td>0</td>\n",
       "      <td>0</td>\n",
       "    </tr>\n",
       "    <tr>\n",
       "      <th>1</th>\n",
       "      <td>0.240139</td>\n",
       "      <td>918</td>\n",
       "      <td>25552</td>\n",
       "      <td>62</td>\n",
       "      <td>252</td>\n",
       "      <td>2</td>\n",
       "      <td>10</td>\n",
       "      <td>815794.187500</td>\n",
       "      <td>12</td>\n",
       "      <td>24</td>\n",
       "      <td>...</td>\n",
       "      <td>1</td>\n",
       "      <td>0</td>\n",
       "      <td>0</td>\n",
       "      <td>0</td>\n",
       "      <td>0</td>\n",
       "      <td>1</td>\n",
       "      <td>0</td>\n",
       "      <td>0</td>\n",
       "      <td>0</td>\n",
       "      <td>0</td>\n",
       "    </tr>\n",
       "    <tr>\n",
       "      <th>2</th>\n",
       "      <td>2.390390</td>\n",
       "      <td>1362</td>\n",
       "      <td>268</td>\n",
       "      <td>254</td>\n",
       "      <td>252</td>\n",
       "      <td>6</td>\n",
       "      <td>1</td>\n",
       "      <td>749.668518</td>\n",
       "      <td>14</td>\n",
       "      <td>6</td>\n",
       "      <td>...</td>\n",
       "      <td>1</td>\n",
       "      <td>0</td>\n",
       "      <td>0</td>\n",
       "      <td>0</td>\n",
       "      <td>0</td>\n",
       "      <td>0</td>\n",
       "      <td>0</td>\n",
       "      <td>1</td>\n",
       "      <td>0</td>\n",
       "      <td>0</td>\n",
       "    </tr>\n",
       "    <tr>\n",
       "      <th>3</th>\n",
       "      <td>0.175190</td>\n",
       "      <td>8168</td>\n",
       "      <td>268</td>\n",
       "      <td>254</td>\n",
       "      <td>252</td>\n",
       "      <td>4</td>\n",
       "      <td>1</td>\n",
       "      <td>10228.894530</td>\n",
       "      <td>14</td>\n",
       "      <td>6</td>\n",
       "      <td>...</td>\n",
       "      <td>1</td>\n",
       "      <td>0</td>\n",
       "      <td>0</td>\n",
       "      <td>0</td>\n",
       "      <td>0</td>\n",
       "      <td>1</td>\n",
       "      <td>0</td>\n",
       "      <td>0</td>\n",
       "      <td>0</td>\n",
       "      <td>0</td>\n",
       "    </tr>\n",
       "    <tr>\n",
       "      <th>4</th>\n",
       "      <td>0.190600</td>\n",
       "      <td>844</td>\n",
       "      <td>268</td>\n",
       "      <td>254</td>\n",
       "      <td>252</td>\n",
       "      <td>2</td>\n",
       "      <td>1</td>\n",
       "      <td>9401.888672</td>\n",
       "      <td>10</td>\n",
       "      <td>6</td>\n",
       "      <td>...</td>\n",
       "      <td>1</td>\n",
       "      <td>0</td>\n",
       "      <td>0</td>\n",
       "      <td>0</td>\n",
       "      <td>0</td>\n",
       "      <td>1</td>\n",
       "      <td>0</td>\n",
       "      <td>0</td>\n",
       "      <td>0</td>\n",
       "      <td>0</td>\n",
       "    </tr>\n",
       "  </tbody>\n",
       "</table>\n",
       "<p>5 rows × 40 columns</p>\n",
       "</div>"
      ],
      "text/plain": [
       "        dur  sbytes  dbytes  sttl  dttl  sloss  dloss          Dload  Spkts  \\\n",
       "0  0.000021     728       0   254     0      0      0       0.000000      2   \n",
       "1  0.240139     918   25552    62   252      2     10  815794.187500     12   \n",
       "2  2.390390    1362     268   254   252      6      1     749.668518     14   \n",
       "3  0.175190    8168     268   254   252      4      1   10228.894530     14   \n",
       "4  0.190600     844     268   254   252      2      1    9401.888672     10   \n",
       "\n",
       "   Dpkts  ...  ct_dst_src_ltm   Fuzzers  Analysis  Backdoors  DoS  Exploits  \\\n",
       "0      0  ...               1         0         0          0    0         1   \n",
       "1     24  ...               1         0         0          0    0         1   \n",
       "2      6  ...               1         0         0          0    0         0   \n",
       "3      6  ...               1         0         0          0    0         1   \n",
       "4      6  ...               1         0         0          0    0         1   \n",
       "\n",
       "   Generic  Reconnaissance  Shellcode  Worms  \n",
       "0        0               0          0      0  \n",
       "1        0               0          0      0  \n",
       "2        0               1          0      0  \n",
       "3        0               0          0      0  \n",
       "4        0               0          0      0  \n",
       "\n",
       "[5 rows x 40 columns]"
      ]
     },
     "execution_count": 429,
     "metadata": {},
     "output_type": "execute_result"
    }
   ],
   "source": [
    "Data_anormal_New.head()"
   ]
  },
  {
   "cell_type": "code",
   "execution_count": 430,
   "id": "3d835dc5",
   "metadata": {},
   "outputs": [],
   "source": [
    "#Select the first 31 columns as features \n",
    "X_1=Data_normal_New.iloc[:,:31]\n",
    "#Slecte the 41-50 columns as targets \n",
    "y_1=Data_normal_New.iloc[:,-1]"
   ]
  },
  {
   "cell_type": "code",
   "execution_count": 431,
   "id": "0244261d",
   "metadata": {},
   "outputs": [],
   "source": [
    "#Select the first 40 columns as features \n",
    "X_2=Data_anormal_New.iloc[:,:31]\n",
    "#Slecte the 41-50 columns as targets \n",
    "y_2=Data_anormal_New.iloc[:,31:40]"
   ]
  },
  {
   "cell_type": "code",
   "execution_count": 432,
   "id": "5c656cca",
   "metadata": {},
   "outputs": [
    {
     "data": {
      "text/html": [
       "<div>\n",
       "<style scoped>\n",
       "    .dataframe tbody tr th:only-of-type {\n",
       "        vertical-align: middle;\n",
       "    }\n",
       "\n",
       "    .dataframe tbody tr th {\n",
       "        vertical-align: top;\n",
       "    }\n",
       "\n",
       "    .dataframe thead th {\n",
       "        text-align: right;\n",
       "    }\n",
       "</style>\n",
       "<table border=\"1\" class=\"dataframe\">\n",
       "  <thead>\n",
       "    <tr style=\"text-align: right;\">\n",
       "      <th></th>\n",
       "      <th>dur</th>\n",
       "      <th>sbytes</th>\n",
       "      <th>dbytes</th>\n",
       "      <th>sttl</th>\n",
       "      <th>dttl</th>\n",
       "      <th>sloss</th>\n",
       "      <th>dloss</th>\n",
       "      <th>Dload</th>\n",
       "      <th>Spkts</th>\n",
       "      <th>Dpkts</th>\n",
       "      <th>...</th>\n",
       "      <th>is_sm_ips_ports</th>\n",
       "      <th>ct_state_ttl</th>\n",
       "      <th>ct_flw_http_mthd</th>\n",
       "      <th>ct_ftp_cmd</th>\n",
       "      <th>ct_srv_src</th>\n",
       "      <th>ct_srv_dst</th>\n",
       "      <th>ct_dst_ltm</th>\n",
       "      <th>ct_src_ ltm</th>\n",
       "      <th>ct_dst_sport_ltm</th>\n",
       "      <th>ct_dst_src_ltm</th>\n",
       "    </tr>\n",
       "  </thead>\n",
       "  <tbody>\n",
       "    <tr>\n",
       "      <th>0</th>\n",
       "      <td>0.000021</td>\n",
       "      <td>728</td>\n",
       "      <td>0</td>\n",
       "      <td>254</td>\n",
       "      <td>0</td>\n",
       "      <td>0</td>\n",
       "      <td>0</td>\n",
       "      <td>0.000000</td>\n",
       "      <td>2</td>\n",
       "      <td>0</td>\n",
       "      <td>...</td>\n",
       "      <td>0</td>\n",
       "      <td>2</td>\n",
       "      <td>0</td>\n",
       "      <td>0</td>\n",
       "      <td>1</td>\n",
       "      <td>1</td>\n",
       "      <td>1</td>\n",
       "      <td>1</td>\n",
       "      <td>1</td>\n",
       "      <td>1</td>\n",
       "    </tr>\n",
       "    <tr>\n",
       "      <th>1</th>\n",
       "      <td>0.240139</td>\n",
       "      <td>918</td>\n",
       "      <td>25552</td>\n",
       "      <td>62</td>\n",
       "      <td>252</td>\n",
       "      <td>2</td>\n",
       "      <td>10</td>\n",
       "      <td>815794.187500</td>\n",
       "      <td>12</td>\n",
       "      <td>24</td>\n",
       "      <td>...</td>\n",
       "      <td>0</td>\n",
       "      <td>1</td>\n",
       "      <td>1</td>\n",
       "      <td>0</td>\n",
       "      <td>3</td>\n",
       "      <td>2</td>\n",
       "      <td>2</td>\n",
       "      <td>1</td>\n",
       "      <td>1</td>\n",
       "      <td>1</td>\n",
       "    </tr>\n",
       "    <tr>\n",
       "      <th>2</th>\n",
       "      <td>2.390390</td>\n",
       "      <td>1362</td>\n",
       "      <td>268</td>\n",
       "      <td>254</td>\n",
       "      <td>252</td>\n",
       "      <td>6</td>\n",
       "      <td>1</td>\n",
       "      <td>749.668518</td>\n",
       "      <td>14</td>\n",
       "      <td>6</td>\n",
       "      <td>...</td>\n",
       "      <td>0</td>\n",
       "      <td>1</td>\n",
       "      <td>1</td>\n",
       "      <td>0</td>\n",
       "      <td>5</td>\n",
       "      <td>2</td>\n",
       "      <td>2</td>\n",
       "      <td>1</td>\n",
       "      <td>1</td>\n",
       "      <td>1</td>\n",
       "    </tr>\n",
       "    <tr>\n",
       "      <th>3</th>\n",
       "      <td>0.175190</td>\n",
       "      <td>8168</td>\n",
       "      <td>268</td>\n",
       "      <td>254</td>\n",
       "      <td>252</td>\n",
       "      <td>4</td>\n",
       "      <td>1</td>\n",
       "      <td>10228.894530</td>\n",
       "      <td>14</td>\n",
       "      <td>6</td>\n",
       "      <td>...</td>\n",
       "      <td>0</td>\n",
       "      <td>1</td>\n",
       "      <td>0</td>\n",
       "      <td>0</td>\n",
       "      <td>1</td>\n",
       "      <td>1</td>\n",
       "      <td>1</td>\n",
       "      <td>1</td>\n",
       "      <td>1</td>\n",
       "      <td>1</td>\n",
       "    </tr>\n",
       "    <tr>\n",
       "      <th>4</th>\n",
       "      <td>0.190600</td>\n",
       "      <td>844</td>\n",
       "      <td>268</td>\n",
       "      <td>254</td>\n",
       "      <td>252</td>\n",
       "      <td>2</td>\n",
       "      <td>1</td>\n",
       "      <td>9401.888672</td>\n",
       "      <td>10</td>\n",
       "      <td>6</td>\n",
       "      <td>...</td>\n",
       "      <td>0</td>\n",
       "      <td>1</td>\n",
       "      <td>1</td>\n",
       "      <td>0</td>\n",
       "      <td>3</td>\n",
       "      <td>1</td>\n",
       "      <td>1</td>\n",
       "      <td>1</td>\n",
       "      <td>1</td>\n",
       "      <td>1</td>\n",
       "    </tr>\n",
       "    <tr>\n",
       "      <th>...</th>\n",
       "      <td>...</td>\n",
       "      <td>...</td>\n",
       "      <td>...</td>\n",
       "      <td>...</td>\n",
       "      <td>...</td>\n",
       "      <td>...</td>\n",
       "      <td>...</td>\n",
       "      <td>...</td>\n",
       "      <td>...</td>\n",
       "      <td>...</td>\n",
       "      <td>...</td>\n",
       "      <td>...</td>\n",
       "      <td>...</td>\n",
       "      <td>...</td>\n",
       "      <td>...</td>\n",
       "      <td>...</td>\n",
       "      <td>...</td>\n",
       "      <td>...</td>\n",
       "      <td>...</td>\n",
       "      <td>...</td>\n",
       "      <td>...</td>\n",
       "    </tr>\n",
       "    <tr>\n",
       "      <th>22210</th>\n",
       "      <td>31.461020</td>\n",
       "      <td>924</td>\n",
       "      <td>708</td>\n",
       "      <td>254</td>\n",
       "      <td>252</td>\n",
       "      <td>2</td>\n",
       "      <td>1</td>\n",
       "      <td>168.843857</td>\n",
       "      <td>16</td>\n",
       "      <td>16</td>\n",
       "      <td>...</td>\n",
       "      <td>0</td>\n",
       "      <td>1</td>\n",
       "      <td>0</td>\n",
       "      <td>0</td>\n",
       "      <td>6</td>\n",
       "      <td>6</td>\n",
       "      <td>2</td>\n",
       "      <td>2</td>\n",
       "      <td>1</td>\n",
       "      <td>2</td>\n",
       "    </tr>\n",
       "    <tr>\n",
       "      <th>22211</th>\n",
       "      <td>57.995934</td>\n",
       "      <td>1362</td>\n",
       "      <td>536</td>\n",
       "      <td>254</td>\n",
       "      <td>252</td>\n",
       "      <td>6</td>\n",
       "      <td>1</td>\n",
       "      <td>67.866829</td>\n",
       "      <td>20</td>\n",
       "      <td>12</td>\n",
       "      <td>...</td>\n",
       "      <td>0</td>\n",
       "      <td>1</td>\n",
       "      <td>0</td>\n",
       "      <td>0</td>\n",
       "      <td>6</td>\n",
       "      <td>6</td>\n",
       "      <td>2</td>\n",
       "      <td>2</td>\n",
       "      <td>1</td>\n",
       "      <td>2</td>\n",
       "    </tr>\n",
       "    <tr>\n",
       "      <th>22212</th>\n",
       "      <td>32.361782</td>\n",
       "      <td>1128</td>\n",
       "      <td>622</td>\n",
       "      <td>254</td>\n",
       "      <td>252</td>\n",
       "      <td>6</td>\n",
       "      <td>1</td>\n",
       "      <td>142.884598</td>\n",
       "      <td>18</td>\n",
       "      <td>14</td>\n",
       "      <td>...</td>\n",
       "      <td>0</td>\n",
       "      <td>1</td>\n",
       "      <td>0</td>\n",
       "      <td>0</td>\n",
       "      <td>6</td>\n",
       "      <td>6</td>\n",
       "      <td>2</td>\n",
       "      <td>2</td>\n",
       "      <td>1</td>\n",
       "      <td>2</td>\n",
       "    </tr>\n",
       "    <tr>\n",
       "      <th>22213</th>\n",
       "      <td>0.476639</td>\n",
       "      <td>470</td>\n",
       "      <td>354</td>\n",
       "      <td>254</td>\n",
       "      <td>252</td>\n",
       "      <td>1</td>\n",
       "      <td>1</td>\n",
       "      <td>6915.086426</td>\n",
       "      <td>8</td>\n",
       "      <td>8</td>\n",
       "      <td>...</td>\n",
       "      <td>0</td>\n",
       "      <td>1</td>\n",
       "      <td>0</td>\n",
       "      <td>0</td>\n",
       "      <td>8</td>\n",
       "      <td>8</td>\n",
       "      <td>2</td>\n",
       "      <td>2</td>\n",
       "      <td>1</td>\n",
       "      <td>2</td>\n",
       "    </tr>\n",
       "    <tr>\n",
       "      <th>22214</th>\n",
       "      <td>0.343431</td>\n",
       "      <td>550</td>\n",
       "      <td>268</td>\n",
       "      <td>254</td>\n",
       "      <td>252</td>\n",
       "      <td>2</td>\n",
       "      <td>0</td>\n",
       "      <td>5217.933105</td>\n",
       "      <td>10</td>\n",
       "      <td>6</td>\n",
       "      <td>...</td>\n",
       "      <td>0</td>\n",
       "      <td>1</td>\n",
       "      <td>0</td>\n",
       "      <td>0</td>\n",
       "      <td>5</td>\n",
       "      <td>5</td>\n",
       "      <td>3</td>\n",
       "      <td>3</td>\n",
       "      <td>1</td>\n",
       "      <td>3</td>\n",
       "    </tr>\n",
       "  </tbody>\n",
       "</table>\n",
       "<p>22215 rows × 31 columns</p>\n",
       "</div>"
      ],
      "text/plain": [
       "             dur  sbytes  dbytes  sttl  dttl  sloss  dloss          Dload  \\\n",
       "0       0.000021     728       0   254     0      0      0       0.000000   \n",
       "1       0.240139     918   25552    62   252      2     10  815794.187500   \n",
       "2       2.390390    1362     268   254   252      6      1     749.668518   \n",
       "3       0.175190    8168     268   254   252      4      1   10228.894530   \n",
       "4       0.190600     844     268   254   252      2      1    9401.888672   \n",
       "...          ...     ...     ...   ...   ...    ...    ...            ...   \n",
       "22210  31.461020     924     708   254   252      2      1     168.843857   \n",
       "22211  57.995934    1362     536   254   252      6      1      67.866829   \n",
       "22212  32.361782    1128     622   254   252      6      1     142.884598   \n",
       "22213   0.476639     470     354   254   252      1      1    6915.086426   \n",
       "22214   0.343431     550     268   254   252      2      0    5217.933105   \n",
       "\n",
       "       Spkts  Dpkts  ...  is_sm_ips_ports  ct_state_ttl  ct_flw_http_mthd  \\\n",
       "0          2      0  ...                0             2                 0   \n",
       "1         12     24  ...                0             1                 1   \n",
       "2         14      6  ...                0             1                 1   \n",
       "3         14      6  ...                0             1                 0   \n",
       "4         10      6  ...                0             1                 1   \n",
       "...      ...    ...  ...              ...           ...               ...   \n",
       "22210     16     16  ...                0             1                 0   \n",
       "22211     20     12  ...                0             1                 0   \n",
       "22212     18     14  ...                0             1                 0   \n",
       "22213      8      8  ...                0             1                 0   \n",
       "22214     10      6  ...                0             1                 0   \n",
       "\n",
       "       ct_ftp_cmd  ct_srv_src  ct_srv_dst  ct_dst_ltm  ct_src_ ltm  \\\n",
       "0               0           1           1           1            1   \n",
       "1               0           3           2           2            1   \n",
       "2               0           5           2           2            1   \n",
       "3               0           1           1           1            1   \n",
       "4               0           3           1           1            1   \n",
       "...           ...         ...         ...         ...          ...   \n",
       "22210           0           6           6           2            2   \n",
       "22211           0           6           6           2            2   \n",
       "22212           0           6           6           2            2   \n",
       "22213           0           8           8           2            2   \n",
       "22214           0           5           5           3            3   \n",
       "\n",
       "       ct_dst_sport_ltm  ct_dst_src_ltm  \n",
       "0                     1               1  \n",
       "1                     1               1  \n",
       "2                     1               1  \n",
       "3                     1               1  \n",
       "4                     1               1  \n",
       "...                 ...             ...  \n",
       "22210                 1               2  \n",
       "22211                 1               2  \n",
       "22212                 1               2  \n",
       "22213                 1               2  \n",
       "22214                 1               3  \n",
       "\n",
       "[22215 rows x 31 columns]"
      ]
     },
     "execution_count": 432,
     "metadata": {},
     "output_type": "execute_result"
    }
   ],
   "source": [
    "X_2"
   ]
  },
  {
   "cell_type": "code",
   "execution_count": 433,
   "id": "470c2b55",
   "metadata": {},
   "outputs": [
    {
     "data": {
      "text/html": [
       "<div>\n",
       "<style scoped>\n",
       "    .dataframe tbody tr th:only-of-type {\n",
       "        vertical-align: middle;\n",
       "    }\n",
       "\n",
       "    .dataframe tbody tr th {\n",
       "        vertical-align: top;\n",
       "    }\n",
       "\n",
       "    .dataframe thead th {\n",
       "        text-align: right;\n",
       "    }\n",
       "</style>\n",
       "<table border=\"1\" class=\"dataframe\">\n",
       "  <thead>\n",
       "    <tr style=\"text-align: right;\">\n",
       "      <th></th>\n",
       "      <th>Fuzzers</th>\n",
       "      <th>Analysis</th>\n",
       "      <th>Backdoors</th>\n",
       "      <th>DoS</th>\n",
       "      <th>Exploits</th>\n",
       "      <th>Generic</th>\n",
       "      <th>Reconnaissance</th>\n",
       "      <th>Shellcode</th>\n",
       "      <th>Worms</th>\n",
       "    </tr>\n",
       "  </thead>\n",
       "  <tbody>\n",
       "    <tr>\n",
       "      <th>0</th>\n",
       "      <td>0</td>\n",
       "      <td>0</td>\n",
       "      <td>0</td>\n",
       "      <td>0</td>\n",
       "      <td>1</td>\n",
       "      <td>0</td>\n",
       "      <td>0</td>\n",
       "      <td>0</td>\n",
       "      <td>0</td>\n",
       "    </tr>\n",
       "    <tr>\n",
       "      <th>1</th>\n",
       "      <td>0</td>\n",
       "      <td>0</td>\n",
       "      <td>0</td>\n",
       "      <td>0</td>\n",
       "      <td>1</td>\n",
       "      <td>0</td>\n",
       "      <td>0</td>\n",
       "      <td>0</td>\n",
       "      <td>0</td>\n",
       "    </tr>\n",
       "    <tr>\n",
       "      <th>2</th>\n",
       "      <td>0</td>\n",
       "      <td>0</td>\n",
       "      <td>0</td>\n",
       "      <td>0</td>\n",
       "      <td>0</td>\n",
       "      <td>0</td>\n",
       "      <td>1</td>\n",
       "      <td>0</td>\n",
       "      <td>0</td>\n",
       "    </tr>\n",
       "    <tr>\n",
       "      <th>3</th>\n",
       "      <td>0</td>\n",
       "      <td>0</td>\n",
       "      <td>0</td>\n",
       "      <td>0</td>\n",
       "      <td>1</td>\n",
       "      <td>0</td>\n",
       "      <td>0</td>\n",
       "      <td>0</td>\n",
       "      <td>0</td>\n",
       "    </tr>\n",
       "    <tr>\n",
       "      <th>4</th>\n",
       "      <td>0</td>\n",
       "      <td>0</td>\n",
       "      <td>0</td>\n",
       "      <td>0</td>\n",
       "      <td>1</td>\n",
       "      <td>0</td>\n",
       "      <td>0</td>\n",
       "      <td>0</td>\n",
       "      <td>0</td>\n",
       "    </tr>\n",
       "    <tr>\n",
       "      <th>...</th>\n",
       "      <td>...</td>\n",
       "      <td>...</td>\n",
       "      <td>...</td>\n",
       "      <td>...</td>\n",
       "      <td>...</td>\n",
       "      <td>...</td>\n",
       "      <td>...</td>\n",
       "      <td>...</td>\n",
       "      <td>...</td>\n",
       "    </tr>\n",
       "    <tr>\n",
       "      <th>22210</th>\n",
       "      <td>1</td>\n",
       "      <td>0</td>\n",
       "      <td>0</td>\n",
       "      <td>0</td>\n",
       "      <td>0</td>\n",
       "      <td>0</td>\n",
       "      <td>0</td>\n",
       "      <td>0</td>\n",
       "      <td>0</td>\n",
       "    </tr>\n",
       "    <tr>\n",
       "      <th>22211</th>\n",
       "      <td>1</td>\n",
       "      <td>0</td>\n",
       "      <td>0</td>\n",
       "      <td>0</td>\n",
       "      <td>0</td>\n",
       "      <td>0</td>\n",
       "      <td>0</td>\n",
       "      <td>0</td>\n",
       "      <td>0</td>\n",
       "    </tr>\n",
       "    <tr>\n",
       "      <th>22212</th>\n",
       "      <td>1</td>\n",
       "      <td>0</td>\n",
       "      <td>0</td>\n",
       "      <td>0</td>\n",
       "      <td>0</td>\n",
       "      <td>0</td>\n",
       "      <td>0</td>\n",
       "      <td>0</td>\n",
       "      <td>0</td>\n",
       "    </tr>\n",
       "    <tr>\n",
       "      <th>22213</th>\n",
       "      <td>1</td>\n",
       "      <td>0</td>\n",
       "      <td>0</td>\n",
       "      <td>0</td>\n",
       "      <td>0</td>\n",
       "      <td>0</td>\n",
       "      <td>0</td>\n",
       "      <td>0</td>\n",
       "      <td>0</td>\n",
       "    </tr>\n",
       "    <tr>\n",
       "      <th>22214</th>\n",
       "      <td>1</td>\n",
       "      <td>0</td>\n",
       "      <td>0</td>\n",
       "      <td>0</td>\n",
       "      <td>0</td>\n",
       "      <td>0</td>\n",
       "      <td>0</td>\n",
       "      <td>0</td>\n",
       "      <td>0</td>\n",
       "    </tr>\n",
       "  </tbody>\n",
       "</table>\n",
       "<p>22215 rows × 9 columns</p>\n",
       "</div>"
      ],
      "text/plain": [
       "        Fuzzers  Analysis  Backdoors  DoS  Exploits  Generic  Reconnaissance  \\\n",
       "0             0         0          0    0         1        0               0   \n",
       "1             0         0          0    0         1        0               0   \n",
       "2             0         0          0    0         0        0               1   \n",
       "3             0         0          0    0         1        0               0   \n",
       "4             0         0          0    0         1        0               0   \n",
       "...         ...       ...        ...  ...       ...      ...             ...   \n",
       "22210         1         0          0    0         0        0               0   \n",
       "22211         1         0          0    0         0        0               0   \n",
       "22212         1         0          0    0         0        0               0   \n",
       "22213         1         0          0    0         0        0               0   \n",
       "22214         1         0          0    0         0        0               0   \n",
       "\n",
       "       Shellcode  Worms  \n",
       "0              0      0  \n",
       "1              0      0  \n",
       "2              0      0  \n",
       "3              0      0  \n",
       "4              0      0  \n",
       "...          ...    ...  \n",
       "22210          0      0  \n",
       "22211          0      0  \n",
       "22212          0      0  \n",
       "22213          0      0  \n",
       "22214          0      0  \n",
       "\n",
       "[22215 rows x 9 columns]"
      ]
     },
     "execution_count": 433,
     "metadata": {},
     "output_type": "execute_result"
    }
   ],
   "source": [
    "y_2"
   ]
  },
  {
   "cell_type": "markdown",
   "id": "1767bdb7",
   "metadata": {},
   "source": [
    "# PCA Dimensionality Reduciton Based on # 31 Feaures\n",
    "# Normal Activity "
   ]
  },
  {
   "cell_type": "code",
   "execution_count": 434,
   "id": "d58334e7",
   "metadata": {},
   "outputs": [],
   "source": [
    "# Data stadanrdisation \n",
    "import pandas as pd\n",
    "import numpy as np\n",
    "import matplotlib.pyplot as plt\n",
    "from sklearn.decomposition import PCA\n",
    "from sklearn.preprocessing import StandardScaler"
   ]
  },
  {
   "cell_type": "code",
   "execution_count": 435,
   "id": "317dbdca",
   "metadata": {},
   "outputs": [
    {
     "data": {
      "text/plain": [
       "array([[3.6133e-02, 5.2800e+02, 3.0400e+02, ..., 3.0000e+00, 1.0000e+00,\n",
       "        2.0000e+00],\n",
       "       [1.1190e-03, 1.4600e+02, 1.7800e+02, ..., 2.0000e+00, 1.0000e+00,\n",
       "        1.0000e+00],\n",
       "       [1.2090e-03, 1.3200e+02, 1.6400e+02, ..., 1.0000e+00, 1.0000e+00,\n",
       "        1.0000e+00],\n",
       "       ...,\n",
       "       [7.1080e-03, 2.1580e+03, 2.4640e+03, ..., 7.0000e+00, 1.0000e+00,\n",
       "        2.0000e+00],\n",
       "       [4.4350e-03, 5.6800e+02, 3.0400e+02, ..., 5.0000e+00, 1.0000e+00,\n",
       "        3.0000e+00],\n",
       "       [7.2974e-02, 4.2380e+03, 6.0788e+04, ..., 7.0000e+00, 1.0000e+00,\n",
       "        2.0000e+00]])"
      ]
     },
     "execution_count": 435,
     "metadata": {},
     "output_type": "execute_result"
    }
   ],
   "source": [
    "X_1=np.array(X_1)\n",
    "X_1"
   ]
  },
  {
   "cell_type": "code",
   "execution_count": 436,
   "id": "286e4abc",
   "metadata": {},
   "outputs": [],
   "source": [
    "y_1=np.array(y_1)"
   ]
  },
  {
   "cell_type": "code",
   "execution_count": 437,
   "id": "fc04954c",
   "metadata": {},
   "outputs": [
    {
     "data": {
      "text/plain": [
       "array([[2.1000000e-05, 7.2800000e+02, 0.0000000e+00, ..., 1.0000000e+00,\n",
       "        1.0000000e+00, 1.0000000e+00],\n",
       "       [2.4013900e-01, 9.1800000e+02, 2.5552000e+04, ..., 1.0000000e+00,\n",
       "        1.0000000e+00, 1.0000000e+00],\n",
       "       [2.3903900e+00, 1.3620000e+03, 2.6800000e+02, ..., 1.0000000e+00,\n",
       "        1.0000000e+00, 1.0000000e+00],\n",
       "       ...,\n",
       "       [3.2361782e+01, 1.1280000e+03, 6.2200000e+02, ..., 2.0000000e+00,\n",
       "        1.0000000e+00, 2.0000000e+00],\n",
       "       [4.7663900e-01, 4.7000000e+02, 3.5400000e+02, ..., 2.0000000e+00,\n",
       "        1.0000000e+00, 2.0000000e+00],\n",
       "       [3.4343100e-01, 5.5000000e+02, 2.6800000e+02, ..., 3.0000000e+00,\n",
       "        1.0000000e+00, 3.0000000e+00]])"
      ]
     },
     "execution_count": 437,
     "metadata": {},
     "output_type": "execute_result"
    }
   ],
   "source": [
    "X_2=np.array(X_2)\n",
    "X_2"
   ]
  },
  {
   "cell_type": "code",
   "execution_count": 438,
   "id": "73eeb539",
   "metadata": {},
   "outputs": [],
   "source": [
    "y_2=np.array(y_2)"
   ]
  },
  {
   "cell_type": "code",
   "execution_count": 439,
   "id": "46c027c2",
   "metadata": {},
   "outputs": [
    {
     "data": {
      "text/plain": [
       "array([[-0.03101792, -0.32008321, -0.26430713, ..., -0.40326412,\n",
       "        -0.26522393, -0.07546912],\n",
       "       [-0.03234724, -0.34907416, -0.26498279, ..., -0.63999641,\n",
       "        -0.26522393, -0.52870577],\n",
       "       [-0.03234382, -0.35013666, -0.26505786, ..., -0.8767287 ,\n",
       "        -0.26522393, -0.52870577],\n",
       "       ...,\n",
       "       [-0.03211986, -0.19637838, -0.25272444, ...,  0.54366505,\n",
       "        -0.26522393, -0.07546912],\n",
       "       [-0.03222134, -0.31704751, -0.26430713, ...,  0.07020047,\n",
       "        -0.26522393,  0.37776754],\n",
       "       [-0.02961924, -0.0385219 ,  0.06002974, ...,  0.54366505,\n",
       "        -0.26522393, -0.07546912]])"
      ]
     },
     "execution_count": 439,
     "metadata": {},
     "output_type": "execute_result"
    }
   ],
   "source": [
    "#Standardizing the features\n",
    "X_1=StandardScaler().fit_transform(X_1)\n",
    "X_1"
   ]
  },
  {
   "cell_type": "code",
   "execution_count": 440,
   "id": "026992fd",
   "metadata": {},
   "outputs": [
    {
     "data": {
      "text/plain": [
       "array([[-0.22178396, -0.05116214, -0.05839909, ..., -0.94960919,\n",
       "        -0.75735414, -0.81833853],\n",
       "       [-0.17650699, -0.05037428,  0.09388357, ..., -0.94960919,\n",
       "        -0.75735414, -0.81833853],\n",
       "       [ 0.22894725, -0.04853316, -0.05680189, ..., -0.94960919,\n",
       "        -0.75735414, -0.81833853],\n",
       "       ...,\n",
       "       [ 5.8803935 , -0.04950348, -0.05469215, ..., -0.58505654,\n",
       "        -0.75735414, -0.37527376],\n",
       "       [-0.13191222, -0.05223198, -0.05628936, ..., -0.58505654,\n",
       "        -0.75735414, -0.37527376],\n",
       "       [-0.15703011, -0.05190025, -0.05680189, ..., -0.22050389,\n",
       "        -0.75735414,  0.067791  ]])"
      ]
     },
     "execution_count": 440,
     "metadata": {},
     "output_type": "execute_result"
    }
   ],
   "source": [
    "X_2=StandardScaler().fit_transform(X_2)\n",
    "X_2"
   ]
  },
  {
   "cell_type": "code",
   "execution_count": 441,
   "id": "388e7099",
   "metadata": {},
   "outputs": [],
   "source": [
    "# Normal Activity Data PCA Dimensionality Reduction "
   ]
  },
  {
   "cell_type": "code",
   "execution_count": 468,
   "id": "33c5ca4b",
   "metadata": {},
   "outputs": [
    {
     "data": {
      "text/plain": [
       "array([1.81232295e-01, 1.24959364e-01, 1.09833441e-01, 6.71027579e-02,\n",
       "       6.46284264e-02, 6.14125455e-02, 4.67569024e-02, 4.23202428e-02,\n",
       "       3.69171219e-02, 3.23248668e-02, 3.04333462e-02, 2.85064611e-02,\n",
       "       2.21072304e-02, 2.18393958e-02, 1.93263240e-02, 1.84560048e-02,\n",
       "       1.58264624e-02, 1.46828682e-02, 1.15818869e-02, 9.82588860e-03,\n",
       "       8.72078893e-03, 8.61531445e-03, 6.33481376e-03, 6.28513331e-03,\n",
       "       5.95279559e-03, 3.79268153e-03, 1.96015303e-04, 2.05429185e-05,\n",
       "       7.71762109e-06])"
      ]
     },
     "execution_count": 468,
     "metadata": {},
     "output_type": "execute_result"
    }
   ],
   "source": [
    "#29 Features \n",
    "pca = PCA(n_components=29)\n",
    "principalComponents_normal_29 = pca.fit_transform(X_1)\n",
    "pca.explained_variance_ratio_"
   ]
  },
  {
   "cell_type": "code",
   "execution_count": 469,
   "id": "118786c6",
   "metadata": {},
   "outputs": [
    {
     "data": {
      "image/png": "[encoded data removed]",
      "text/plain": [
       "<Figure size 432x288 with 1 Axes>"
      ]
     },
     "metadata": {
      "needs_background": "light"
     },
     "output_type": "display_data"
    }
   ],
   "source": [
    "importance = pca.explained_variance_ratio_\n",
    "plt.scatter(range(1,30),importance)\n",
    "plt.plot(range(1,30),importance)\n",
    "plt.title('Scree Plot')\n",
    "plt.xlabel('Factors')\n",
    "plt.ylabel('Eigenvalue')\n",
    "plt.grid()\n",
    "plt.show()"
   ]
  },
  {
   "cell_type": "code",
   "execution_count": 443,
   "id": "7e24c81e",
   "metadata": {},
   "outputs": [
    {
     "data": {
      "text/plain": [
       "Text(0, 0.5, 'cumlative explained variance')"
      ]
     },
     "execution_count": 443,
     "metadata": {},
     "output_type": "execute_result"
    },
    {
     "data": {
      "image/png": "[encoded data removed]",
      "text/plain": [
       "<Figure size 432x288 with 1 Axes>"
      ]
     },
     "metadata": {
      "needs_background": "light"
     },
     "output_type": "display_data"
    }
   ],
   "source": [
    "plt.plot(np.cumsum(pca.explained_variance_ratio_))\n",
    "plt.xlabel('number of components')\n",
    "plt.ylabel('cumlative explained variance')"
   ]
  },
  {
   "cell_type": "code",
   "execution_count": 267,
   "id": "c77dee82",
   "metadata": {},
   "outputs": [
    {
     "data": {
      "text/plain": [
       "array([0.1812323 , 0.30619166, 0.4160251 , 0.48312786, 0.54775628,\n",
       "       0.60916883, 0.65592573, 0.69824598, 0.7351631 , 0.76748796,\n",
       "       0.79792131, 0.82642777, 0.848535  , 0.8703744 , 0.88970072,\n",
       "       0.90815673, 0.92398319, 0.93866606, 0.95024794, 0.96007383,\n",
       "       0.96879462, 0.97740994, 0.98374475, 0.99002988, 0.99598268,\n",
       "       0.99977536, 0.99997138, 0.99999192, 0.99999964])"
      ]
     },
     "execution_count": 267,
     "metadata": {},
     "output_type": "execute_result"
    }
   ],
   "source": [
    "a=np.cumsum(pca.explained_variance_ratio_)\n",
    "a"
   ]
  },
  {
   "cell_type": "code",
   "execution_count": null,
   "id": "8fede594",
   "metadata": {},
   "outputs": [],
   "source": [
    "# Feature 20"
   ]
  },
  {
   "cell_type": "code",
   "execution_count": 444,
   "id": "b0381c3d",
   "metadata": {},
   "outputs": [
    {
     "data": {
      "text/plain": [
       "array([0.1812323 , 0.12495936, 0.10983344, 0.06710276, 0.06462843,\n",
       "       0.06141255, 0.0467569 , 0.04232024, 0.03691712, 0.03232487,\n",
       "       0.03043335, 0.02850646, 0.02210723, 0.0218394 , 0.01932632,\n",
       "       0.018456  , 0.01582646, 0.01468287, 0.01158189, 0.00982589])"
      ]
     },
     "execution_count": 444,
     "metadata": {},
     "output_type": "execute_result"
    }
   ],
   "source": [
    "pca = PCA(n_components=20)\n",
    "principalComponents_normal_20 = pca.fit_transform(X_1)\n",
    "pca.explained_variance_ratio_"
   ]
  },
  {
   "cell_type": "code",
   "execution_count": 445,
   "id": "c057ca05",
   "metadata": {},
   "outputs": [
    {
     "data": {
      "image/png": "[encoded data removed]",
      "text/plain": [
       "<Figure size 432x288 with 1 Axes>"
      ]
     },
     "metadata": {
      "needs_background": "light"
     },
     "output_type": "display_data"
    }
   ],
   "source": [
    "importance = pca.explained_variance_ratio_\n",
    "plt.scatter(range(1,21),importance)\n",
    "plt.plot(range(1,21),importance)\n",
    "plt.title('Scree Plot')\n",
    "plt.xlabel('Factors')\n",
    "plt.ylabel('Eigenvalue')\n",
    "plt.grid()\n",
    "plt.show()"
   ]
  },
  {
   "cell_type": "code",
   "execution_count": 446,
   "id": "8510429e",
   "metadata": {},
   "outputs": [
    {
     "data": {
      "text/plain": [
       "Text(0, 0.5, 'cumlative explained variance')"
      ]
     },
     "execution_count": 446,
     "metadata": {},
     "output_type": "execute_result"
    },
    {
     "data": {
      "image/png": "[encoded data removed]",
      "text/plain": [
       "<Figure size 432x288 with 1 Axes>"
      ]
     },
     "metadata": {
      "needs_background": "light"
     },
     "output_type": "display_data"
    }
   ],
   "source": [
    "plt.plot(np.cumsum(pca.explained_variance_ratio_))\n",
    "plt.xlabel('number of components')\n",
    "plt.ylabel('cumlative explained variance')"
   ]
  },
  {
   "cell_type": "code",
   "execution_count": 447,
   "id": "1802cd45",
   "metadata": {},
   "outputs": [
    {
     "data": {
      "text/plain": [
       "array([0.1812323 , 0.30619166, 0.4160251 , 0.48312786, 0.54775628,\n",
       "       0.60916883, 0.65592573, 0.69824598, 0.7351631 , 0.76748796,\n",
       "       0.79792131, 0.82642777, 0.848535  , 0.8703744 , 0.88970072,\n",
       "       0.90815673, 0.92398319, 0.93866606, 0.95024794, 0.96007383])"
      ]
     },
     "execution_count": 447,
     "metadata": {},
     "output_type": "execute_result"
    }
   ],
   "source": [
    "b=np.cumsum(pca.explained_variance_ratio_)\n",
    "b"
   ]
  },
  {
   "cell_type": "code",
   "execution_count": null,
   "id": "372ff090",
   "metadata": {},
   "outputs": [],
   "source": [
    "# Normal Feature 16"
   ]
  },
  {
   "cell_type": "code",
   "execution_count": 448,
   "id": "a605f8ea",
   "metadata": {},
   "outputs": [
    {
     "data": {
      "text/plain": [
       "array([0.1812323 , 0.12495936, 0.10983344, 0.06710276, 0.06462843,\n",
       "       0.06141255, 0.0467569 , 0.04232024, 0.03691712, 0.03232487,\n",
       "       0.03043335, 0.02850646, 0.02210723, 0.0218394 , 0.01932632,\n",
       "       0.018456  ])"
      ]
     },
     "execution_count": 448,
     "metadata": {},
     "output_type": "execute_result"
    }
   ],
   "source": [
    "pca = PCA(n_components=16)\n",
    "principalComponents_normal_16 = pca.fit_transform(X_1)\n",
    "pca.explained_variance_ratio_"
   ]
  },
  {
   "cell_type": "code",
   "execution_count": 452,
   "id": "9adec749",
   "metadata": {},
   "outputs": [
    {
     "name": "stdout",
     "output_type": "stream",
     "text": [
      "(677785, 16)\n"
     ]
    }
   ],
   "source": [
    "print(principalComponents_normal_16.shape)"
   ]
  },
  {
   "cell_type": "code",
   "execution_count": 450,
   "id": "0d237951",
   "metadata": {},
   "outputs": [
    {
     "data": {
      "image/png": "[encoded data removed]",
      "text/plain": [
       "<Figure size 432x288 with 1 Axes>"
      ]
     },
     "metadata": {
      "needs_background": "light"
     },
     "output_type": "display_data"
    }
   ],
   "source": [
    "importance = pca.explained_variance_ratio_\n",
    "plt.scatter(range(1,17),importance)\n",
    "plt.plot(range(1,17),importance)\n",
    "plt.title('Scree Plot')\n",
    "plt.xlabel('Factors')\n",
    "plt.ylabel('Eigenvalue')\n",
    "plt.grid()\n",
    "plt.show()"
   ]
  },
  {
   "cell_type": "code",
   "execution_count": 453,
   "id": "3fafa23b",
   "metadata": {},
   "outputs": [
    {
     "data": {
      "text/plain": [
       "Text(0, 0.5, 'cumlative explained variance')"
      ]
     },
     "execution_count": 453,
     "metadata": {},
     "output_type": "execute_result"
    },
    {
     "data": {
      "image/png": "[encoded data removed]",
      "text/plain": [
       "<Figure size 432x288 with 1 Axes>"
      ]
     },
     "metadata": {
      "needs_background": "light"
     },
     "output_type": "display_data"
    }
   ],
   "source": [
    "plt.plot(np.cumsum(pca.explained_variance_ratio_))\n",
    "plt.xlabel('number of components')\n",
    "plt.ylabel('cumlative explained variance')"
   ]
  },
  {
   "cell_type": "code",
   "execution_count": 276,
   "id": "10a8b669",
   "metadata": {},
   "outputs": [
    {
     "data": {
      "text/plain": [
       "array([0.1812323 , 0.30619166, 0.4160251 , 0.48312786, 0.54775628,\n",
       "       0.60916883, 0.65592573, 0.69824598, 0.7351631 , 0.76748796,\n",
       "       0.79792131, 0.82642777, 0.848535  , 0.8703744 , 0.88970072,\n",
       "       0.90815673, 0.92398319, 0.93866606])"
      ]
     },
     "execution_count": 276,
     "metadata": {},
     "output_type": "execute_result"
    }
   ],
   "source": [
    "c=np.cumsum(pca.explained_variance_ratio_)\n",
    "c"
   ]
  },
  {
   "cell_type": "code",
   "execution_count": null,
   "id": "6c893fbe",
   "metadata": {},
   "outputs": [],
   "source": [
    "# Normal Feature 15"
   ]
  },
  {
   "cell_type": "code",
   "execution_count": 454,
   "id": "4f998256",
   "metadata": {},
   "outputs": [
    {
     "data": {
      "text/plain": [
       "array([0.1812323 , 0.12495936, 0.10983344, 0.06710276, 0.06462843,\n",
       "       0.06141255, 0.0467569 , 0.04232024, 0.03691712, 0.03232487,\n",
       "       0.03043335, 0.02850646, 0.02210723, 0.02183939, 0.01932632])"
      ]
     },
     "execution_count": 454,
     "metadata": {},
     "output_type": "execute_result"
    }
   ],
   "source": [
    "pca = PCA(n_components=15)\n",
    "principalComponents_normal_15 = pca.fit_transform(X_1)\n",
    "pca.explained_variance_ratio_"
   ]
  },
  {
   "cell_type": "code",
   "execution_count": 455,
   "id": "26989259",
   "metadata": {},
   "outputs": [
    {
     "data": {
      "image/png": "[encoded data removed]",
      "text/plain": [
       "<Figure size 432x288 with 1 Axes>"
      ]
     },
     "metadata": {
      "needs_background": "light"
     },
     "output_type": "display_data"
    }
   ],
   "source": [
    "importance = pca.explained_variance_ratio_\n",
    "plt.scatter(range(1,16),importance)\n",
    "plt.plot(range(1,16),importance)\n",
    "plt.title('Scree Plot')\n",
    "plt.xlabel('Factors')\n",
    "plt.ylabel('Eigenvalue')\n",
    "plt.grid()\n",
    "plt.show()"
   ]
  },
  {
   "cell_type": "code",
   "execution_count": 456,
   "id": "2edb9fd6",
   "metadata": {},
   "outputs": [
    {
     "data": {
      "text/plain": [
       "Text(0, 0.5, 'cumlative explained variance')"
      ]
     },
     "execution_count": 456,
     "metadata": {},
     "output_type": "execute_result"
    },
    {
     "data": {
      "image/png": "[encoded data removed]",
      "text/plain": [
       "<Figure size 432x288 with 1 Axes>"
      ]
     },
     "metadata": {
      "needs_background": "light"
     },
     "output_type": "display_data"
    }
   ],
   "source": [
    "plt.plot(np.cumsum(pca.explained_variance_ratio_))\n",
    "plt.xlabel('number of components')\n",
    "plt.ylabel('cumlative explained variance')"
   ]
  },
  {
   "cell_type": "code",
   "execution_count": 457,
   "id": "de4f114f",
   "metadata": {},
   "outputs": [
    {
     "data": {
      "text/plain": [
       "array([0.1812323 , 0.30619166, 0.4160251 , 0.48312786, 0.54775628,\n",
       "       0.60916883, 0.65592573, 0.69824598, 0.7351631 , 0.76748796,\n",
       "       0.79792131, 0.82642777, 0.848535  , 0.8703744 , 0.88970072])"
      ]
     },
     "execution_count": 457,
     "metadata": {},
     "output_type": "execute_result"
    }
   ],
   "source": [
    "d=np.cumsum(pca.explained_variance_ratio_)\n",
    "d"
   ]
  },
  {
   "cell_type": "code",
   "execution_count": 281,
   "id": "09b8d49d",
   "metadata": {},
   "outputs": [],
   "source": [
    "#Normal Feature 13"
   ]
  },
  {
   "cell_type": "code",
   "execution_count": 462,
   "id": "71a71125",
   "metadata": {},
   "outputs": [
    {
     "data": {
      "text/plain": [
       "array([0.1812323 , 0.12495936, 0.10983344, 0.06710276, 0.06462843,\n",
       "       0.06141255, 0.0467569 , 0.04232024, 0.0369171 , 0.03232461,\n",
       "       0.0304331 , 0.02850642, 0.02210691])"
      ]
     },
     "execution_count": 462,
     "metadata": {},
     "output_type": "execute_result"
    }
   ],
   "source": [
    "pca = PCA(n_components=13)\n",
    "principalComponents_normal_13 = pca.fit_transform(X_1)\n",
    "pca.explained_variance_ratio_"
   ]
  },
  {
   "cell_type": "code",
   "execution_count": 463,
   "id": "40c8fe48",
   "metadata": {},
   "outputs": [
    {
     "name": "stdout",
     "output_type": "stream",
     "text": [
      "(677785, 13)\n"
     ]
    }
   ],
   "source": [
    "print(principalComponents_normal_13.shape)"
   ]
  },
  {
   "cell_type": "code",
   "execution_count": 464,
   "id": "f0aa71e2",
   "metadata": {},
   "outputs": [
    {
     "data": {
      "image/png": "[encoded data removed]",
      "text/plain": [
       "<Figure size 432x288 with 1 Axes>"
      ]
     },
     "metadata": {
      "needs_background": "light"
     },
     "output_type": "display_data"
    }
   ],
   "source": [
    "importance = pca.explained_variance_ratio_\n",
    "plt.scatter(range(1,14),importance)\n",
    "plt.plot(range(1,14),importance)\n",
    "plt.title('Scree Plot')\n",
    "plt.xlabel('Factors')\n",
    "plt.ylabel('Eigenvalue')\n",
    "plt.grid()\n",
    "plt.show()"
   ]
  },
  {
   "cell_type": "code",
   "execution_count": 465,
   "id": "b4491bbd",
   "metadata": {},
   "outputs": [
    {
     "data": {
      "text/plain": [
       "Text(0, 0.5, 'cumlative explained variance')"
      ]
     },
     "execution_count": 465,
     "metadata": {},
     "output_type": "execute_result"
    },
    {
     "data": {
      "image/png": "[encoded data removed]",
      "text/plain": [
       "<Figure size 432x288 with 1 Axes>"
      ]
     },
     "metadata": {
      "needs_background": "light"
     },
     "output_type": "display_data"
    }
   ],
   "source": [
    "plt.plot(np.cumsum(pca.explained_variance_ratio_))\n",
    "plt.xlabel('number of components')\n",
    "plt.ylabel('cumlative explained variance')"
   ]
  },
  {
   "cell_type": "code",
   "execution_count": 466,
   "id": "ced6369d",
   "metadata": {},
   "outputs": [
    {
     "data": {
      "text/plain": [
       "array([0.1812323 , 0.30619166, 0.4160251 , 0.48312786, 0.54775628,\n",
       "       0.60916883, 0.65592573, 0.69824597, 0.73516307, 0.76748767,\n",
       "       0.79792078, 0.8264272 , 0.84853411])"
      ]
     },
     "execution_count": 466,
     "metadata": {},
     "output_type": "execute_result"
    }
   ],
   "source": [
    "e=np.cumsum(pca.explained_variance_ratio_)\n",
    "e"
   ]
  },
  {
   "cell_type": "code",
   "execution_count": 470,
   "id": "962f10d1",
   "metadata": {},
   "outputs": [
    {
     "data": {
      "text/plain": [
       "array([0.1812323 , 0.12495936, 0.10983344, 0.06710276, 0.06462843,\n",
       "       0.06141255, 0.0467569 , 0.04232024, 0.03691712, 0.03232487,\n",
       "       0.03043327, 0.02850639])"
      ]
     },
     "execution_count": 470,
     "metadata": {},
     "output_type": "execute_result"
    }
   ],
   "source": [
    "#Feature 12 \n",
    "pca = PCA(n_components=12)\n",
    "principalComponents_normal_12 = pca.fit_transform(X_1)\n",
    "pca.explained_variance_ratio_"
   ]
  },
  {
   "cell_type": "code",
   "execution_count": 471,
   "id": "3c0f34a9",
   "metadata": {},
   "outputs": [
    {
     "data": {
      "image/png": "[encoded data removed]",
      "text/plain": [
       "<Figure size 432x288 with 1 Axes>"
      ]
     },
     "metadata": {
      "needs_background": "light"
     },
     "output_type": "display_data"
    }
   ],
   "source": [
    "importance = pca.explained_variance_ratio_\n",
    "plt.scatter(range(1,13),importance)\n",
    "plt.plot(range(1,13),importance)\n",
    "plt.title('Scree Plot')\n",
    "plt.xlabel('Factors')\n",
    "plt.ylabel('Eigenvalue')\n",
    "plt.grid()\n",
    "plt.show()"
   ]
  },
  {
   "cell_type": "code",
   "execution_count": 472,
   "id": "8949808e",
   "metadata": {},
   "outputs": [
    {
     "data": {
      "text/plain": [
       "Text(0, 0.5, 'cumlative explained variance')"
      ]
     },
     "execution_count": 472,
     "metadata": {},
     "output_type": "execute_result"
    },
    {
     "data": {
      "image/png": "[encoded data removed]",
      "text/plain": [
       "<Figure size 432x288 with 1 Axes>"
      ]
     },
     "metadata": {
      "needs_background": "light"
     },
     "output_type": "display_data"
    }
   ],
   "source": [
    "plt.plot(np.cumsum(pca.explained_variance_ratio_))\n",
    "plt.xlabel('number of components')\n",
    "plt.ylabel('cumlative explained variance')"
   ]
  },
  {
   "cell_type": "code",
   "execution_count": 473,
   "id": "f26d6657",
   "metadata": {},
   "outputs": [
    {
     "data": {
      "text/plain": [
       "array([0.1812323 , 0.30619166, 0.4160251 , 0.48312786, 0.54775628,\n",
       "       0.60916883, 0.65592573, 0.69824597, 0.73516309, 0.76748796,\n",
       "       0.79792123, 0.82642762])"
      ]
     },
     "execution_count": 473,
     "metadata": {},
     "output_type": "execute_result"
    }
   ],
   "source": [
    "f=np.cumsum(pca.explained_variance_ratio_)\n",
    "f"
   ]
  },
  {
   "cell_type": "code",
   "execution_count": 474,
   "id": "46c1e0a4",
   "metadata": {},
   "outputs": [
    {
     "data": {
      "text/plain": [
       "array([0.1812323 , 0.12495936, 0.10983344, 0.06710276, 0.06462842,\n",
       "       0.06141253, 0.04675676, 0.0423202 , 0.03691677])"
      ]
     },
     "execution_count": 474,
     "metadata": {},
     "output_type": "execute_result"
    }
   ],
   "source": [
    "#Feature 9\n",
    "pca = PCA(n_components=9)\n",
    "principalComponents_normal_9 = pca.fit_transform(X_1)\n",
    "pca.explained_variance_ratio_"
   ]
  },
  {
   "cell_type": "code",
   "execution_count": 475,
   "id": "e2ecca78",
   "metadata": {},
   "outputs": [
    {
     "data": {
      "image/png": "[encoded data removed]",
      "text/plain": [
       "<Figure size 432x288 with 1 Axes>"
      ]
     },
     "metadata": {
      "needs_background": "light"
     },
     "output_type": "display_data"
    }
   ],
   "source": [
    "importance = pca.explained_variance_ratio_\n",
    "plt.scatter(range(1,10),importance)\n",
    "plt.plot(range(1,10),importance)\n",
    "plt.title('Scree Plot')\n",
    "plt.xlabel('Factors')\n",
    "plt.ylabel('Eigenvalue')\n",
    "plt.grid()\n",
    "plt.show()"
   ]
  },
  {
   "cell_type": "code",
   "execution_count": 476,
   "id": "59de7d6b",
   "metadata": {},
   "outputs": [
    {
     "data": {
      "text/plain": [
       "Text(0, 0.5, 'cumlative explained variance')"
      ]
     },
     "execution_count": 476,
     "metadata": {},
     "output_type": "execute_result"
    },
    {
     "data": {
      "image/png": "[encoded data removed]",
      "text/plain": [
       "<Figure size 432x288 with 1 Axes>"
      ]
     },
     "metadata": {
      "needs_background": "light"
     },
     "output_type": "display_data"
    }
   ],
   "source": [
    "plt.plot(np.cumsum(pca.explained_variance_ratio_))\n",
    "plt.xlabel('number of components')\n",
    "plt.ylabel('cumlative explained variance')"
   ]
  },
  {
   "cell_type": "code",
   "execution_count": 477,
   "id": "2e8ccf7b",
   "metadata": {},
   "outputs": [
    {
     "data": {
      "text/plain": [
       "array([0.1812323 , 0.30619166, 0.4160251 , 0.48312786, 0.54775628,\n",
       "       0.60916881, 0.65592556, 0.69824577, 0.73516253])"
      ]
     },
     "execution_count": 477,
     "metadata": {},
     "output_type": "execute_result"
    }
   ],
   "source": [
    "g=np.cumsum(pca.explained_variance_ratio_)\n",
    "g"
   ]
  },
  {
   "cell_type": "code",
   "execution_count": 478,
   "id": "950250ad",
   "metadata": {},
   "outputs": [
    {
     "data": {
      "text/plain": [
       "array([0.1812323 , 0.12495936, 0.10983344, 0.06710275, 0.06462842,\n",
       "       0.06141252, 0.0467569 , 0.04231917])"
      ]
     },
     "execution_count": 478,
     "metadata": {},
     "output_type": "execute_result"
    }
   ],
   "source": [
    "#Feature 8\n",
    "pca = PCA(n_components=8)\n",
    "principalComponents_normal_8 = pca.fit_transform(X_1)\n",
    "pca.explained_variance_ratio_"
   ]
  },
  {
   "cell_type": "code",
   "execution_count": 479,
   "id": "cbe45c14",
   "metadata": {},
   "outputs": [
    {
     "data": {
      "image/png": "[encoded data removed]",
      "text/plain": [
       "<Figure size 432x288 with 1 Axes>"
      ]
     },
     "metadata": {
      "needs_background": "light"
     },
     "output_type": "display_data"
    }
   ],
   "source": [
    "importance = pca.explained_variance_ratio_\n",
    "plt.scatter(range(1,9),importance)\n",
    "plt.plot(range(1,9),importance)\n",
    "plt.title('Scree Plot')\n",
    "plt.xlabel('Factors')\n",
    "plt.ylabel('Eigenvalue')\n",
    "plt.grid()\n",
    "plt.show()"
   ]
  },
  {
   "cell_type": "code",
   "execution_count": 480,
   "id": "8c6773df",
   "metadata": {},
   "outputs": [
    {
     "data": {
      "text/plain": [
       "Text(0, 0.5, 'cumlative explained variance')"
      ]
     },
     "execution_count": 480,
     "metadata": {},
     "output_type": "execute_result"
    },
    {
     "data": {
      "image/png": "[encoded data removed]",
      "text/plain": [
       "<Figure size 432x288 with 1 Axes>"
      ]
     },
     "metadata": {
      "needs_background": "light"
     },
     "output_type": "display_data"
    }
   ],
   "source": [
    "plt.plot(np.cumsum(pca.explained_variance_ratio_))\n",
    "plt.xlabel('number of components')\n",
    "plt.ylabel('cumlative explained variance')"
   ]
  },
  {
   "cell_type": "code",
   "execution_count": 481,
   "id": "9460f809",
   "metadata": {},
   "outputs": [
    {
     "data": {
      "text/plain": [
       "array([0.1812323 , 0.30619166, 0.4160251 , 0.48312785, 0.54775627,\n",
       "       0.60916878, 0.65592568, 0.69824485])"
      ]
     },
     "execution_count": 481,
     "metadata": {},
     "output_type": "execute_result"
    }
   ],
   "source": [
    "h=np.cumsum(pca.explained_variance_ratio_)\n",
    "h"
   ]
  },
  {
   "cell_type": "markdown",
   "id": "316d0449",
   "metadata": {},
   "source": [
    "# PCA Dimensionality Reduciton Based on # 31 Feaures\n",
    "# Anormal Activity "
   ]
  },
  {
   "cell_type": "code",
   "execution_count": null,
   "id": "441381e0",
   "metadata": {},
   "outputs": [],
   "source": [
    "# 29 Feature "
   ]
  },
  {
   "cell_type": "code",
   "execution_count": 485,
   "id": "e2995b46",
   "metadata": {},
   "outputs": [
    {
     "data": {
      "text/plain": [
       "array([3.17078727e-01, 1.21201511e-01, 1.01120235e-01, 7.07976970e-02,\n",
       "       6.02579771e-02, 5.21253038e-02, 3.60748027e-02, 3.41119923e-02,\n",
       "       3.13555546e-02, 2.91749233e-02, 2.68783460e-02, 2.38666888e-02,\n",
       "       2.17286390e-02, 1.70902935e-02, 1.58325108e-02, 9.47793135e-03,\n",
       "       8.68997119e-03, 6.54033977e-03, 5.57190432e-03, 4.69593542e-03,\n",
       "       3.57821722e-03, 1.62274382e-03, 8.12196336e-04, 1.45825555e-04,\n",
       "       8.31340238e-05, 4.16994572e-05, 2.95027533e-05, 1.53949763e-05,\n",
       "       1.57437218e-09])"
      ]
     },
     "execution_count": 485,
     "metadata": {},
     "output_type": "execute_result"
    }
   ],
   "source": [
    "pca = PCA(n_components=29)\n",
    "principalComponents_anormal_29 = pca.fit_transform(X_2)\n",
    "pca.explained_variance_ratio_"
   ]
  },
  {
   "cell_type": "code",
   "execution_count": 486,
   "id": "915d5a77",
   "metadata": {},
   "outputs": [
    {
     "data": {
      "image/png": "[encoded data removed]",
      "text/plain": [
       "<Figure size 432x288 with 1 Axes>"
      ]
     },
     "metadata": {
      "needs_background": "light"
     },
     "output_type": "display_data"
    }
   ],
   "source": [
    "importance = pca.explained_variance_ratio_\n",
    "plt.scatter(range(1,30),importance)\n",
    "plt.plot(range(1,30),importance)\n",
    "plt.title('Scree Plot')\n",
    "plt.xlabel('Factors')\n",
    "plt.ylabel('Eigenvalue')\n",
    "plt.grid()\n",
    "plt.show()"
   ]
  },
  {
   "cell_type": "code",
   "execution_count": 487,
   "id": "8630590b",
   "metadata": {},
   "outputs": [
    {
     "data": {
      "text/plain": [
       "Text(0, 0.5, 'cumlative explained variance')"
      ]
     },
     "execution_count": 487,
     "metadata": {},
     "output_type": "execute_result"
    },
    {
     "data": {
      "image/png": "[encoded data removed]",
      "text/plain": [
       "<Figure size 432x288 with 1 Axes>"
      ]
     },
     "metadata": {
      "needs_background": "light"
     },
     "output_type": "display_data"
    }
   ],
   "source": [
    "plt.plot(np.cumsum(pca.explained_variance_ratio_))\n",
    "plt.xlabel('number of components')\n",
    "plt.ylabel('cumlative explained variance')"
   ]
  },
  {
   "cell_type": "code",
   "execution_count": 488,
   "id": "79f43c78",
   "metadata": {},
   "outputs": [
    {
     "data": {
      "text/plain": [
       "array([0.31707873, 0.43828024, 0.53940047, 0.61019817, 0.67045615,\n",
       "       0.72258145, 0.75865625, 0.79276825, 0.8241238 , 0.85329872,\n",
       "       0.88017707, 0.90404376, 0.9257724 , 0.94286269, 0.9586952 ,\n",
       "       0.96817313, 0.9768631 , 0.98340344, 0.98897535, 0.99367128,\n",
       "       0.9972495 , 0.99887225, 0.99968444, 0.99983027, 0.9999134 ,\n",
       "       0.9999551 , 0.9999846 , 1.        , 1.        ])"
      ]
     },
     "execution_count": 488,
     "metadata": {},
     "output_type": "execute_result"
    }
   ],
   "source": [
    "a_1=np.cumsum(pca.explained_variance_ratio_)\n",
    "a_1"
   ]
  },
  {
   "cell_type": "code",
   "execution_count": 489,
   "id": "e023d706",
   "metadata": {},
   "outputs": [],
   "source": [
    "#Feature 20"
   ]
  },
  {
   "cell_type": "code",
   "execution_count": 490,
   "id": "945554e9",
   "metadata": {},
   "outputs": [
    {
     "data": {
      "text/plain": [
       "array([0.31707873, 0.12120151, 0.10112024, 0.0707977 , 0.06025798,\n",
       "       0.0521253 , 0.0360748 , 0.03411199, 0.03135555, 0.02917492,\n",
       "       0.02687835, 0.02386669, 0.02172864, 0.01709029, 0.01583251,\n",
       "       0.00947793, 0.00868997, 0.00654034, 0.0055719 , 0.00469594])"
      ]
     },
     "execution_count": 490,
     "metadata": {},
     "output_type": "execute_result"
    }
   ],
   "source": [
    "pca = PCA(n_components=20)\n",
    "principalComponents_anormal_20 = pca.fit_transform(X_2)\n",
    "pca.explained_variance_ratio_"
   ]
  },
  {
   "cell_type": "code",
   "execution_count": 491,
   "id": "9fb4e87e",
   "metadata": {},
   "outputs": [
    {
     "data": {
      "image/png": "[encoded data removed]",
      "text/plain": [
       "<Figure size 432x288 with 1 Axes>"
      ]
     },
     "metadata": {
      "needs_background": "light"
     },
     "output_type": "display_data"
    }
   ],
   "source": [
    "importance = pca.explained_variance_ratio_\n",
    "plt.scatter(range(1,21),importance)\n",
    "plt.plot(range(1,21),importance)\n",
    "plt.title('Scree Plot')\n",
    "plt.xlabel('Factors')\n",
    "plt.ylabel('Eigenvalue')\n",
    "plt.grid()\n",
    "plt.show()"
   ]
  },
  {
   "cell_type": "code",
   "execution_count": 492,
   "id": "5bd64c68",
   "metadata": {},
   "outputs": [
    {
     "data": {
      "text/plain": [
       "Text(0, 0.5, 'cumlative explained variance')"
      ]
     },
     "execution_count": 492,
     "metadata": {},
     "output_type": "execute_result"
    },
    {
     "data": {
      "image/png": "[encoded data removed]",
      "text/plain": [
       "<Figure size 432x288 with 1 Axes>"
      ]
     },
     "metadata": {
      "needs_background": "light"
     },
     "output_type": "display_data"
    }
   ],
   "source": [
    "plt.plot(np.cumsum(pca.explained_variance_ratio_))\n",
    "plt.xlabel('number of components')\n",
    "plt.ylabel('cumlative explained variance')"
   ]
  },
  {
   "cell_type": "code",
   "execution_count": 493,
   "id": "125c9c88",
   "metadata": {},
   "outputs": [
    {
     "data": {
      "text/plain": [
       "array([0.31707873, 0.43828024, 0.53940047, 0.61019817, 0.67045615,\n",
       "       0.72258145, 0.75865625, 0.79276825, 0.8241238 , 0.85329872,\n",
       "       0.88017707, 0.90404376, 0.9257724 , 0.94286269, 0.9586952 ,\n",
       "       0.96817313, 0.9768631 , 0.98340344, 0.98897535, 0.99367128])"
      ]
     },
     "execution_count": 493,
     "metadata": {},
     "output_type": "execute_result"
    }
   ],
   "source": [
    "b_1=np.cumsum(pca.explained_variance_ratio_)\n",
    "b_1"
   ]
  },
  {
   "cell_type": "code",
   "execution_count": 494,
   "id": "52595f80",
   "metadata": {},
   "outputs": [],
   "source": [
    "#16 Feature "
   ]
  },
  {
   "cell_type": "code",
   "execution_count": 495,
   "id": "5c4a38c6",
   "metadata": {},
   "outputs": [
    {
     "data": {
      "text/plain": [
       "array([0.31707873, 0.12120151, 0.10112024, 0.0707977 , 0.06025798,\n",
       "       0.0521253 , 0.0360748 , 0.03411199, 0.03135555, 0.02917492,\n",
       "       0.02687835, 0.02386669, 0.02172864, 0.01709029, 0.01583251,\n",
       "       0.00947793])"
      ]
     },
     "execution_count": 495,
     "metadata": {},
     "output_type": "execute_result"
    }
   ],
   "source": [
    "pca = PCA(n_components=16)\n",
    "principalComponents_anormal_18 = pca.fit_transform(X_2)\n",
    "pca.explained_variance_ratio_"
   ]
  },
  {
   "cell_type": "code",
   "execution_count": 496,
   "id": "c57b8399",
   "metadata": {},
   "outputs": [
    {
     "data": {
      "image/png": "[encoded data removed]",
      "text/plain": [
       "<Figure size 432x288 with 1 Axes>"
      ]
     },
     "metadata": {
      "needs_background": "light"
     },
     "output_type": "display_data"
    }
   ],
   "source": [
    "importance = pca.explained_variance_ratio_\n",
    "plt.scatter(range(1,17),importance)\n",
    "plt.plot(range(1,17),importance)\n",
    "plt.title('Scree Plot')\n",
    "plt.xlabel('Factors')\n",
    "plt.ylabel('Eigenvalue')\n",
    "plt.grid()\n",
    "plt.show()"
   ]
  },
  {
   "cell_type": "code",
   "execution_count": 497,
   "id": "49219754",
   "metadata": {},
   "outputs": [
    {
     "data": {
      "text/plain": [
       "Text(0, 0.5, 'cumlative explained variance')"
      ]
     },
     "execution_count": 497,
     "metadata": {},
     "output_type": "execute_result"
    },
    {
     "data": {
      "image/png": "[encoded data removed]",
      "text/plain": [
       "<Figure size 432x288 with 1 Axes>"
      ]
     },
     "metadata": {
      "needs_background": "light"
     },
     "output_type": "display_data"
    }
   ],
   "source": [
    "plt.plot(np.cumsum(pca.explained_variance_ratio_))\n",
    "plt.xlabel('number of components')\n",
    "plt.ylabel('cumlative explained variance')"
   ]
  },
  {
   "cell_type": "code",
   "execution_count": 498,
   "id": "b4d1635f",
   "metadata": {},
   "outputs": [
    {
     "name": "stdout",
     "output_type": "stream",
     "text": [
      "(22215, 18)\n"
     ]
    }
   ],
   "source": [
    "print(principalComponents_normal_18.shape)"
   ]
  },
  {
   "cell_type": "code",
   "execution_count": 499,
   "id": "d12e899e",
   "metadata": {},
   "outputs": [
    {
     "data": {
      "text/plain": [
       "array([0.31707873, 0.43828024, 0.53940047, 0.61019817, 0.67045615,\n",
       "       0.72258145, 0.75865625, 0.79276825, 0.8241238 , 0.85329872,\n",
       "       0.88017707, 0.90404376, 0.9257724 , 0.94286269, 0.9586952 ,\n",
       "       0.96817313])"
      ]
     },
     "execution_count": 499,
     "metadata": {},
     "output_type": "execute_result"
    }
   ],
   "source": [
    "c_1=np.cumsum(pca.explained_variance_ratio_)\n",
    "c_1"
   ]
  },
  {
   "cell_type": "code",
   "execution_count": 500,
   "id": "51c67706",
   "metadata": {},
   "outputs": [],
   "source": [
    "#15 Feature "
   ]
  },
  {
   "cell_type": "code",
   "execution_count": 501,
   "id": "664ea15d",
   "metadata": {},
   "outputs": [
    {
     "data": {
      "text/plain": [
       "array([0.31707873, 0.12120151, 0.10112024, 0.0707977 , 0.06025798,\n",
       "       0.0521253 , 0.0360748 , 0.03411199, 0.03135555, 0.02917492,\n",
       "       0.02687835, 0.02386669, 0.02172864, 0.01709029, 0.01583251])"
      ]
     },
     "execution_count": 501,
     "metadata": {},
     "output_type": "execute_result"
    }
   ],
   "source": [
    "pca = PCA(n_components=15)\n",
    "principalComponents_anormal_15 = pca.fit_transform(X_2)\n",
    "pca.explained_variance_ratio_"
   ]
  },
  {
   "cell_type": "code",
   "execution_count": 502,
   "id": "8e2240ee",
   "metadata": {},
   "outputs": [
    {
     "data": {
      "image/png": "[encoded data removed]",
      "text/plain": [
       "<Figure size 432x288 with 1 Axes>"
      ]
     },
     "metadata": {
      "needs_background": "light"
     },
     "output_type": "display_data"
    }
   ],
   "source": [
    "importance = pca.explained_variance_ratio_\n",
    "plt.scatter(range(1,16),importance)\n",
    "plt.plot(range(1,16),importance)\n",
    "plt.title('Scree Plot')\n",
    "plt.xlabel('Factors')\n",
    "plt.ylabel('Eigenvalue')\n",
    "plt.grid()\n",
    "plt.show()"
   ]
  },
  {
   "cell_type": "code",
   "execution_count": 503,
   "id": "5b501e8a",
   "metadata": {},
   "outputs": [
    {
     "data": {
      "text/plain": [
       "Text(0, 0.5, 'cumlative explained variance')"
      ]
     },
     "execution_count": 503,
     "metadata": {},
     "output_type": "execute_result"
    },
    {
     "data": {
      "image/png": "[encoded data removed]",
      "text/plain": [
       "<Figure size 432x288 with 1 Axes>"
      ]
     },
     "metadata": {
      "needs_background": "light"
     },
     "output_type": "display_data"
    }
   ],
   "source": [
    "plt.plot(np.cumsum(pca.explained_variance_ratio_))\n",
    "plt.xlabel('number of components')\n",
    "plt.ylabel('cumlative explained variance')"
   ]
  },
  {
   "cell_type": "code",
   "execution_count": 504,
   "id": "512be33a",
   "metadata": {},
   "outputs": [
    {
     "data": {
      "text/plain": [
       "array([0.31707873, 0.43828024, 0.53940047, 0.61019817, 0.67045615,\n",
       "       0.72258145, 0.75865625, 0.79276825, 0.8241238 , 0.85329872,\n",
       "       0.88017707, 0.90404376, 0.9257724 , 0.94286269, 0.9586952 ])"
      ]
     },
     "execution_count": 504,
     "metadata": {},
     "output_type": "execute_result"
    }
   ],
   "source": [
    "d_1=np.cumsum(pca.explained_variance_ratio_)\n",
    "d_1"
   ]
  },
  {
   "cell_type": "code",
   "execution_count": 505,
   "id": "ebc17991",
   "metadata": {},
   "outputs": [],
   "source": [
    "# 13 Feature "
   ]
  },
  {
   "cell_type": "code",
   "execution_count": 506,
   "id": "334aac2a",
   "metadata": {},
   "outputs": [
    {
     "data": {
      "text/plain": [
       "array([0.31707873, 0.12120151, 0.10112024, 0.0707977 , 0.06025798,\n",
       "       0.0521253 , 0.0360748 , 0.03411199, 0.03135555, 0.02917492,\n",
       "       0.02687835, 0.02386669, 0.02172864])"
      ]
     },
     "execution_count": 506,
     "metadata": {},
     "output_type": "execute_result"
    }
   ],
   "source": [
    "pca = PCA(n_components=13)\n",
    "principalComponents_anormal_13 = pca.fit_transform(X_2)\n",
    "pca.explained_variance_ratio_"
   ]
  },
  {
   "cell_type": "code",
   "execution_count": 507,
   "id": "fb7497e4",
   "metadata": {},
   "outputs": [
    {
     "data": {
      "image/png": "[encoded data removed]",
      "text/plain": [
       "<Figure size 432x288 with 1 Axes>"
      ]
     },
     "metadata": {
      "needs_background": "light"
     },
     "output_type": "display_data"
    }
   ],
   "source": [
    "importance = pca.explained_variance_ratio_\n",
    "plt.scatter(range(1,14),importance)\n",
    "plt.plot(range(1,14),importance)\n",
    "plt.title('Scree Plot')\n",
    "plt.xlabel('Factors')\n",
    "plt.ylabel('Eigenvalue')\n",
    "plt.grid()\n",
    "plt.show()"
   ]
  },
  {
   "cell_type": "code",
   "execution_count": 508,
   "id": "9ca85023",
   "metadata": {},
   "outputs": [
    {
     "data": {
      "text/plain": [
       "Text(0, 0.5, 'cumlative explained variance')"
      ]
     },
     "execution_count": 508,
     "metadata": {},
     "output_type": "execute_result"
    },
    {
     "data": {
      "image/png": "[encoded data removed]",
      "text/plain": [
       "<Figure size 432x288 with 1 Axes>"
      ]
     },
     "metadata": {
      "needs_background": "light"
     },
     "output_type": "display_data"
    }
   ],
   "source": [
    "plt.plot(np.cumsum(pca.explained_variance_ratio_))\n",
    "plt.xlabel('number of components')\n",
    "plt.ylabel('cumlative explained variance')"
   ]
  },
  {
   "cell_type": "code",
   "execution_count": 509,
   "id": "a451737a",
   "metadata": {},
   "outputs": [
    {
     "data": {
      "text/plain": [
       "array([0.31707873, 0.43828024, 0.53940047, 0.61019817, 0.67045615,\n",
       "       0.72258145, 0.75865625, 0.79276825, 0.8241238 , 0.85329872,\n",
       "       0.88017707, 0.90404376, 0.9257724 ])"
      ]
     },
     "execution_count": 509,
     "metadata": {},
     "output_type": "execute_result"
    }
   ],
   "source": [
    "e_1=np.cumsum(pca.explained_variance_ratio_)\n",
    "e_1"
   ]
  },
  {
   "cell_type": "code",
   "execution_count": 510,
   "id": "0ae987ec",
   "metadata": {},
   "outputs": [
    {
     "data": {
      "text/plain": [
       "array([0.31707873, 0.12120151, 0.10112024, 0.0707977 , 0.06025798,\n",
       "       0.0521253 , 0.0360748 , 0.03411199, 0.03135555, 0.02917492,\n",
       "       0.02687835, 0.02386669])"
      ]
     },
     "execution_count": 510,
     "metadata": {},
     "output_type": "execute_result"
    }
   ],
   "source": [
    "# 12 Feature \n",
    "pca = PCA(n_components=12)\n",
    "principalComponents_anormal_12 = pca.fit_transform(X_2)\n",
    "pca.explained_variance_ratio_"
   ]
  },
  {
   "cell_type": "code",
   "execution_count": 511,
   "id": "af8a316e",
   "metadata": {},
   "outputs": [
    {
     "data": {
      "image/png": "[encoded data removed]",
      "text/plain": [
       "<Figure size 432x288 with 1 Axes>"
      ]
     },
     "metadata": {
      "needs_background": "light"
     },
     "output_type": "display_data"
    }
   ],
   "source": [
    "importance = pca.explained_variance_ratio_\n",
    "plt.scatter(range(1,13),importance)\n",
    "plt.plot(range(1,13),importance)\n",
    "plt.title('Scree Plot')\n",
    "plt.xlabel('Factors')\n",
    "plt.ylabel('Eigenvalue')\n",
    "plt.grid()\n",
    "plt.show()"
   ]
  },
  {
   "cell_type": "code",
   "execution_count": 512,
   "id": "c257308b",
   "metadata": {},
   "outputs": [
    {
     "data": {
      "text/plain": [
       "Text(0, 0.5, 'cumlative explained variance')"
      ]
     },
     "execution_count": 512,
     "metadata": {},
     "output_type": "execute_result"
    },
    {
     "data": {
      "image/png": "[encoded data removed]",
      "text/plain": [
       "<Figure size 432x288 with 1 Axes>"
      ]
     },
     "metadata": {
      "needs_background": "light"
     },
     "output_type": "display_data"
    }
   ],
   "source": [
    "plt.plot(np.cumsum(pca.explained_variance_ratio_))\n",
    "plt.xlabel('number of components')\n",
    "plt.ylabel('cumlative explained variance')"
   ]
  },
  {
   "cell_type": "code",
   "execution_count": 513,
   "id": "2923c698",
   "metadata": {},
   "outputs": [
    {
     "data": {
      "text/plain": [
       "array([0.31707873, 0.43828024, 0.53940047, 0.61019817, 0.67045615,\n",
       "       0.72258145, 0.75865625, 0.79276825, 0.8241238 , 0.85329872,\n",
       "       0.88017707, 0.90404376])"
      ]
     },
     "execution_count": 513,
     "metadata": {},
     "output_type": "execute_result"
    }
   ],
   "source": [
    "f_1=np.cumsum(pca.explained_variance_ratio_)\n",
    "f_1"
   ]
  },
  {
   "cell_type": "code",
   "execution_count": 514,
   "id": "7901edaa",
   "metadata": {},
   "outputs": [],
   "source": [
    "# 9 Feature "
   ]
  },
  {
   "cell_type": "code",
   "execution_count": 515,
   "id": "127ed244",
   "metadata": {},
   "outputs": [
    {
     "data": {
      "text/plain": [
       "array([0.31707873, 0.12120151, 0.10112024, 0.0707977 , 0.06025798,\n",
       "       0.0521253 , 0.0360748 , 0.03411199, 0.03135555])"
      ]
     },
     "execution_count": 515,
     "metadata": {},
     "output_type": "execute_result"
    }
   ],
   "source": [
    "pca = PCA(n_components=9)\n",
    "principalComponents_anormal_9 = pca.fit_transform(X_2)\n",
    "pca.explained_variance_ratio_"
   ]
  },
  {
   "cell_type": "code",
   "execution_count": 516,
   "id": "b6fddd7b",
   "metadata": {},
   "outputs": [
    {
     "name": "stdout",
     "output_type": "stream",
     "text": [
      "(677785, 9)\n"
     ]
    }
   ],
   "source": [
    "print(principalComponents_normal_9.shape)"
   ]
  },
  {
   "cell_type": "code",
   "execution_count": 517,
   "id": "34e62956",
   "metadata": {},
   "outputs": [
    {
     "data": {
      "image/png": "[encoded data removed]",
      "text/plain": [
       "<Figure size 432x288 with 1 Axes>"
      ]
     },
     "metadata": {
      "needs_background": "light"
     },
     "output_type": "display_data"
    }
   ],
   "source": [
    "importance = pca.explained_variance_ratio_\n",
    "plt.scatter(range(1,10),importance)\n",
    "plt.plot(range(1,10),importance)\n",
    "plt.title('Scree Plot')\n",
    "plt.xlabel('Factors')\n",
    "plt.ylabel('Eigenvalue')\n",
    "plt.grid()\n",
    "plt.show()"
   ]
  },
  {
   "cell_type": "code",
   "execution_count": 518,
   "id": "713dd76b",
   "metadata": {},
   "outputs": [
    {
     "data": {
      "text/plain": [
       "Text(0, 0.5, 'cumlative explained variance')"
      ]
     },
     "execution_count": 518,
     "metadata": {},
     "output_type": "execute_result"
    },
    {
     "data": {
      "image/png": "[encoded data removed]",
      "text/plain": [
       "<Figure size 432x288 with 1 Axes>"
      ]
     },
     "metadata": {
      "needs_background": "light"
     },
     "output_type": "display_data"
    }
   ],
   "source": [
    "plt.plot(np.cumsum(pca.explained_variance_ratio_))\n",
    "plt.xlabel('number of components')\n",
    "plt.ylabel('cumlative explained variance')"
   ]
  },
  {
   "cell_type": "code",
   "execution_count": 519,
   "id": "fb7114bf",
   "metadata": {},
   "outputs": [
    {
     "data": {
      "text/plain": [
       "array([0.31707873, 0.43828024, 0.53940047, 0.61019817, 0.67045615,\n",
       "       0.72258145, 0.75865625, 0.79276825, 0.8241238 ])"
      ]
     },
     "execution_count": 519,
     "metadata": {},
     "output_type": "execute_result"
    }
   ],
   "source": [
    "g_1=np.cumsum(pca.explained_variance_ratio_)\n",
    "g_1"
   ]
  },
  {
   "cell_type": "code",
   "execution_count": 520,
   "id": "195212fa",
   "metadata": {},
   "outputs": [],
   "source": [
    "#8 Featurerw"
   ]
  },
  {
   "cell_type": "code",
   "execution_count": 521,
   "id": "49c1c8ad",
   "metadata": {},
   "outputs": [
    {
     "data": {
      "text/plain": [
       "array([0.31707873, 0.12120151, 0.10112024, 0.0707977 , 0.06025798,\n",
       "       0.0521253 , 0.0360748 , 0.03411199])"
      ]
     },
     "execution_count": 521,
     "metadata": {},
     "output_type": "execute_result"
    }
   ],
   "source": [
    "pca = PCA(n_components=8)\n",
    "principalComponents_anormal_8 = pca.fit_transform(X_2)\n",
    "pca.explained_variance_ratio_"
   ]
  },
  {
   "cell_type": "code",
   "execution_count": 522,
   "id": "f89f58da",
   "metadata": {},
   "outputs": [
    {
     "data": {
      "image/png": "[encoded data removed]",
      "text/plain": [
       "<Figure size 432x288 with 1 Axes>"
      ]
     },
     "metadata": {
      "needs_background": "light"
     },
     "output_type": "display_data"
    }
   ],
   "source": [
    "importance = pca.explained_variance_ratio_\n",
    "plt.scatter(range(1,9),importance)\n",
    "plt.plot(range(1,9),importance)\n",
    "plt.title('Scree Plot')\n",
    "plt.xlabel('Factors')\n",
    "plt.ylabel('Eigenvalue')\n",
    "plt.grid()\n",
    "plt.show()"
   ]
  },
  {
   "cell_type": "code",
   "execution_count": 523,
   "id": "7d9bc545",
   "metadata": {},
   "outputs": [
    {
     "data": {
      "text/plain": [
       "Text(0, 0.5, 'cumlative explained variance')"
      ]
     },
     "execution_count": 523,
     "metadata": {},
     "output_type": "execute_result"
    },
    {
     "data": {
      "image/png": "[encoded data removed]",
      "text/plain": [
       "<Figure size 432x288 with 1 Axes>"
      ]
     },
     "metadata": {
      "needs_background": "light"
     },
     "output_type": "display_data"
    }
   ],
   "source": [
    "plt.plot(np.cumsum(pca.explained_variance_ratio_))\n",
    "plt.xlabel('number of components')\n",
    "plt.ylabel('cumlative explained variance')"
   ]
  },
  {
   "cell_type": "code",
   "execution_count": 524,
   "id": "0f992b21",
   "metadata": {},
   "outputs": [
    {
     "data": {
      "text/plain": [
       "array([0.31707873, 0.43828024, 0.53940047, 0.61019817, 0.67045615,\n",
       "       0.72258145, 0.75865625, 0.79276825])"
      ]
     },
     "execution_count": 524,
     "metadata": {},
     "output_type": "execute_result"
    }
   ],
   "source": [
    "h_1=np.cumsum(pca.explained_variance_ratio_)\n",
    "h_1"
   ]
  },
  {
   "cell_type": "code",
   "execution_count": null,
   "id": "46555427",
   "metadata": {},
   "outputs": [],
   "source": []
  }
 ],
 "metadata": {
  "kernelspec": {
   "display_name": "Python 3",
   "language": "python",
   "name": "python3"
  },
  "language_info": {
   "codemirror_mode": {
    "name": "ipython",
    "version": 3
   },
   "file_extension": ".py",
   "mimetype": "text/x-python",
   "name": "python",
   "nbconvert_exporter": "python",
   "pygments_lexer": "ipython3",
   "version": "3.7.10"
  }
 },
 "nbformat": 4,
 "nbformat_minor": 5
}
