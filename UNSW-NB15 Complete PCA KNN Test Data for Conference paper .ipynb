{
 "cells": [
  {
   "cell_type": "code",
   "execution_count": 1,
   "id": "1a138282",
   "metadata": {},
   "outputs": [],
   "source": [
    "from sklearn.datasets import load_boston\n",
    "from mlxtend.feature_selection import SequentialFeatureSelector as SFS\n",
    "from sklearn.linear_model import LinearRegression\n",
    "import pandas as pd\n",
    "import numpy as np\n",
    "%matplotlib inline\n",
    "import matplotlib.pyplot as plt"
   ]
  },
  {
   "cell_type": "code",
   "execution_count": 2,
   "id": "db02706b",
   "metadata": {},
   "outputs": [],
   "source": [
    "# load sklearn dataset\n",
    "data=pd.read_csv(r'E:\\My Drive\\UNSW-NB15 Dataset\\StabdardizedDatasetXY\\UNSW-NB15_1NN_50F_OneHote.csv', low_memory=False)"
   ]
  },
  {
   "cell_type": "code",
   "execution_count": 3,
   "id": "44492a4d",
   "metadata": {},
   "outputs": [
    {
     "data": {
      "text/html": [
       "<div>\n",
       "<style scoped>\n",
       "    .dataframe tbody tr th:only-of-type {\n",
       "        vertical-align: middle;\n",
       "    }\n",
       "\n",
       "    .dataframe tbody tr th {\n",
       "        vertical-align: top;\n",
       "    }\n",
       "\n",
       "    .dataframe thead th {\n",
       "        text-align: right;\n",
       "    }\n",
       "</style>\n",
       "<table border=\"1\" class=\"dataframe\">\n",
       "  <thead>\n",
       "    <tr style=\"text-align: right;\">\n",
       "      <th></th>\n",
       "      <th>Unnamed: 0</th>\n",
       "      <th>dur</th>\n",
       "      <th>sbytes</th>\n",
       "      <th>dbytes</th>\n",
       "      <th>sttl</th>\n",
       "      <th>dttl</th>\n",
       "      <th>sloss</th>\n",
       "      <th>dloss</th>\n",
       "      <th>Sload</th>\n",
       "      <th>Dload</th>\n",
       "      <th>...</th>\n",
       "      <th>Fuzzers</th>\n",
       "      <th>Analysis</th>\n",
       "      <th>Backdoors</th>\n",
       "      <th>DoS</th>\n",
       "      <th>Exploits</th>\n",
       "      <th>Generic</th>\n",
       "      <th>Normal</th>\n",
       "      <th>Reconnaissance</th>\n",
       "      <th>Shellcode</th>\n",
       "      <th>Worms</th>\n",
       "    </tr>\n",
       "  </thead>\n",
       "  <tbody>\n",
       "    <tr>\n",
       "      <th>0</th>\n",
       "      <td>0</td>\n",
       "      <td>0.036133</td>\n",
       "      <td>528</td>\n",
       "      <td>304</td>\n",
       "      <td>31</td>\n",
       "      <td>29</td>\n",
       "      <td>0</td>\n",
       "      <td>0</td>\n",
       "      <td>87676.08594</td>\n",
       "      <td>50480.17188</td>\n",
       "      <td>...</td>\n",
       "      <td>0</td>\n",
       "      <td>0</td>\n",
       "      <td>0</td>\n",
       "      <td>0</td>\n",
       "      <td>0</td>\n",
       "      <td>0</td>\n",
       "      <td>1</td>\n",
       "      <td>0</td>\n",
       "      <td>0</td>\n",
       "      <td>0</td>\n",
       "    </tr>\n",
       "    <tr>\n",
       "      <th>1</th>\n",
       "      <td>1</td>\n",
       "      <td>0.001119</td>\n",
       "      <td>146</td>\n",
       "      <td>178</td>\n",
       "      <td>31</td>\n",
       "      <td>29</td>\n",
       "      <td>0</td>\n",
       "      <td>0</td>\n",
       "      <td>521894.53130</td>\n",
       "      <td>636282.37500</td>\n",
       "      <td>...</td>\n",
       "      <td>0</td>\n",
       "      <td>0</td>\n",
       "      <td>0</td>\n",
       "      <td>0</td>\n",
       "      <td>0</td>\n",
       "      <td>0</td>\n",
       "      <td>1</td>\n",
       "      <td>0</td>\n",
       "      <td>0</td>\n",
       "      <td>0</td>\n",
       "    </tr>\n",
       "    <tr>\n",
       "      <th>2</th>\n",
       "      <td>2</td>\n",
       "      <td>0.001209</td>\n",
       "      <td>132</td>\n",
       "      <td>164</td>\n",
       "      <td>31</td>\n",
       "      <td>29</td>\n",
       "      <td>0</td>\n",
       "      <td>0</td>\n",
       "      <td>436724.56250</td>\n",
       "      <td>542597.18750</td>\n",
       "      <td>...</td>\n",
       "      <td>0</td>\n",
       "      <td>0</td>\n",
       "      <td>0</td>\n",
       "      <td>0</td>\n",
       "      <td>0</td>\n",
       "      <td>0</td>\n",
       "      <td>1</td>\n",
       "      <td>0</td>\n",
       "      <td>0</td>\n",
       "      <td>0</td>\n",
       "    </tr>\n",
       "    <tr>\n",
       "      <th>3</th>\n",
       "      <td>3</td>\n",
       "      <td>0.001169</td>\n",
       "      <td>146</td>\n",
       "      <td>178</td>\n",
       "      <td>31</td>\n",
       "      <td>29</td>\n",
       "      <td>0</td>\n",
       "      <td>0</td>\n",
       "      <td>499572.25000</td>\n",
       "      <td>609067.56250</td>\n",
       "      <td>...</td>\n",
       "      <td>0</td>\n",
       "      <td>0</td>\n",
       "      <td>0</td>\n",
       "      <td>0</td>\n",
       "      <td>0</td>\n",
       "      <td>0</td>\n",
       "      <td>1</td>\n",
       "      <td>0</td>\n",
       "      <td>0</td>\n",
       "      <td>0</td>\n",
       "    </tr>\n",
       "    <tr>\n",
       "      <th>4</th>\n",
       "      <td>4</td>\n",
       "      <td>0.078339</td>\n",
       "      <td>568</td>\n",
       "      <td>312</td>\n",
       "      <td>31</td>\n",
       "      <td>29</td>\n",
       "      <td>0</td>\n",
       "      <td>0</td>\n",
       "      <td>43503.23438</td>\n",
       "      <td>23896.14258</td>\n",
       "      <td>...</td>\n",
       "      <td>0</td>\n",
       "      <td>0</td>\n",
       "      <td>0</td>\n",
       "      <td>0</td>\n",
       "      <td>0</td>\n",
       "      <td>0</td>\n",
       "      <td>1</td>\n",
       "      <td>0</td>\n",
       "      <td>0</td>\n",
       "      <td>0</td>\n",
       "    </tr>\n",
       "  </tbody>\n",
       "</table>\n",
       "<p>5 rows × 51 columns</p>\n",
       "</div>"
      ],
      "text/plain": [
       "   Unnamed: 0       dur  sbytes  dbytes  sttl  dttl  sloss  dloss  \\\n",
       "0           0  0.036133     528     304    31    29      0      0   \n",
       "1           1  0.001119     146     178    31    29      0      0   \n",
       "2           2  0.001209     132     164    31    29      0      0   \n",
       "3           3  0.001169     146     178    31    29      0      0   \n",
       "4           4  0.078339     568     312    31    29      0      0   \n",
       "\n",
       "          Sload         Dload  ...   Fuzzers  Analysis  Backdoors  DoS  \\\n",
       "0   87676.08594   50480.17188  ...         0         0          0    0   \n",
       "1  521894.53130  636282.37500  ...         0         0          0    0   \n",
       "2  436724.56250  542597.18750  ...         0         0          0    0   \n",
       "3  499572.25000  609067.56250  ...         0         0          0    0   \n",
       "4   43503.23438   23896.14258  ...         0         0          0    0   \n",
       "\n",
       "   Exploits  Generic  Normal  Reconnaissance  Shellcode  Worms  \n",
       "0         0        0       1               0          0      0  \n",
       "1         0        0       1               0          0      0  \n",
       "2         0        0       1               0          0      0  \n",
       "3         0        0       1               0          0      0  \n",
       "4         0        0       1               0          0      0  \n",
       "\n",
       "[5 rows x 51 columns]"
      ]
     },
     "execution_count": 3,
     "metadata": {},
     "output_type": "execute_result"
    }
   ],
   "source": [
    "data.head()"
   ]
  },
  {
   "cell_type": "code",
   "execution_count": 16,
   "id": "a08ad137",
   "metadata": {},
   "outputs": [],
   "source": [
    "data=data.drop(['Unnamed: 0'],axis=1)"
   ]
  },
  {
   "cell_type": "code",
   "execution_count": 17,
   "id": "c86a59b0",
   "metadata": {},
   "outputs": [
    {
     "data": {
      "text/plain": [
       "(700000, 50)"
      ]
     },
     "execution_count": 17,
     "metadata": {},
     "output_type": "execute_result"
    }
   ],
   "source": [
    "data.shape"
   ]
  },
  {
   "cell_type": "code",
   "execution_count": 18,
   "id": "ccb7a459",
   "metadata": {},
   "outputs": [],
   "source": [
    "# Balance Dataset into Normal and Abnormal"
   ]
  },
  {
   "cell_type": "code",
   "execution_count": 19,
   "id": "6c4a2452",
   "metadata": {},
   "outputs": [],
   "source": [
    "data_normal=data.loc[data['Normal']==1]"
   ]
  },
  {
   "cell_type": "code",
   "execution_count": 137,
   "id": "3eb46b38",
   "metadata": {},
   "outputs": [],
   "source": [
    "data_normal=data_normal[['dur', 'sbytes', 'dbytes', 'sttl', 'dttl', 'sloss', 'dloss', 'Sload',\n",
    "       'Dload', 'Spkts', 'Dpkts', 'swin', 'dwin', 'stcpb', 'dtcpb', 'smeansz',\n",
    "       'dmeansz', 'trans_depth', 'res_bdy_len', 'Sjit', 'Djit', 'Stime',\n",
    "       'Ltime', 'Sintpkt', 'Dintpkt', 'tcprtt', 'synack', 'ackdat',\n",
    "       'is_sm_ips_ports', 'ct_state_ttl', 'ct_flw_http_mthd', 'is_ftp_login',\n",
    "       'ct_ftp_cmd', 'ct_srv_src', 'ct_srv_dst', 'ct_dst_ltm', 'ct_src_ ltm',\n",
    "       'ct_src_dport_ltm', 'ct_dst_sport_ltm', 'ct_dst_src_ltm', 'Normal',' Fuzzers',\n",
    "       'Analysis', 'Backdoors', 'DoS', 'Exploits', 'Generic', \n",
    "       'Reconnaissance', 'Shellcode', 'Worms']]"
   ]
  },
  {
   "cell_type": "code",
   "execution_count": 138,
   "id": "bd4e0018",
   "metadata": {},
   "outputs": [
    {
     "name": "stdout",
     "output_type": "stream",
     "text": [
      "<class 'pandas.core.frame.DataFrame'>\n",
      "RangeIndex: 677785 entries, 0 to 677784\n",
      "Data columns (total 50 columns):\n",
      " #   Column            Non-Null Count   Dtype  \n",
      "---  ------            --------------   -----  \n",
      " 0   dur               677785 non-null  float64\n",
      " 1   sbytes            677785 non-null  int64  \n",
      " 2   dbytes            677785 non-null  int64  \n",
      " 3   sttl              677785 non-null  int64  \n",
      " 4   dttl              677785 non-null  int64  \n",
      " 5   sloss             677785 non-null  int64  \n",
      " 6   dloss             677785 non-null  int64  \n",
      " 7   Sload             677785 non-null  float64\n",
      " 8   Dload             677785 non-null  float64\n",
      " 9   Spkts             677785 non-null  int64  \n",
      " 10  Dpkts             677785 non-null  int64  \n",
      " 11  swin              677785 non-null  int64  \n",
      " 12  dwin              677785 non-null  int64  \n",
      " 13  stcpb             677785 non-null  int64  \n",
      " 14  dtcpb             677785 non-null  int64  \n",
      " 15  smeansz           677785 non-null  int64  \n",
      " 16  dmeansz           677785 non-null  int64  \n",
      " 17  trans_depth       677785 non-null  int64  \n",
      " 18  res_bdy_len       677785 non-null  int64  \n",
      " 19  Sjit              677785 non-null  float64\n",
      " 20  Djit              677785 non-null  float64\n",
      " 21  Stime             677785 non-null  int64  \n",
      " 22  Ltime             677785 non-null  int64  \n",
      " 23  Sintpkt           677785 non-null  float64\n",
      " 24  Dintpkt           677785 non-null  float64\n",
      " 25  tcprtt            677785 non-null  float64\n",
      " 26  synack            677785 non-null  float64\n",
      " 27  ackdat            677785 non-null  float64\n",
      " 28  is_sm_ips_ports   677785 non-null  int64  \n",
      " 29  ct_state_ttl      677785 non-null  int64  \n",
      " 30  ct_flw_http_mthd  677785 non-null  int64  \n",
      " 31  is_ftp_login      677785 non-null  int64  \n",
      " 32  ct_ftp_cmd        677785 non-null  int64  \n",
      " 33  ct_srv_src        677785 non-null  int64  \n",
      " 34  ct_srv_dst        677785 non-null  int64  \n",
      " 35  ct_dst_ltm        677785 non-null  int64  \n",
      " 36  ct_src_ ltm       677785 non-null  int64  \n",
      " 37  ct_src_dport_ltm  677785 non-null  int64  \n",
      " 38  ct_dst_sport_ltm  677785 non-null  int64  \n",
      " 39  ct_dst_src_ltm    677785 non-null  int64  \n",
      " 40  Normal            677785 non-null  int64  \n",
      " 41   Fuzzers          677785 non-null  int64  \n",
      " 42  Analysis          677785 non-null  int64  \n",
      " 43  Backdoors         677785 non-null  int64  \n",
      " 44  DoS               677785 non-null  int64  \n",
      " 45  Exploits          677785 non-null  int64  \n",
      " 46  Generic           677785 non-null  int64  \n",
      " 47  Reconnaissance    677785 non-null  int64  \n",
      " 48  Shellcode         677785 non-null  int64  \n",
      " 49  Worms             677785 non-null  int64  \n",
      "dtypes: float64(10), int64(40)\n",
      "memory usage: 258.6 MB\n"
     ]
    }
   ],
   "source": [
    "data_normal.info()"
   ]
  },
  {
   "cell_type": "code",
   "execution_count": 139,
   "id": "e9b3a9ab",
   "metadata": {},
   "outputs": [
    {
     "data": {
      "text/plain": [
       "(677785, 50)"
      ]
     },
     "execution_count": 139,
     "metadata": {},
     "output_type": "execute_result"
    }
   ],
   "source": [
    "data_normal.shape"
   ]
  },
  {
   "cell_type": "code",
   "execution_count": 140,
   "id": "d3296fb9",
   "metadata": {},
   "outputs": [
    {
     "data": {
      "text/html": [
       "<div>\n",
       "<style scoped>\n",
       "    .dataframe tbody tr th:only-of-type {\n",
       "        vertical-align: middle;\n",
       "    }\n",
       "\n",
       "    .dataframe tbody tr th {\n",
       "        vertical-align: top;\n",
       "    }\n",
       "\n",
       "    .dataframe thead th {\n",
       "        text-align: right;\n",
       "    }\n",
       "</style>\n",
       "<table border=\"1\" class=\"dataframe\">\n",
       "  <thead>\n",
       "    <tr style=\"text-align: right;\">\n",
       "      <th></th>\n",
       "      <th>dur</th>\n",
       "      <th>sbytes</th>\n",
       "      <th>dbytes</th>\n",
       "      <th>sttl</th>\n",
       "      <th>dttl</th>\n",
       "      <th>sloss</th>\n",
       "      <th>dloss</th>\n",
       "      <th>Sload</th>\n",
       "      <th>Dload</th>\n",
       "      <th>Spkts</th>\n",
       "      <th>...</th>\n",
       "      <th>Normal</th>\n",
       "      <th>Fuzzers</th>\n",
       "      <th>Analysis</th>\n",
       "      <th>Backdoors</th>\n",
       "      <th>DoS</th>\n",
       "      <th>Exploits</th>\n",
       "      <th>Generic</th>\n",
       "      <th>Reconnaissance</th>\n",
       "      <th>Shellcode</th>\n",
       "      <th>Worms</th>\n",
       "    </tr>\n",
       "  </thead>\n",
       "  <tbody>\n",
       "    <tr>\n",
       "      <th>0</th>\n",
       "      <td>0.036133</td>\n",
       "      <td>528</td>\n",
       "      <td>304</td>\n",
       "      <td>31</td>\n",
       "      <td>29</td>\n",
       "      <td>0</td>\n",
       "      <td>0</td>\n",
       "      <td>87676.08594</td>\n",
       "      <td>50480.17188</td>\n",
       "      <td>4</td>\n",
       "      <td>...</td>\n",
       "      <td>1</td>\n",
       "      <td>0</td>\n",
       "      <td>0</td>\n",
       "      <td>0</td>\n",
       "      <td>0</td>\n",
       "      <td>0</td>\n",
       "      <td>0</td>\n",
       "      <td>0</td>\n",
       "      <td>0</td>\n",
       "      <td>0</td>\n",
       "    </tr>\n",
       "    <tr>\n",
       "      <th>1</th>\n",
       "      <td>0.001119</td>\n",
       "      <td>146</td>\n",
       "      <td>178</td>\n",
       "      <td>31</td>\n",
       "      <td>29</td>\n",
       "      <td>0</td>\n",
       "      <td>0</td>\n",
       "      <td>521894.53130</td>\n",
       "      <td>636282.37500</td>\n",
       "      <td>2</td>\n",
       "      <td>...</td>\n",
       "      <td>1</td>\n",
       "      <td>0</td>\n",
       "      <td>0</td>\n",
       "      <td>0</td>\n",
       "      <td>0</td>\n",
       "      <td>0</td>\n",
       "      <td>0</td>\n",
       "      <td>0</td>\n",
       "      <td>0</td>\n",
       "      <td>0</td>\n",
       "    </tr>\n",
       "    <tr>\n",
       "      <th>2</th>\n",
       "      <td>0.001209</td>\n",
       "      <td>132</td>\n",
       "      <td>164</td>\n",
       "      <td>31</td>\n",
       "      <td>29</td>\n",
       "      <td>0</td>\n",
       "      <td>0</td>\n",
       "      <td>436724.56250</td>\n",
       "      <td>542597.18750</td>\n",
       "      <td>2</td>\n",
       "      <td>...</td>\n",
       "      <td>1</td>\n",
       "      <td>0</td>\n",
       "      <td>0</td>\n",
       "      <td>0</td>\n",
       "      <td>0</td>\n",
       "      <td>0</td>\n",
       "      <td>0</td>\n",
       "      <td>0</td>\n",
       "      <td>0</td>\n",
       "      <td>0</td>\n",
       "    </tr>\n",
       "    <tr>\n",
       "      <th>3</th>\n",
       "      <td>0.001169</td>\n",
       "      <td>146</td>\n",
       "      <td>178</td>\n",
       "      <td>31</td>\n",
       "      <td>29</td>\n",
       "      <td>0</td>\n",
       "      <td>0</td>\n",
       "      <td>499572.25000</td>\n",
       "      <td>609067.56250</td>\n",
       "      <td>2</td>\n",
       "      <td>...</td>\n",
       "      <td>1</td>\n",
       "      <td>0</td>\n",
       "      <td>0</td>\n",
       "      <td>0</td>\n",
       "      <td>0</td>\n",
       "      <td>0</td>\n",
       "      <td>0</td>\n",
       "      <td>0</td>\n",
       "      <td>0</td>\n",
       "      <td>0</td>\n",
       "    </tr>\n",
       "    <tr>\n",
       "      <th>4</th>\n",
       "      <td>0.078339</td>\n",
       "      <td>568</td>\n",
       "      <td>312</td>\n",
       "      <td>31</td>\n",
       "      <td>29</td>\n",
       "      <td>0</td>\n",
       "      <td>0</td>\n",
       "      <td>43503.23438</td>\n",
       "      <td>23896.14258</td>\n",
       "      <td>4</td>\n",
       "      <td>...</td>\n",
       "      <td>1</td>\n",
       "      <td>0</td>\n",
       "      <td>0</td>\n",
       "      <td>0</td>\n",
       "      <td>0</td>\n",
       "      <td>0</td>\n",
       "      <td>0</td>\n",
       "      <td>0</td>\n",
       "      <td>0</td>\n",
       "      <td>0</td>\n",
       "    </tr>\n",
       "  </tbody>\n",
       "</table>\n",
       "<p>5 rows × 50 columns</p>\n",
       "</div>"
      ],
      "text/plain": [
       "        dur  sbytes  dbytes  sttl  dttl  sloss  dloss         Sload  \\\n",
       "0  0.036133     528     304    31    29      0      0   87676.08594   \n",
       "1  0.001119     146     178    31    29      0      0  521894.53130   \n",
       "2  0.001209     132     164    31    29      0      0  436724.56250   \n",
       "3  0.001169     146     178    31    29      0      0  499572.25000   \n",
       "4  0.078339     568     312    31    29      0      0   43503.23438   \n",
       "\n",
       "          Dload  Spkts  ...  Normal   Fuzzers  Analysis  Backdoors  DoS  \\\n",
       "0   50480.17188      4  ...       1         0         0          0    0   \n",
       "1  636282.37500      2  ...       1         0         0          0    0   \n",
       "2  542597.18750      2  ...       1         0         0          0    0   \n",
       "3  609067.56250      2  ...       1         0         0          0    0   \n",
       "4   23896.14258      4  ...       1         0         0          0    0   \n",
       "\n",
       "   Exploits  Generic  Reconnaissance  Shellcode  Worms  \n",
       "0         0        0               0          0      0  \n",
       "1         0        0               0          0      0  \n",
       "2         0        0               0          0      0  \n",
       "3         0        0               0          0      0  \n",
       "4         0        0               0          0      0  \n",
       "\n",
       "[5 rows x 50 columns]"
      ]
     },
     "execution_count": 140,
     "metadata": {},
     "output_type": "execute_result"
    }
   ],
   "source": [
    "data_normal.head()"
   ]
  },
  {
   "cell_type": "code",
   "execution_count": 141,
   "id": "52a1563e",
   "metadata": {},
   "outputs": [
    {
     "data": {
      "text/plain": [
       "Index(['dur', 'sbytes', 'dbytes', 'sttl', 'dttl', 'sloss', 'dloss', 'Sload',\n",
       "       'Dload', 'Spkts', 'Dpkts', 'swin', 'dwin', 'stcpb', 'dtcpb', 'smeansz',\n",
       "       'dmeansz', 'trans_depth', 'res_bdy_len', 'Sjit', 'Djit', 'Stime',\n",
       "       'Ltime', 'Sintpkt', 'Dintpkt', 'tcprtt', 'synack', 'ackdat',\n",
       "       'is_sm_ips_ports', 'ct_state_ttl', 'ct_flw_http_mthd', 'is_ftp_login',\n",
       "       'ct_ftp_cmd', 'ct_srv_src', 'ct_srv_dst', 'ct_dst_ltm', 'ct_src_ ltm',\n",
       "       'ct_src_dport_ltm', 'ct_dst_sport_ltm', 'ct_dst_src_ltm', 'Normal',\n",
       "       ' Fuzzers', 'Analysis', 'Backdoors', 'DoS', 'Exploits', 'Generic',\n",
       "       'Reconnaissance', 'Shellcode', 'Worms'],\n",
       "      dtype='object')"
      ]
     },
     "execution_count": 141,
     "metadata": {},
     "output_type": "execute_result"
    }
   ],
   "source": [
    "data_normal.columns"
   ]
  },
  {
   "cell_type": "code",
   "execution_count": 142,
   "id": "973676b9",
   "metadata": {},
   "outputs": [],
   "source": [
    "data_normal=data_normal.to_csv(r'E:\\My Drive\\UNSW-NB15 Dataset\\StabdardizedDatasetXY\\UNSW-NB15_1NN_NormalWith10Targets_OneHot.csv')"
   ]
  },
  {
   "cell_type": "code",
   "execution_count": 143,
   "id": "74dde3f3",
   "metadata": {},
   "outputs": [],
   "source": [
    "data_anormal=data.loc[data['Normal']==0]"
   ]
  },
  {
   "cell_type": "code",
   "execution_count": 144,
   "id": "664655c3",
   "metadata": {},
   "outputs": [
    {
     "data": {
      "text/plain": [
       "(22215, 50)"
      ]
     },
     "execution_count": 144,
     "metadata": {},
     "output_type": "execute_result"
    }
   ],
   "source": [
    "data_anormal.shape"
   ]
  },
  {
   "cell_type": "code",
   "execution_count": 145,
   "id": "01815b2c",
   "metadata": {},
   "outputs": [
    {
     "data": {
      "text/plain": [
       "Index(['dur', 'sbytes', 'dbytes', 'sttl', 'dttl', 'sloss', 'dloss', 'Sload',\n",
       "       'Dload', 'Spkts', 'Dpkts', 'swin', 'dwin', 'stcpb', 'dtcpb', 'smeansz',\n",
       "       'dmeansz', 'trans_depth', 'res_bdy_len', 'Sjit', 'Djit', 'Stime',\n",
       "       'Ltime', 'Sintpkt', 'Dintpkt', 'tcprtt', 'synack', 'ackdat',\n",
       "       'is_sm_ips_ports', 'ct_state_ttl', 'ct_flw_http_mthd', 'is_ftp_login',\n",
       "       'ct_ftp_cmd', 'ct_srv_src', 'ct_srv_dst', 'ct_dst_ltm', 'ct_src_ ltm',\n",
       "       'ct_src_dport_ltm', 'ct_dst_sport_ltm', 'ct_dst_src_ltm', ' Fuzzers',\n",
       "       'Analysis', 'Backdoors', 'DoS', 'Exploits', 'Generic', 'Normal',\n",
       "       'Reconnaissance', 'Shellcode', 'Worms'],\n",
       "      dtype='object')"
      ]
     },
     "execution_count": 145,
     "metadata": {},
     "output_type": "execute_result"
    }
   ],
   "source": [
    "data_anormal.columns"
   ]
  },
  {
   "cell_type": "code",
   "execution_count": 146,
   "id": "c4b166dc",
   "metadata": {},
   "outputs": [],
   "source": [
    "data_anormal=data_anormal[['dur', 'sbytes', 'dbytes', 'sttl', 'dttl', 'sloss', 'dloss', 'Sload',\n",
    "       'Dload', 'Spkts', 'Dpkts', 'swin', 'dwin', 'stcpb', 'dtcpb', 'smeansz',\n",
    "       'dmeansz', 'trans_depth', 'res_bdy_len', 'Sjit', 'Djit', 'Stime',\n",
    "       'Ltime', 'Sintpkt', 'Dintpkt', 'tcprtt', 'synack', 'ackdat',\n",
    "       'is_sm_ips_ports', 'ct_state_ttl', 'ct_flw_http_mthd', 'is_ftp_login',\n",
    "       'ct_ftp_cmd', 'ct_srv_src', 'ct_srv_dst', 'ct_dst_ltm', 'ct_src_ ltm',\n",
    "       'ct_src_dport_ltm', 'ct_dst_sport_ltm', 'ct_dst_src_ltm', 'Normal',' Fuzzers',\n",
    "       'Analysis', 'Backdoors', 'DoS', 'Exploits', 'Generic', \n",
    "       'Reconnaissance', 'Shellcode', 'Worms']]"
   ]
  },
  {
   "cell_type": "code",
   "execution_count": 147,
   "id": "46f45c23",
   "metadata": {},
   "outputs": [
    {
     "name": "stdout",
     "output_type": "stream",
     "text": [
      "<class 'pandas.core.frame.DataFrame'>\n",
      "Int64Index: 22215 entries, 19 to 186786\n",
      "Data columns (total 50 columns):\n",
      " #   Column            Non-Null Count  Dtype  \n",
      "---  ------            --------------  -----  \n",
      " 0   dur               22215 non-null  float64\n",
      " 1   sbytes            22215 non-null  int64  \n",
      " 2   dbytes            22215 non-null  int64  \n",
      " 3   sttl              22215 non-null  int64  \n",
      " 4   dttl              22215 non-null  int64  \n",
      " 5   sloss             22215 non-null  int64  \n",
      " 6   dloss             22215 non-null  int64  \n",
      " 7   Sload             22215 non-null  float64\n",
      " 8   Dload             22215 non-null  float64\n",
      " 9   Spkts             22215 non-null  int64  \n",
      " 10  Dpkts             22215 non-null  int64  \n",
      " 11  swin              22215 non-null  int64  \n",
      " 12  dwin              22215 non-null  int64  \n",
      " 13  stcpb             22215 non-null  int64  \n",
      " 14  dtcpb             22215 non-null  int64  \n",
      " 15  smeansz           22215 non-null  int64  \n",
      " 16  dmeansz           22215 non-null  int64  \n",
      " 17  trans_depth       22215 non-null  int64  \n",
      " 18  res_bdy_len       22215 non-null  int64  \n",
      " 19  Sjit              22215 non-null  float64\n",
      " 20  Djit              22215 non-null  float64\n",
      " 21  Stime             22215 non-null  int64  \n",
      " 22  Ltime             22215 non-null  int64  \n",
      " 23  Sintpkt           22215 non-null  float64\n",
      " 24  Dintpkt           22215 non-null  float64\n",
      " 25  tcprtt            22215 non-null  float64\n",
      " 26  synack            22215 non-null  float64\n",
      " 27  ackdat            22215 non-null  float64\n",
      " 28  is_sm_ips_ports   22215 non-null  int64  \n",
      " 29  ct_state_ttl      22215 non-null  int64  \n",
      " 30  ct_flw_http_mthd  22215 non-null  int64  \n",
      " 31  is_ftp_login      22215 non-null  int64  \n",
      " 32  ct_ftp_cmd        22215 non-null  int64  \n",
      " 33  ct_srv_src        22215 non-null  int64  \n",
      " 34  ct_srv_dst        22215 non-null  int64  \n",
      " 35  ct_dst_ltm        22215 non-null  int64  \n",
      " 36  ct_src_ ltm       22215 non-null  int64  \n",
      " 37  ct_src_dport_ltm  22215 non-null  int64  \n",
      " 38  ct_dst_sport_ltm  22215 non-null  int64  \n",
      " 39  ct_dst_src_ltm    22215 non-null  int64  \n",
      " 40  Normal            22215 non-null  int64  \n",
      " 41   Fuzzers          22215 non-null  int64  \n",
      " 42  Analysis          22215 non-null  int64  \n",
      " 43  Backdoors         22215 non-null  int64  \n",
      " 44  DoS               22215 non-null  int64  \n",
      " 45  Exploits          22215 non-null  int64  \n",
      " 46  Generic           22215 non-null  int64  \n",
      " 47  Reconnaissance    22215 non-null  int64  \n",
      " 48  Shellcode         22215 non-null  int64  \n",
      " 49  Worms             22215 non-null  int64  \n",
      "dtypes: float64(10), int64(40)\n",
      "memory usage: 8.6 MB\n"
     ]
    }
   ],
   "source": [
    "data_anormal.info()"
   ]
  },
  {
   "cell_type": "code",
   "execution_count": 148,
   "id": "a74a9497",
   "metadata": {},
   "outputs": [],
   "source": [
    "data_anormal=data_anormal.to_csv(r'E:\\My Drive\\UNSW-NB15 Dataset\\StabdardizedDatasetXY\\UNSW-NB15_1NN_Anormalwith10targets_OneHot.csv')"
   ]
  },
  {
   "cell_type": "markdown",
   "id": "1c4836ac",
   "metadata": {},
   "source": [
    "# Drop 10 features from Normal dataset based on SFS"
   ]
  },
  {
   "cell_type": "code",
   "execution_count": 149,
   "id": "b14a3a2a",
   "metadata": {},
   "outputs": [],
   "source": [
    "data_normal=pd.read_csv(r'E:\\My Drive\\UNSW-NB15 Dataset\\StabdardizedDatasetXY\\UNSW-NB15_1NN_NormalWith10Targets_OneHot.csv',low_memory=False)"
   ]
  },
  {
   "cell_type": "code",
   "execution_count": 150,
   "id": "2728c297",
   "metadata": {},
   "outputs": [
    {
     "data": {
      "text/plain": [
       "Index(['Unnamed: 0', 'dur', 'sbytes', 'dbytes', 'sttl', 'dttl', 'sloss',\n",
       "       'dloss', 'Sload', 'Dload', 'Spkts', 'Dpkts', 'swin', 'dwin', 'stcpb',\n",
       "       'dtcpb', 'smeansz', 'dmeansz', 'trans_depth', 'res_bdy_len', 'Sjit',\n",
       "       'Djit', 'Stime', 'Ltime', 'Sintpkt', 'Dintpkt', 'tcprtt', 'synack',\n",
       "       'ackdat', 'is_sm_ips_ports', 'ct_state_ttl', 'ct_flw_http_mthd',\n",
       "       'is_ftp_login', 'ct_ftp_cmd', 'ct_srv_src', 'ct_srv_dst', 'ct_dst_ltm',\n",
       "       'ct_src_ ltm', 'ct_src_dport_ltm', 'ct_dst_sport_ltm', 'ct_dst_src_ltm',\n",
       "       'Normal', ' Fuzzers', 'Analysis', 'Backdoors', 'DoS', 'Exploits',\n",
       "       'Generic', 'Reconnaissance', 'Shellcode', 'Worms'],\n",
       "      dtype='object')"
      ]
     },
     "execution_count": 150,
     "metadata": {},
     "output_type": "execute_result"
    }
   ],
   "source": [
    "data_normal.columns"
   ]
  },
  {
   "cell_type": "code",
   "execution_count": 151,
   "id": "32de1cd9",
   "metadata": {},
   "outputs": [],
   "source": [
    "data_normal=data_normal.drop(['Unnamed: 0'],axis=1)"
   ]
  },
  {
   "cell_type": "code",
   "execution_count": 152,
   "id": "c9440370",
   "metadata": {},
   "outputs": [
    {
     "data": {
      "text/plain": [
       "Index(['dur', 'sbytes', 'dbytes', 'sttl', 'dttl', 'sloss', 'dloss', 'Sload',\n",
       "       'Dload', 'Spkts', 'Dpkts', 'swin', 'dwin', 'stcpb', 'dtcpb', 'smeansz',\n",
       "       'dmeansz', 'trans_depth', 'res_bdy_len', 'Sjit', 'Djit', 'Stime',\n",
       "       'Ltime', 'Sintpkt', 'Dintpkt', 'tcprtt', 'synack', 'ackdat',\n",
       "       'is_sm_ips_ports', 'ct_state_ttl', 'ct_flw_http_mthd', 'is_ftp_login',\n",
       "       'ct_ftp_cmd', 'ct_srv_src', 'ct_srv_dst', 'ct_dst_ltm', 'ct_src_ ltm',\n",
       "       'ct_src_dport_ltm', 'ct_dst_sport_ltm', 'ct_dst_src_ltm', 'Normal',\n",
       "       ' Fuzzers', 'Analysis', 'Backdoors', 'DoS', 'Exploits', 'Generic',\n",
       "       'Reconnaissance', 'Shellcode', 'Worms'],\n",
       "      dtype='object')"
      ]
     },
     "execution_count": 152,
     "metadata": {},
     "output_type": "execute_result"
    }
   ],
   "source": [
    "data_normal.columns"
   ]
  },
  {
   "cell_type": "code",
   "execution_count": 153,
   "id": "778fd6f7",
   "metadata": {},
   "outputs": [
    {
     "data": {
      "text/plain": [
       "(677785, 50)"
      ]
     },
     "execution_count": 153,
     "metadata": {},
     "output_type": "execute_result"
    }
   ],
   "source": [
    "data_normal.shape"
   ]
  },
  {
   "cell_type": "code",
   "execution_count": 156,
   "id": "c82c2b0f",
   "metadata": {},
   "outputs": [],
   "source": [
    "#Select the first 40 columns as features \n",
    "X_1=data_normal.iloc[:,:40]\n",
    "#Slecte the 41-50 columns as targets \n",
    "y_1=data_normal.iloc[:,40:41]"
   ]
  },
  {
   "cell_type": "code",
   "execution_count": 159,
   "id": "338133c9",
   "metadata": {},
   "outputs": [
    {
     "data": {
      "text/html": [
       "<div>\n",
       "<style scoped>\n",
       "    .dataframe tbody tr th:only-of-type {\n",
       "        vertical-align: middle;\n",
       "    }\n",
       "\n",
       "    .dataframe tbody tr th {\n",
       "        vertical-align: top;\n",
       "    }\n",
       "\n",
       "    .dataframe thead th {\n",
       "        text-align: right;\n",
       "    }\n",
       "</style>\n",
       "<table border=\"1\" class=\"dataframe\">\n",
       "  <thead>\n",
       "    <tr style=\"text-align: right;\">\n",
       "      <th></th>\n",
       "      <th>dur</th>\n",
       "      <th>sbytes</th>\n",
       "      <th>dbytes</th>\n",
       "      <th>sttl</th>\n",
       "      <th>dttl</th>\n",
       "      <th>sloss</th>\n",
       "      <th>dloss</th>\n",
       "      <th>Sload</th>\n",
       "      <th>Dload</th>\n",
       "      <th>Spkts</th>\n",
       "      <th>...</th>\n",
       "      <th>ct_flw_http_mthd</th>\n",
       "      <th>is_ftp_login</th>\n",
       "      <th>ct_ftp_cmd</th>\n",
       "      <th>ct_srv_src</th>\n",
       "      <th>ct_srv_dst</th>\n",
       "      <th>ct_dst_ltm</th>\n",
       "      <th>ct_src_ ltm</th>\n",
       "      <th>ct_src_dport_ltm</th>\n",
       "      <th>ct_dst_sport_ltm</th>\n",
       "      <th>ct_dst_src_ltm</th>\n",
       "    </tr>\n",
       "  </thead>\n",
       "  <tbody>\n",
       "    <tr>\n",
       "      <th>0</th>\n",
       "      <td>0.036133</td>\n",
       "      <td>528</td>\n",
       "      <td>304</td>\n",
       "      <td>31</td>\n",
       "      <td>29</td>\n",
       "      <td>0</td>\n",
       "      <td>0</td>\n",
       "      <td>8.767609e+04</td>\n",
       "      <td>5.048017e+04</td>\n",
       "      <td>4</td>\n",
       "      <td>...</td>\n",
       "      <td>0</td>\n",
       "      <td>0</td>\n",
       "      <td>0</td>\n",
       "      <td>2</td>\n",
       "      <td>4</td>\n",
       "      <td>2</td>\n",
       "      <td>3</td>\n",
       "      <td>1</td>\n",
       "      <td>1</td>\n",
       "      <td>2</td>\n",
       "    </tr>\n",
       "    <tr>\n",
       "      <th>1</th>\n",
       "      <td>0.001119</td>\n",
       "      <td>146</td>\n",
       "      <td>178</td>\n",
       "      <td>31</td>\n",
       "      <td>29</td>\n",
       "      <td>0</td>\n",
       "      <td>0</td>\n",
       "      <td>5.218945e+05</td>\n",
       "      <td>6.362824e+05</td>\n",
       "      <td>2</td>\n",
       "      <td>...</td>\n",
       "      <td>0</td>\n",
       "      <td>0</td>\n",
       "      <td>0</td>\n",
       "      <td>12</td>\n",
       "      <td>8</td>\n",
       "      <td>1</td>\n",
       "      <td>2</td>\n",
       "      <td>2</td>\n",
       "      <td>1</td>\n",
       "      <td>1</td>\n",
       "    </tr>\n",
       "    <tr>\n",
       "      <th>2</th>\n",
       "      <td>0.001209</td>\n",
       "      <td>132</td>\n",
       "      <td>164</td>\n",
       "      <td>31</td>\n",
       "      <td>29</td>\n",
       "      <td>0</td>\n",
       "      <td>0</td>\n",
       "      <td>4.367246e+05</td>\n",
       "      <td>5.425972e+05</td>\n",
       "      <td>2</td>\n",
       "      <td>...</td>\n",
       "      <td>0</td>\n",
       "      <td>0</td>\n",
       "      <td>0</td>\n",
       "      <td>6</td>\n",
       "      <td>9</td>\n",
       "      <td>1</td>\n",
       "      <td>1</td>\n",
       "      <td>1</td>\n",
       "      <td>1</td>\n",
       "      <td>1</td>\n",
       "    </tr>\n",
       "    <tr>\n",
       "      <th>3</th>\n",
       "      <td>0.001169</td>\n",
       "      <td>146</td>\n",
       "      <td>178</td>\n",
       "      <td>31</td>\n",
       "      <td>29</td>\n",
       "      <td>0</td>\n",
       "      <td>0</td>\n",
       "      <td>4.995722e+05</td>\n",
       "      <td>6.090676e+05</td>\n",
       "      <td>2</td>\n",
       "      <td>...</td>\n",
       "      <td>0</td>\n",
       "      <td>0</td>\n",
       "      <td>0</td>\n",
       "      <td>7</td>\n",
       "      <td>9</td>\n",
       "      <td>1</td>\n",
       "      <td>1</td>\n",
       "      <td>1</td>\n",
       "      <td>1</td>\n",
       "      <td>1</td>\n",
       "    </tr>\n",
       "    <tr>\n",
       "      <th>4</th>\n",
       "      <td>0.078339</td>\n",
       "      <td>568</td>\n",
       "      <td>312</td>\n",
       "      <td>31</td>\n",
       "      <td>29</td>\n",
       "      <td>0</td>\n",
       "      <td>0</td>\n",
       "      <td>4.350323e+04</td>\n",
       "      <td>2.389614e+04</td>\n",
       "      <td>4</td>\n",
       "      <td>...</td>\n",
       "      <td>0</td>\n",
       "      <td>0</td>\n",
       "      <td>0</td>\n",
       "      <td>2</td>\n",
       "      <td>4</td>\n",
       "      <td>2</td>\n",
       "      <td>3</td>\n",
       "      <td>1</td>\n",
       "      <td>1</td>\n",
       "      <td>2</td>\n",
       "    </tr>\n",
       "    <tr>\n",
       "      <th>...</th>\n",
       "      <td>...</td>\n",
       "      <td>...</td>\n",
       "      <td>...</td>\n",
       "      <td>...</td>\n",
       "      <td>...</td>\n",
       "      <td>...</td>\n",
       "      <td>...</td>\n",
       "      <td>...</td>\n",
       "      <td>...</td>\n",
       "      <td>...</td>\n",
       "      <td>...</td>\n",
       "      <td>...</td>\n",
       "      <td>...</td>\n",
       "      <td>...</td>\n",
       "      <td>...</td>\n",
       "      <td>...</td>\n",
       "      <td>...</td>\n",
       "      <td>...</td>\n",
       "      <td>...</td>\n",
       "      <td>...</td>\n",
       "      <td>...</td>\n",
       "    </tr>\n",
       "    <tr>\n",
       "      <th>677780</th>\n",
       "      <td>0.020383</td>\n",
       "      <td>320</td>\n",
       "      <td>1874</td>\n",
       "      <td>31</td>\n",
       "      <td>29</td>\n",
       "      <td>1</td>\n",
       "      <td>2</td>\n",
       "      <td>1.047932e+05</td>\n",
       "      <td>6.436736e+05</td>\n",
       "      <td>6</td>\n",
       "      <td>...</td>\n",
       "      <td>0</td>\n",
       "      <td>0</td>\n",
       "      <td>0</td>\n",
       "      <td>8</td>\n",
       "      <td>20</td>\n",
       "      <td>7</td>\n",
       "      <td>5</td>\n",
       "      <td>1</td>\n",
       "      <td>1</td>\n",
       "      <td>4</td>\n",
       "    </tr>\n",
       "    <tr>\n",
       "      <th>677781</th>\n",
       "      <td>1.402957</td>\n",
       "      <td>19410</td>\n",
       "      <td>1087890</td>\n",
       "      <td>31</td>\n",
       "      <td>29</td>\n",
       "      <td>2</td>\n",
       "      <td>370</td>\n",
       "      <td>1.103783e+05</td>\n",
       "      <td>6.195098e+06</td>\n",
       "      <td>364</td>\n",
       "      <td>...</td>\n",
       "      <td>4</td>\n",
       "      <td>0</td>\n",
       "      <td>0</td>\n",
       "      <td>1</td>\n",
       "      <td>1</td>\n",
       "      <td>2</td>\n",
       "      <td>7</td>\n",
       "      <td>2</td>\n",
       "      <td>2</td>\n",
       "      <td>2</td>\n",
       "    </tr>\n",
       "    <tr>\n",
       "      <th>677782</th>\n",
       "      <td>0.007108</td>\n",
       "      <td>2158</td>\n",
       "      <td>2464</td>\n",
       "      <td>31</td>\n",
       "      <td>29</td>\n",
       "      <td>6</td>\n",
       "      <td>6</td>\n",
       "      <td>2.328644e+06</td>\n",
       "      <td>2.658413e+06</td>\n",
       "      <td>24</td>\n",
       "      <td>...</td>\n",
       "      <td>0</td>\n",
       "      <td>0</td>\n",
       "      <td>0</td>\n",
       "      <td>13</td>\n",
       "      <td>13</td>\n",
       "      <td>6</td>\n",
       "      <td>7</td>\n",
       "      <td>2</td>\n",
       "      <td>1</td>\n",
       "      <td>2</td>\n",
       "    </tr>\n",
       "    <tr>\n",
       "      <th>677783</th>\n",
       "      <td>0.004435</td>\n",
       "      <td>568</td>\n",
       "      <td>304</td>\n",
       "      <td>31</td>\n",
       "      <td>29</td>\n",
       "      <td>0</td>\n",
       "      <td>0</td>\n",
       "      <td>7.684329e+05</td>\n",
       "      <td>4.112740e+05</td>\n",
       "      <td>4</td>\n",
       "      <td>...</td>\n",
       "      <td>0</td>\n",
       "      <td>0</td>\n",
       "      <td>0</td>\n",
       "      <td>10</td>\n",
       "      <td>13</td>\n",
       "      <td>6</td>\n",
       "      <td>5</td>\n",
       "      <td>1</td>\n",
       "      <td>1</td>\n",
       "      <td>3</td>\n",
       "    </tr>\n",
       "    <tr>\n",
       "      <th>677784</th>\n",
       "      <td>0.072974</td>\n",
       "      <td>4238</td>\n",
       "      <td>60788</td>\n",
       "      <td>31</td>\n",
       "      <td>29</td>\n",
       "      <td>7</td>\n",
       "      <td>30</td>\n",
       "      <td>4.582454e+05</td>\n",
       "      <td>6.571546e+06</td>\n",
       "      <td>72</td>\n",
       "      <td>...</td>\n",
       "      <td>0</td>\n",
       "      <td>0</td>\n",
       "      <td>0</td>\n",
       "      <td>13</td>\n",
       "      <td>13</td>\n",
       "      <td>6</td>\n",
       "      <td>7</td>\n",
       "      <td>1</td>\n",
       "      <td>1</td>\n",
       "      <td>2</td>\n",
       "    </tr>\n",
       "  </tbody>\n",
       "</table>\n",
       "<p>677785 rows × 40 columns</p>\n",
       "</div>"
      ],
      "text/plain": [
       "             dur  sbytes   dbytes  sttl  dttl  sloss  dloss         Sload  \\\n",
       "0       0.036133     528      304    31    29      0      0  8.767609e+04   \n",
       "1       0.001119     146      178    31    29      0      0  5.218945e+05   \n",
       "2       0.001209     132      164    31    29      0      0  4.367246e+05   \n",
       "3       0.001169     146      178    31    29      0      0  4.995722e+05   \n",
       "4       0.078339     568      312    31    29      0      0  4.350323e+04   \n",
       "...          ...     ...      ...   ...   ...    ...    ...           ...   \n",
       "677780  0.020383     320     1874    31    29      1      2  1.047932e+05   \n",
       "677781  1.402957   19410  1087890    31    29      2    370  1.103783e+05   \n",
       "677782  0.007108    2158     2464    31    29      6      6  2.328644e+06   \n",
       "677783  0.004435     568      304    31    29      0      0  7.684329e+05   \n",
       "677784  0.072974    4238    60788    31    29      7     30  4.582454e+05   \n",
       "\n",
       "               Dload  Spkts  ...  ct_flw_http_mthd  is_ftp_login  ct_ftp_cmd  \\\n",
       "0       5.048017e+04      4  ...                 0             0           0   \n",
       "1       6.362824e+05      2  ...                 0             0           0   \n",
       "2       5.425972e+05      2  ...                 0             0           0   \n",
       "3       6.090676e+05      2  ...                 0             0           0   \n",
       "4       2.389614e+04      4  ...                 0             0           0   \n",
       "...              ...    ...  ...               ...           ...         ...   \n",
       "677780  6.436736e+05      6  ...                 0             0           0   \n",
       "677781  6.195098e+06    364  ...                 4             0           0   \n",
       "677782  2.658413e+06     24  ...                 0             0           0   \n",
       "677783  4.112740e+05      4  ...                 0             0           0   \n",
       "677784  6.571546e+06     72  ...                 0             0           0   \n",
       "\n",
       "        ct_srv_src  ct_srv_dst  ct_dst_ltm  ct_src_ ltm  ct_src_dport_ltm  \\\n",
       "0                2           4           2            3                 1   \n",
       "1               12           8           1            2                 2   \n",
       "2                6           9           1            1                 1   \n",
       "3                7           9           1            1                 1   \n",
       "4                2           4           2            3                 1   \n",
       "...            ...         ...         ...          ...               ...   \n",
       "677780           8          20           7            5                 1   \n",
       "677781           1           1           2            7                 2   \n",
       "677782          13          13           6            7                 2   \n",
       "677783          10          13           6            5                 1   \n",
       "677784          13          13           6            7                 1   \n",
       "\n",
       "        ct_dst_sport_ltm  ct_dst_src_ltm  \n",
       "0                      1               2  \n",
       "1                      1               1  \n",
       "2                      1               1  \n",
       "3                      1               1  \n",
       "4                      1               2  \n",
       "...                  ...             ...  \n",
       "677780                 1               4  \n",
       "677781                 2               2  \n",
       "677782                 1               2  \n",
       "677783                 1               3  \n",
       "677784                 1               2  \n",
       "\n",
       "[677785 rows x 40 columns]"
      ]
     },
     "execution_count": 159,
     "metadata": {},
     "output_type": "execute_result"
    }
   ],
   "source": [
    "X_1"
   ]
  },
  {
   "cell_type": "code",
   "execution_count": 160,
   "id": "7e263279",
   "metadata": {},
   "outputs": [
    {
     "data": {
      "text/html": [
       "<div>\n",
       "<style scoped>\n",
       "    .dataframe tbody tr th:only-of-type {\n",
       "        vertical-align: middle;\n",
       "    }\n",
       "\n",
       "    .dataframe tbody tr th {\n",
       "        vertical-align: top;\n",
       "    }\n",
       "\n",
       "    .dataframe thead th {\n",
       "        text-align: right;\n",
       "    }\n",
       "</style>\n",
       "<table border=\"1\" class=\"dataframe\">\n",
       "  <thead>\n",
       "    <tr style=\"text-align: right;\">\n",
       "      <th></th>\n",
       "      <th>Normal</th>\n",
       "    </tr>\n",
       "  </thead>\n",
       "  <tbody>\n",
       "    <tr>\n",
       "      <th>0</th>\n",
       "      <td>1</td>\n",
       "    </tr>\n",
       "    <tr>\n",
       "      <th>1</th>\n",
       "      <td>1</td>\n",
       "    </tr>\n",
       "    <tr>\n",
       "      <th>2</th>\n",
       "      <td>1</td>\n",
       "    </tr>\n",
       "    <tr>\n",
       "      <th>3</th>\n",
       "      <td>1</td>\n",
       "    </tr>\n",
       "    <tr>\n",
       "      <th>4</th>\n",
       "      <td>1</td>\n",
       "    </tr>\n",
       "    <tr>\n",
       "      <th>...</th>\n",
       "      <td>...</td>\n",
       "    </tr>\n",
       "    <tr>\n",
       "      <th>677780</th>\n",
       "      <td>1</td>\n",
       "    </tr>\n",
       "    <tr>\n",
       "      <th>677781</th>\n",
       "      <td>1</td>\n",
       "    </tr>\n",
       "    <tr>\n",
       "      <th>677782</th>\n",
       "      <td>1</td>\n",
       "    </tr>\n",
       "    <tr>\n",
       "      <th>677783</th>\n",
       "      <td>1</td>\n",
       "    </tr>\n",
       "    <tr>\n",
       "      <th>677784</th>\n",
       "      <td>1</td>\n",
       "    </tr>\n",
       "  </tbody>\n",
       "</table>\n",
       "<p>677785 rows × 1 columns</p>\n",
       "</div>"
      ],
      "text/plain": [
       "        Normal\n",
       "0            1\n",
       "1            1\n",
       "2            1\n",
       "3            1\n",
       "4            1\n",
       "...        ...\n",
       "677780       1\n",
       "677781       1\n",
       "677782       1\n",
       "677783       1\n",
       "677784       1\n",
       "\n",
       "[677785 rows x 1 columns]"
      ]
     },
     "execution_count": 160,
     "metadata": {},
     "output_type": "execute_result"
    }
   ],
   "source": [
    "y_1"
   ]
  },
  {
   "cell_type": "code",
   "execution_count": 161,
   "id": "5e5d47d8",
   "metadata": {},
   "outputs": [],
   "source": [
    "X_1=X_1.to_csv(r'E:\\My Drive\\UNSW-NB15 Dataset\\StabdardizedDatasetXY\\UNSW-NB15_1NN_X_1_10cat_OneHot.csv')"
   ]
  },
  {
   "cell_type": "code",
   "execution_count": 162,
   "id": "3adf7ad0",
   "metadata": {},
   "outputs": [],
   "source": [
    "# Normal Data Drop object features "
   ]
  },
  {
   "cell_type": "code",
   "execution_count": 163,
   "id": "2d1b9739",
   "metadata": {},
   "outputs": [],
   "source": [
    "Data_normal_New=data_normal.drop(['Sload','dwin', 'stcpb','trans_depth','Djit','Sintpkt', 'Dintpkt','is_ftp_login','ct_src_dport_ltm'],axis=1)"
   ]
  },
  {
   "cell_type": "code",
   "execution_count": 164,
   "id": "c294f905",
   "metadata": {},
   "outputs": [
    {
     "data": {
      "text/plain": [
       "(677785, 41)"
      ]
     },
     "execution_count": 164,
     "metadata": {},
     "output_type": "execute_result"
    }
   ],
   "source": [
    "Data_normal_New.shape"
   ]
  },
  {
   "cell_type": "code",
   "execution_count": 165,
   "id": "205525a1",
   "metadata": {},
   "outputs": [
    {
     "data": {
      "text/plain": [
       "Index(['dur', 'sbytes', 'dbytes', 'sttl', 'dttl', 'sloss', 'dloss', 'Dload',\n",
       "       'Spkts', 'Dpkts', 'swin', 'dtcpb', 'smeansz', 'dmeansz', 'res_bdy_len',\n",
       "       'Sjit', 'Stime', 'Ltime', 'tcprtt', 'synack', 'ackdat',\n",
       "       'is_sm_ips_ports', 'ct_state_ttl', 'ct_flw_http_mthd', 'ct_ftp_cmd',\n",
       "       'ct_srv_src', 'ct_srv_dst', 'ct_dst_ltm', 'ct_src_ ltm',\n",
       "       'ct_dst_sport_ltm', 'ct_dst_src_ltm', 'Normal', ' Fuzzers', 'Analysis',\n",
       "       'Backdoors', 'DoS', 'Exploits', 'Generic', 'Reconnaissance',\n",
       "       'Shellcode', 'Worms'],\n",
       "      dtype='object')"
      ]
     },
     "execution_count": 165,
     "metadata": {},
     "output_type": "execute_result"
    }
   ],
   "source": [
    "Data_normal_New.columns"
   ]
  },
  {
   "cell_type": "code",
   "execution_count": 166,
   "id": "94a24751",
   "metadata": {},
   "outputs": [],
   "source": [
    "Data_normal_New=Data_normal_New.to_csv(r'E:\\My Drive\\UNSW-NB15 Dataset\\StabdardizedDatasetXY\\UNSW-NB15_1NN_Normal_new_with10targets_OneHot.csv')"
   ]
  },
  {
   "cell_type": "code",
   "execution_count": 167,
   "id": "13a2bf46",
   "metadata": {},
   "outputs": [],
   "source": [
    "Data_normal_New=pd.read_csv(r'E:\\My Drive\\UNSW-NB15 Dataset\\StabdardizedDatasetXY\\UNSW-NB15_1NN_Normal_new_with10targets_OneHot.csv')"
   ]
  },
  {
   "cell_type": "code",
   "execution_count": 168,
   "id": "b7c4800f",
   "metadata": {},
   "outputs": [
    {
     "data": {
      "text/plain": [
       "Index(['Unnamed: 0', 'dur', 'sbytes', 'dbytes', 'sttl', 'dttl', 'sloss',\n",
       "       'dloss', 'Dload', 'Spkts', 'Dpkts', 'swin', 'dtcpb', 'smeansz',\n",
       "       'dmeansz', 'res_bdy_len', 'Sjit', 'Stime', 'Ltime', 'tcprtt', 'synack',\n",
       "       'ackdat', 'is_sm_ips_ports', 'ct_state_ttl', 'ct_flw_http_mthd',\n",
       "       'ct_ftp_cmd', 'ct_srv_src', 'ct_srv_dst', 'ct_dst_ltm', 'ct_src_ ltm',\n",
       "       'ct_dst_sport_ltm', 'ct_dst_src_ltm', 'Normal', ' Fuzzers', 'Analysis',\n",
       "       'Backdoors', 'DoS', 'Exploits', 'Generic', 'Reconnaissance',\n",
       "       'Shellcode', 'Worms'],\n",
       "      dtype='object')"
      ]
     },
     "execution_count": 168,
     "metadata": {},
     "output_type": "execute_result"
    }
   ],
   "source": [
    "Data_normal_New.columns"
   ]
  },
  {
   "cell_type": "code",
   "execution_count": 169,
   "id": "9c3946fd",
   "metadata": {},
   "outputs": [
    {
     "data": {
      "text/plain": [
       "(677785, 42)"
      ]
     },
     "execution_count": 169,
     "metadata": {},
     "output_type": "execute_result"
    }
   ],
   "source": [
    "Data_normal_New.shape"
   ]
  },
  {
   "cell_type": "code",
   "execution_count": 170,
   "id": "be08f28d",
   "metadata": {},
   "outputs": [
    {
     "data": {
      "text/html": [
       "<div>\n",
       "<style scoped>\n",
       "    .dataframe tbody tr th:only-of-type {\n",
       "        vertical-align: middle;\n",
       "    }\n",
       "\n",
       "    .dataframe tbody tr th {\n",
       "        vertical-align: top;\n",
       "    }\n",
       "\n",
       "    .dataframe thead th {\n",
       "        text-align: right;\n",
       "    }\n",
       "</style>\n",
       "<table border=\"1\" class=\"dataframe\">\n",
       "  <thead>\n",
       "    <tr style=\"text-align: right;\">\n",
       "      <th></th>\n",
       "      <th>Unnamed: 0</th>\n",
       "      <th>dur</th>\n",
       "      <th>sbytes</th>\n",
       "      <th>dbytes</th>\n",
       "      <th>sttl</th>\n",
       "      <th>dttl</th>\n",
       "      <th>sloss</th>\n",
       "      <th>dloss</th>\n",
       "      <th>Dload</th>\n",
       "      <th>Spkts</th>\n",
       "      <th>...</th>\n",
       "      <th>Normal</th>\n",
       "      <th>Fuzzers</th>\n",
       "      <th>Analysis</th>\n",
       "      <th>Backdoors</th>\n",
       "      <th>DoS</th>\n",
       "      <th>Exploits</th>\n",
       "      <th>Generic</th>\n",
       "      <th>Reconnaissance</th>\n",
       "      <th>Shellcode</th>\n",
       "      <th>Worms</th>\n",
       "    </tr>\n",
       "  </thead>\n",
       "  <tbody>\n",
       "    <tr>\n",
       "      <th>0</th>\n",
       "      <td>0</td>\n",
       "      <td>0.036133</td>\n",
       "      <td>528</td>\n",
       "      <td>304</td>\n",
       "      <td>31</td>\n",
       "      <td>29</td>\n",
       "      <td>0</td>\n",
       "      <td>0</td>\n",
       "      <td>50480.17188</td>\n",
       "      <td>4</td>\n",
       "      <td>...</td>\n",
       "      <td>1</td>\n",
       "      <td>0</td>\n",
       "      <td>0</td>\n",
       "      <td>0</td>\n",
       "      <td>0</td>\n",
       "      <td>0</td>\n",
       "      <td>0</td>\n",
       "      <td>0</td>\n",
       "      <td>0</td>\n",
       "      <td>0</td>\n",
       "    </tr>\n",
       "    <tr>\n",
       "      <th>1</th>\n",
       "      <td>1</td>\n",
       "      <td>0.001119</td>\n",
       "      <td>146</td>\n",
       "      <td>178</td>\n",
       "      <td>31</td>\n",
       "      <td>29</td>\n",
       "      <td>0</td>\n",
       "      <td>0</td>\n",
       "      <td>636282.37500</td>\n",
       "      <td>2</td>\n",
       "      <td>...</td>\n",
       "      <td>1</td>\n",
       "      <td>0</td>\n",
       "      <td>0</td>\n",
       "      <td>0</td>\n",
       "      <td>0</td>\n",
       "      <td>0</td>\n",
       "      <td>0</td>\n",
       "      <td>0</td>\n",
       "      <td>0</td>\n",
       "      <td>0</td>\n",
       "    </tr>\n",
       "    <tr>\n",
       "      <th>2</th>\n",
       "      <td>2</td>\n",
       "      <td>0.001209</td>\n",
       "      <td>132</td>\n",
       "      <td>164</td>\n",
       "      <td>31</td>\n",
       "      <td>29</td>\n",
       "      <td>0</td>\n",
       "      <td>0</td>\n",
       "      <td>542597.18750</td>\n",
       "      <td>2</td>\n",
       "      <td>...</td>\n",
       "      <td>1</td>\n",
       "      <td>0</td>\n",
       "      <td>0</td>\n",
       "      <td>0</td>\n",
       "      <td>0</td>\n",
       "      <td>0</td>\n",
       "      <td>0</td>\n",
       "      <td>0</td>\n",
       "      <td>0</td>\n",
       "      <td>0</td>\n",
       "    </tr>\n",
       "    <tr>\n",
       "      <th>3</th>\n",
       "      <td>3</td>\n",
       "      <td>0.001169</td>\n",
       "      <td>146</td>\n",
       "      <td>178</td>\n",
       "      <td>31</td>\n",
       "      <td>29</td>\n",
       "      <td>0</td>\n",
       "      <td>0</td>\n",
       "      <td>609067.56250</td>\n",
       "      <td>2</td>\n",
       "      <td>...</td>\n",
       "      <td>1</td>\n",
       "      <td>0</td>\n",
       "      <td>0</td>\n",
       "      <td>0</td>\n",
       "      <td>0</td>\n",
       "      <td>0</td>\n",
       "      <td>0</td>\n",
       "      <td>0</td>\n",
       "      <td>0</td>\n",
       "      <td>0</td>\n",
       "    </tr>\n",
       "    <tr>\n",
       "      <th>4</th>\n",
       "      <td>4</td>\n",
       "      <td>0.078339</td>\n",
       "      <td>568</td>\n",
       "      <td>312</td>\n",
       "      <td>31</td>\n",
       "      <td>29</td>\n",
       "      <td>0</td>\n",
       "      <td>0</td>\n",
       "      <td>23896.14258</td>\n",
       "      <td>4</td>\n",
       "      <td>...</td>\n",
       "      <td>1</td>\n",
       "      <td>0</td>\n",
       "      <td>0</td>\n",
       "      <td>0</td>\n",
       "      <td>0</td>\n",
       "      <td>0</td>\n",
       "      <td>0</td>\n",
       "      <td>0</td>\n",
       "      <td>0</td>\n",
       "      <td>0</td>\n",
       "    </tr>\n",
       "  </tbody>\n",
       "</table>\n",
       "<p>5 rows × 42 columns</p>\n",
       "</div>"
      ],
      "text/plain": [
       "   Unnamed: 0       dur  sbytes  dbytes  sttl  dttl  sloss  dloss  \\\n",
       "0           0  0.036133     528     304    31    29      0      0   \n",
       "1           1  0.001119     146     178    31    29      0      0   \n",
       "2           2  0.001209     132     164    31    29      0      0   \n",
       "3           3  0.001169     146     178    31    29      0      0   \n",
       "4           4  0.078339     568     312    31    29      0      0   \n",
       "\n",
       "          Dload  Spkts  ...  Normal   Fuzzers  Analysis  Backdoors  DoS  \\\n",
       "0   50480.17188      4  ...       1         0         0          0    0   \n",
       "1  636282.37500      2  ...       1         0         0          0    0   \n",
       "2  542597.18750      2  ...       1         0         0          0    0   \n",
       "3  609067.56250      2  ...       1         0         0          0    0   \n",
       "4   23896.14258      4  ...       1         0         0          0    0   \n",
       "\n",
       "   Exploits  Generic  Reconnaissance  Shellcode  Worms  \n",
       "0         0        0               0          0      0  \n",
       "1         0        0               0          0      0  \n",
       "2         0        0               0          0      0  \n",
       "3         0        0               0          0      0  \n",
       "4         0        0               0          0      0  \n",
       "\n",
       "[5 rows x 42 columns]"
      ]
     },
     "execution_count": 170,
     "metadata": {},
     "output_type": "execute_result"
    }
   ],
   "source": [
    "Data_normal_New.head()"
   ]
  },
  {
   "cell_type": "code",
   "execution_count": 176,
   "id": "777b3548",
   "metadata": {},
   "outputs": [],
   "source": [
    "#Select the first 31 columns as features \n",
    "X_1=Data_normal_New.iloc[:,:31]\n",
    "#Slecte the 41-50 columns as targets \n",
    "y_1=Data_normal_New.iloc[:,32:33]"
   ]
  },
  {
   "cell_type": "code",
   "execution_count": 177,
   "id": "068be499",
   "metadata": {},
   "outputs": [
    {
     "data": {
      "text/html": [
       "<div>\n",
       "<style scoped>\n",
       "    .dataframe tbody tr th:only-of-type {\n",
       "        vertical-align: middle;\n",
       "    }\n",
       "\n",
       "    .dataframe tbody tr th {\n",
       "        vertical-align: top;\n",
       "    }\n",
       "\n",
       "    .dataframe thead th {\n",
       "        text-align: right;\n",
       "    }\n",
       "</style>\n",
       "<table border=\"1\" class=\"dataframe\">\n",
       "  <thead>\n",
       "    <tr style=\"text-align: right;\">\n",
       "      <th></th>\n",
       "      <th>Unnamed: 0</th>\n",
       "      <th>dur</th>\n",
       "      <th>sbytes</th>\n",
       "      <th>dbytes</th>\n",
       "      <th>sttl</th>\n",
       "      <th>dttl</th>\n",
       "      <th>sloss</th>\n",
       "      <th>dloss</th>\n",
       "      <th>Dload</th>\n",
       "      <th>Spkts</th>\n",
       "      <th>...</th>\n",
       "      <th>ackdat</th>\n",
       "      <th>is_sm_ips_ports</th>\n",
       "      <th>ct_state_ttl</th>\n",
       "      <th>ct_flw_http_mthd</th>\n",
       "      <th>ct_ftp_cmd</th>\n",
       "      <th>ct_srv_src</th>\n",
       "      <th>ct_srv_dst</th>\n",
       "      <th>ct_dst_ltm</th>\n",
       "      <th>ct_src_ ltm</th>\n",
       "      <th>ct_dst_sport_ltm</th>\n",
       "    </tr>\n",
       "  </thead>\n",
       "  <tbody>\n",
       "    <tr>\n",
       "      <th>0</th>\n",
       "      <td>0</td>\n",
       "      <td>0.036133</td>\n",
       "      <td>528</td>\n",
       "      <td>304</td>\n",
       "      <td>31</td>\n",
       "      <td>29</td>\n",
       "      <td>0</td>\n",
       "      <td>0</td>\n",
       "      <td>5.048017e+04</td>\n",
       "      <td>4</td>\n",
       "      <td>...</td>\n",
       "      <td>0.000000</td>\n",
       "      <td>0</td>\n",
       "      <td>0</td>\n",
       "      <td>0</td>\n",
       "      <td>0</td>\n",
       "      <td>2</td>\n",
       "      <td>4</td>\n",
       "      <td>2</td>\n",
       "      <td>3</td>\n",
       "      <td>1</td>\n",
       "    </tr>\n",
       "    <tr>\n",
       "      <th>1</th>\n",
       "      <td>1</td>\n",
       "      <td>0.001119</td>\n",
       "      <td>146</td>\n",
       "      <td>178</td>\n",
       "      <td>31</td>\n",
       "      <td>29</td>\n",
       "      <td>0</td>\n",
       "      <td>0</td>\n",
       "      <td>6.362824e+05</td>\n",
       "      <td>2</td>\n",
       "      <td>...</td>\n",
       "      <td>0.000000</td>\n",
       "      <td>0</td>\n",
       "      <td>0</td>\n",
       "      <td>0</td>\n",
       "      <td>0</td>\n",
       "      <td>12</td>\n",
       "      <td>8</td>\n",
       "      <td>1</td>\n",
       "      <td>2</td>\n",
       "      <td>1</td>\n",
       "    </tr>\n",
       "    <tr>\n",
       "      <th>2</th>\n",
       "      <td>2</td>\n",
       "      <td>0.001209</td>\n",
       "      <td>132</td>\n",
       "      <td>164</td>\n",
       "      <td>31</td>\n",
       "      <td>29</td>\n",
       "      <td>0</td>\n",
       "      <td>0</td>\n",
       "      <td>5.425972e+05</td>\n",
       "      <td>2</td>\n",
       "      <td>...</td>\n",
       "      <td>0.000000</td>\n",
       "      <td>0</td>\n",
       "      <td>0</td>\n",
       "      <td>0</td>\n",
       "      <td>0</td>\n",
       "      <td>6</td>\n",
       "      <td>9</td>\n",
       "      <td>1</td>\n",
       "      <td>1</td>\n",
       "      <td>1</td>\n",
       "    </tr>\n",
       "    <tr>\n",
       "      <th>3</th>\n",
       "      <td>3</td>\n",
       "      <td>0.001169</td>\n",
       "      <td>146</td>\n",
       "      <td>178</td>\n",
       "      <td>31</td>\n",
       "      <td>29</td>\n",
       "      <td>0</td>\n",
       "      <td>0</td>\n",
       "      <td>6.090676e+05</td>\n",
       "      <td>2</td>\n",
       "      <td>...</td>\n",
       "      <td>0.000000</td>\n",
       "      <td>0</td>\n",
       "      <td>0</td>\n",
       "      <td>0</td>\n",
       "      <td>0</td>\n",
       "      <td>7</td>\n",
       "      <td>9</td>\n",
       "      <td>1</td>\n",
       "      <td>1</td>\n",
       "      <td>1</td>\n",
       "    </tr>\n",
       "    <tr>\n",
       "      <th>4</th>\n",
       "      <td>4</td>\n",
       "      <td>0.078339</td>\n",
       "      <td>568</td>\n",
       "      <td>312</td>\n",
       "      <td>31</td>\n",
       "      <td>29</td>\n",
       "      <td>0</td>\n",
       "      <td>0</td>\n",
       "      <td>2.389614e+04</td>\n",
       "      <td>4</td>\n",
       "      <td>...</td>\n",
       "      <td>0.000000</td>\n",
       "      <td>0</td>\n",
       "      <td>0</td>\n",
       "      <td>0</td>\n",
       "      <td>0</td>\n",
       "      <td>2</td>\n",
       "      <td>4</td>\n",
       "      <td>2</td>\n",
       "      <td>3</td>\n",
       "      <td>1</td>\n",
       "    </tr>\n",
       "    <tr>\n",
       "      <th>...</th>\n",
       "      <td>...</td>\n",
       "      <td>...</td>\n",
       "      <td>...</td>\n",
       "      <td>...</td>\n",
       "      <td>...</td>\n",
       "      <td>...</td>\n",
       "      <td>...</td>\n",
       "      <td>...</td>\n",
       "      <td>...</td>\n",
       "      <td>...</td>\n",
       "      <td>...</td>\n",
       "      <td>...</td>\n",
       "      <td>...</td>\n",
       "      <td>...</td>\n",
       "      <td>...</td>\n",
       "      <td>...</td>\n",
       "      <td>...</td>\n",
       "      <td>...</td>\n",
       "      <td>...</td>\n",
       "      <td>...</td>\n",
       "      <td>...</td>\n",
       "    </tr>\n",
       "    <tr>\n",
       "      <th>677780</th>\n",
       "      <td>677780</td>\n",
       "      <td>0.020383</td>\n",
       "      <td>320</td>\n",
       "      <td>1874</td>\n",
       "      <td>31</td>\n",
       "      <td>29</td>\n",
       "      <td>1</td>\n",
       "      <td>2</td>\n",
       "      <td>6.436736e+05</td>\n",
       "      <td>6</td>\n",
       "      <td>...</td>\n",
       "      <td>0.000197</td>\n",
       "      <td>0</td>\n",
       "      <td>0</td>\n",
       "      <td>0</td>\n",
       "      <td>0</td>\n",
       "      <td>8</td>\n",
       "      <td>20</td>\n",
       "      <td>7</td>\n",
       "      <td>5</td>\n",
       "      <td>1</td>\n",
       "    </tr>\n",
       "    <tr>\n",
       "      <th>677781</th>\n",
       "      <td>677781</td>\n",
       "      <td>1.402957</td>\n",
       "      <td>19410</td>\n",
       "      <td>1087890</td>\n",
       "      <td>31</td>\n",
       "      <td>29</td>\n",
       "      <td>2</td>\n",
       "      <td>370</td>\n",
       "      <td>6.195098e+06</td>\n",
       "      <td>364</td>\n",
       "      <td>...</td>\n",
       "      <td>0.000162</td>\n",
       "      <td>0</td>\n",
       "      <td>0</td>\n",
       "      <td>4</td>\n",
       "      <td>0</td>\n",
       "      <td>1</td>\n",
       "      <td>1</td>\n",
       "      <td>2</td>\n",
       "      <td>7</td>\n",
       "      <td>2</td>\n",
       "    </tr>\n",
       "    <tr>\n",
       "      <th>677782</th>\n",
       "      <td>677782</td>\n",
       "      <td>0.007108</td>\n",
       "      <td>2158</td>\n",
       "      <td>2464</td>\n",
       "      <td>31</td>\n",
       "      <td>29</td>\n",
       "      <td>6</td>\n",
       "      <td>6</td>\n",
       "      <td>2.658413e+06</td>\n",
       "      <td>24</td>\n",
       "      <td>...</td>\n",
       "      <td>0.000125</td>\n",
       "      <td>0</td>\n",
       "      <td>0</td>\n",
       "      <td>0</td>\n",
       "      <td>0</td>\n",
       "      <td>13</td>\n",
       "      <td>13</td>\n",
       "      <td>6</td>\n",
       "      <td>7</td>\n",
       "      <td>1</td>\n",
       "    </tr>\n",
       "    <tr>\n",
       "      <th>677783</th>\n",
       "      <td>677783</td>\n",
       "      <td>0.004435</td>\n",
       "      <td>568</td>\n",
       "      <td>304</td>\n",
       "      <td>31</td>\n",
       "      <td>29</td>\n",
       "      <td>0</td>\n",
       "      <td>0</td>\n",
       "      <td>4.112740e+05</td>\n",
       "      <td>4</td>\n",
       "      <td>...</td>\n",
       "      <td>0.000000</td>\n",
       "      <td>0</td>\n",
       "      <td>0</td>\n",
       "      <td>0</td>\n",
       "      <td>0</td>\n",
       "      <td>10</td>\n",
       "      <td>13</td>\n",
       "      <td>6</td>\n",
       "      <td>5</td>\n",
       "      <td>1</td>\n",
       "    </tr>\n",
       "    <tr>\n",
       "      <th>677784</th>\n",
       "      <td>677784</td>\n",
       "      <td>0.072974</td>\n",
       "      <td>4238</td>\n",
       "      <td>60788</td>\n",
       "      <td>31</td>\n",
       "      <td>29</td>\n",
       "      <td>7</td>\n",
       "      <td>30</td>\n",
       "      <td>6.571546e+06</td>\n",
       "      <td>72</td>\n",
       "      <td>...</td>\n",
       "      <td>0.000144</td>\n",
       "      <td>0</td>\n",
       "      <td>0</td>\n",
       "      <td>0</td>\n",
       "      <td>0</td>\n",
       "      <td>13</td>\n",
       "      <td>13</td>\n",
       "      <td>6</td>\n",
       "      <td>7</td>\n",
       "      <td>1</td>\n",
       "    </tr>\n",
       "  </tbody>\n",
       "</table>\n",
       "<p>677785 rows × 31 columns</p>\n",
       "</div>"
      ],
      "text/plain": [
       "        Unnamed: 0       dur  sbytes   dbytes  sttl  dttl  sloss  dloss  \\\n",
       "0                0  0.036133     528      304    31    29      0      0   \n",
       "1                1  0.001119     146      178    31    29      0      0   \n",
       "2                2  0.001209     132      164    31    29      0      0   \n",
       "3                3  0.001169     146      178    31    29      0      0   \n",
       "4                4  0.078339     568      312    31    29      0      0   \n",
       "...            ...       ...     ...      ...   ...   ...    ...    ...   \n",
       "677780      677780  0.020383     320     1874    31    29      1      2   \n",
       "677781      677781  1.402957   19410  1087890    31    29      2    370   \n",
       "677782      677782  0.007108    2158     2464    31    29      6      6   \n",
       "677783      677783  0.004435     568      304    31    29      0      0   \n",
       "677784      677784  0.072974    4238    60788    31    29      7     30   \n",
       "\n",
       "               Dload  Spkts  ...    ackdat  is_sm_ips_ports  ct_state_ttl  \\\n",
       "0       5.048017e+04      4  ...  0.000000                0             0   \n",
       "1       6.362824e+05      2  ...  0.000000                0             0   \n",
       "2       5.425972e+05      2  ...  0.000000                0             0   \n",
       "3       6.090676e+05      2  ...  0.000000                0             0   \n",
       "4       2.389614e+04      4  ...  0.000000                0             0   \n",
       "...              ...    ...  ...       ...              ...           ...   \n",
       "677780  6.436736e+05      6  ...  0.000197                0             0   \n",
       "677781  6.195098e+06    364  ...  0.000162                0             0   \n",
       "677782  2.658413e+06     24  ...  0.000125                0             0   \n",
       "677783  4.112740e+05      4  ...  0.000000                0             0   \n",
       "677784  6.571546e+06     72  ...  0.000144                0             0   \n",
       "\n",
       "        ct_flw_http_mthd  ct_ftp_cmd  ct_srv_src  ct_srv_dst  ct_dst_ltm  \\\n",
       "0                      0           0           2           4           2   \n",
       "1                      0           0          12           8           1   \n",
       "2                      0           0           6           9           1   \n",
       "3                      0           0           7           9           1   \n",
       "4                      0           0           2           4           2   \n",
       "...                  ...         ...         ...         ...         ...   \n",
       "677780                 0           0           8          20           7   \n",
       "677781                 4           0           1           1           2   \n",
       "677782                 0           0          13          13           6   \n",
       "677783                 0           0          10          13           6   \n",
       "677784                 0           0          13          13           6   \n",
       "\n",
       "        ct_src_ ltm  ct_dst_sport_ltm  \n",
       "0                 3                 1  \n",
       "1                 2                 1  \n",
       "2                 1                 1  \n",
       "3                 1                 1  \n",
       "4                 3                 1  \n",
       "...             ...               ...  \n",
       "677780            5                 1  \n",
       "677781            7                 2  \n",
       "677782            7                 1  \n",
       "677783            5                 1  \n",
       "677784            7                 1  \n",
       "\n",
       "[677785 rows x 31 columns]"
      ]
     },
     "execution_count": 177,
     "metadata": {},
     "output_type": "execute_result"
    }
   ],
   "source": [
    "X_1"
   ]
  },
  {
   "cell_type": "code",
   "execution_count": 178,
   "id": "bb4ff149",
   "metadata": {},
   "outputs": [
    {
     "data": {
      "text/html": [
       "<div>\n",
       "<style scoped>\n",
       "    .dataframe tbody tr th:only-of-type {\n",
       "        vertical-align: middle;\n",
       "    }\n",
       "\n",
       "    .dataframe tbody tr th {\n",
       "        vertical-align: top;\n",
       "    }\n",
       "\n",
       "    .dataframe thead th {\n",
       "        text-align: right;\n",
       "    }\n",
       "</style>\n",
       "<table border=\"1\" class=\"dataframe\">\n",
       "  <thead>\n",
       "    <tr style=\"text-align: right;\">\n",
       "      <th></th>\n",
       "      <th>Normal</th>\n",
       "    </tr>\n",
       "  </thead>\n",
       "  <tbody>\n",
       "    <tr>\n",
       "      <th>0</th>\n",
       "      <td>1</td>\n",
       "    </tr>\n",
       "    <tr>\n",
       "      <th>1</th>\n",
       "      <td>1</td>\n",
       "    </tr>\n",
       "    <tr>\n",
       "      <th>2</th>\n",
       "      <td>1</td>\n",
       "    </tr>\n",
       "    <tr>\n",
       "      <th>3</th>\n",
       "      <td>1</td>\n",
       "    </tr>\n",
       "    <tr>\n",
       "      <th>4</th>\n",
       "      <td>1</td>\n",
       "    </tr>\n",
       "    <tr>\n",
       "      <th>...</th>\n",
       "      <td>...</td>\n",
       "    </tr>\n",
       "    <tr>\n",
       "      <th>677780</th>\n",
       "      <td>1</td>\n",
       "    </tr>\n",
       "    <tr>\n",
       "      <th>677781</th>\n",
       "      <td>1</td>\n",
       "    </tr>\n",
       "    <tr>\n",
       "      <th>677782</th>\n",
       "      <td>1</td>\n",
       "    </tr>\n",
       "    <tr>\n",
       "      <th>677783</th>\n",
       "      <td>1</td>\n",
       "    </tr>\n",
       "    <tr>\n",
       "      <th>677784</th>\n",
       "      <td>1</td>\n",
       "    </tr>\n",
       "  </tbody>\n",
       "</table>\n",
       "<p>677785 rows × 1 columns</p>\n",
       "</div>"
      ],
      "text/plain": [
       "        Normal\n",
       "0            1\n",
       "1            1\n",
       "2            1\n",
       "3            1\n",
       "4            1\n",
       "...        ...\n",
       "677780       1\n",
       "677781       1\n",
       "677782       1\n",
       "677783       1\n",
       "677784       1\n",
       "\n",
       "[677785 rows x 1 columns]"
      ]
     },
     "execution_count": 178,
     "metadata": {},
     "output_type": "execute_result"
    }
   ],
   "source": [
    "y_1"
   ]
  },
  {
   "cell_type": "code",
   "execution_count": null,
   "id": "6b260db6",
   "metadata": {},
   "outputs": [],
   "source": []
  },
  {
   "cell_type": "code",
   "execution_count": 260,
   "id": "65193593",
   "metadata": {},
   "outputs": [],
   "source": [
    "#Select the first 40 columns as features \n",
    "X_1=Data_normal_New.iloc[:,:31]\n",
    "#Slecte the 41-50 columns as targets \n",
    "y_1=Data_normal_New.iloc[:,32:42]"
   ]
  },
  {
   "cell_type": "code",
   "execution_count": 261,
   "id": "48fe5104",
   "metadata": {},
   "outputs": [
    {
     "data": {
      "text/html": [
       "<div>\n",
       "<style scoped>\n",
       "    .dataframe tbody tr th:only-of-type {\n",
       "        vertical-align: middle;\n",
       "    }\n",
       "\n",
       "    .dataframe tbody tr th {\n",
       "        vertical-align: top;\n",
       "    }\n",
       "\n",
       "    .dataframe thead th {\n",
       "        text-align: right;\n",
       "    }\n",
       "</style>\n",
       "<table border=\"1\" class=\"dataframe\">\n",
       "  <thead>\n",
       "    <tr style=\"text-align: right;\">\n",
       "      <th></th>\n",
       "      <th>Unnamed: 0</th>\n",
       "      <th>dur</th>\n",
       "      <th>sbytes</th>\n",
       "      <th>dbytes</th>\n",
       "      <th>sttl</th>\n",
       "      <th>dttl</th>\n",
       "      <th>sloss</th>\n",
       "      <th>dloss</th>\n",
       "      <th>Dload</th>\n",
       "      <th>Spkts</th>\n",
       "      <th>...</th>\n",
       "      <th>ackdat</th>\n",
       "      <th>is_sm_ips_ports</th>\n",
       "      <th>ct_state_ttl</th>\n",
       "      <th>ct_flw_http_mthd</th>\n",
       "      <th>ct_ftp_cmd</th>\n",
       "      <th>ct_srv_src</th>\n",
       "      <th>ct_srv_dst</th>\n",
       "      <th>ct_dst_ltm</th>\n",
       "      <th>ct_src_ ltm</th>\n",
       "      <th>ct_dst_sport_ltm</th>\n",
       "    </tr>\n",
       "  </thead>\n",
       "  <tbody>\n",
       "    <tr>\n",
       "      <th>0</th>\n",
       "      <td>0</td>\n",
       "      <td>0.036133</td>\n",
       "      <td>528</td>\n",
       "      <td>304</td>\n",
       "      <td>31</td>\n",
       "      <td>29</td>\n",
       "      <td>0</td>\n",
       "      <td>0</td>\n",
       "      <td>5.048017e+04</td>\n",
       "      <td>4</td>\n",
       "      <td>...</td>\n",
       "      <td>0.000000</td>\n",
       "      <td>0</td>\n",
       "      <td>0</td>\n",
       "      <td>0</td>\n",
       "      <td>0</td>\n",
       "      <td>2</td>\n",
       "      <td>4</td>\n",
       "      <td>2</td>\n",
       "      <td>3</td>\n",
       "      <td>1</td>\n",
       "    </tr>\n",
       "    <tr>\n",
       "      <th>1</th>\n",
       "      <td>1</td>\n",
       "      <td>0.001119</td>\n",
       "      <td>146</td>\n",
       "      <td>178</td>\n",
       "      <td>31</td>\n",
       "      <td>29</td>\n",
       "      <td>0</td>\n",
       "      <td>0</td>\n",
       "      <td>6.362824e+05</td>\n",
       "      <td>2</td>\n",
       "      <td>...</td>\n",
       "      <td>0.000000</td>\n",
       "      <td>0</td>\n",
       "      <td>0</td>\n",
       "      <td>0</td>\n",
       "      <td>0</td>\n",
       "      <td>12</td>\n",
       "      <td>8</td>\n",
       "      <td>1</td>\n",
       "      <td>2</td>\n",
       "      <td>1</td>\n",
       "    </tr>\n",
       "    <tr>\n",
       "      <th>2</th>\n",
       "      <td>2</td>\n",
       "      <td>0.001209</td>\n",
       "      <td>132</td>\n",
       "      <td>164</td>\n",
       "      <td>31</td>\n",
       "      <td>29</td>\n",
       "      <td>0</td>\n",
       "      <td>0</td>\n",
       "      <td>5.425972e+05</td>\n",
       "      <td>2</td>\n",
       "      <td>...</td>\n",
       "      <td>0.000000</td>\n",
       "      <td>0</td>\n",
       "      <td>0</td>\n",
       "      <td>0</td>\n",
       "      <td>0</td>\n",
       "      <td>6</td>\n",
       "      <td>9</td>\n",
       "      <td>1</td>\n",
       "      <td>1</td>\n",
       "      <td>1</td>\n",
       "    </tr>\n",
       "    <tr>\n",
       "      <th>3</th>\n",
       "      <td>3</td>\n",
       "      <td>0.001169</td>\n",
       "      <td>146</td>\n",
       "      <td>178</td>\n",
       "      <td>31</td>\n",
       "      <td>29</td>\n",
       "      <td>0</td>\n",
       "      <td>0</td>\n",
       "      <td>6.090676e+05</td>\n",
       "      <td>2</td>\n",
       "      <td>...</td>\n",
       "      <td>0.000000</td>\n",
       "      <td>0</td>\n",
       "      <td>0</td>\n",
       "      <td>0</td>\n",
       "      <td>0</td>\n",
       "      <td>7</td>\n",
       "      <td>9</td>\n",
       "      <td>1</td>\n",
       "      <td>1</td>\n",
       "      <td>1</td>\n",
       "    </tr>\n",
       "    <tr>\n",
       "      <th>4</th>\n",
       "      <td>4</td>\n",
       "      <td>0.078339</td>\n",
       "      <td>568</td>\n",
       "      <td>312</td>\n",
       "      <td>31</td>\n",
       "      <td>29</td>\n",
       "      <td>0</td>\n",
       "      <td>0</td>\n",
       "      <td>2.389614e+04</td>\n",
       "      <td>4</td>\n",
       "      <td>...</td>\n",
       "      <td>0.000000</td>\n",
       "      <td>0</td>\n",
       "      <td>0</td>\n",
       "      <td>0</td>\n",
       "      <td>0</td>\n",
       "      <td>2</td>\n",
       "      <td>4</td>\n",
       "      <td>2</td>\n",
       "      <td>3</td>\n",
       "      <td>1</td>\n",
       "    </tr>\n",
       "    <tr>\n",
       "      <th>...</th>\n",
       "      <td>...</td>\n",
       "      <td>...</td>\n",
       "      <td>...</td>\n",
       "      <td>...</td>\n",
       "      <td>...</td>\n",
       "      <td>...</td>\n",
       "      <td>...</td>\n",
       "      <td>...</td>\n",
       "      <td>...</td>\n",
       "      <td>...</td>\n",
       "      <td>...</td>\n",
       "      <td>...</td>\n",
       "      <td>...</td>\n",
       "      <td>...</td>\n",
       "      <td>...</td>\n",
       "      <td>...</td>\n",
       "      <td>...</td>\n",
       "      <td>...</td>\n",
       "      <td>...</td>\n",
       "      <td>...</td>\n",
       "      <td>...</td>\n",
       "    </tr>\n",
       "    <tr>\n",
       "      <th>677780</th>\n",
       "      <td>677780</td>\n",
       "      <td>0.020383</td>\n",
       "      <td>320</td>\n",
       "      <td>1874</td>\n",
       "      <td>31</td>\n",
       "      <td>29</td>\n",
       "      <td>1</td>\n",
       "      <td>2</td>\n",
       "      <td>6.436736e+05</td>\n",
       "      <td>6</td>\n",
       "      <td>...</td>\n",
       "      <td>0.000197</td>\n",
       "      <td>0</td>\n",
       "      <td>0</td>\n",
       "      <td>0</td>\n",
       "      <td>0</td>\n",
       "      <td>8</td>\n",
       "      <td>20</td>\n",
       "      <td>7</td>\n",
       "      <td>5</td>\n",
       "      <td>1</td>\n",
       "    </tr>\n",
       "    <tr>\n",
       "      <th>677781</th>\n",
       "      <td>677781</td>\n",
       "      <td>1.402957</td>\n",
       "      <td>19410</td>\n",
       "      <td>1087890</td>\n",
       "      <td>31</td>\n",
       "      <td>29</td>\n",
       "      <td>2</td>\n",
       "      <td>370</td>\n",
       "      <td>6.195098e+06</td>\n",
       "      <td>364</td>\n",
       "      <td>...</td>\n",
       "      <td>0.000162</td>\n",
       "      <td>0</td>\n",
       "      <td>0</td>\n",
       "      <td>4</td>\n",
       "      <td>0</td>\n",
       "      <td>1</td>\n",
       "      <td>1</td>\n",
       "      <td>2</td>\n",
       "      <td>7</td>\n",
       "      <td>2</td>\n",
       "    </tr>\n",
       "    <tr>\n",
       "      <th>677782</th>\n",
       "      <td>677782</td>\n",
       "      <td>0.007108</td>\n",
       "      <td>2158</td>\n",
       "      <td>2464</td>\n",
       "      <td>31</td>\n",
       "      <td>29</td>\n",
       "      <td>6</td>\n",
       "      <td>6</td>\n",
       "      <td>2.658413e+06</td>\n",
       "      <td>24</td>\n",
       "      <td>...</td>\n",
       "      <td>0.000125</td>\n",
       "      <td>0</td>\n",
       "      <td>0</td>\n",
       "      <td>0</td>\n",
       "      <td>0</td>\n",
       "      <td>13</td>\n",
       "      <td>13</td>\n",
       "      <td>6</td>\n",
       "      <td>7</td>\n",
       "      <td>1</td>\n",
       "    </tr>\n",
       "    <tr>\n",
       "      <th>677783</th>\n",
       "      <td>677783</td>\n",
       "      <td>0.004435</td>\n",
       "      <td>568</td>\n",
       "      <td>304</td>\n",
       "      <td>31</td>\n",
       "      <td>29</td>\n",
       "      <td>0</td>\n",
       "      <td>0</td>\n",
       "      <td>4.112740e+05</td>\n",
       "      <td>4</td>\n",
       "      <td>...</td>\n",
       "      <td>0.000000</td>\n",
       "      <td>0</td>\n",
       "      <td>0</td>\n",
       "      <td>0</td>\n",
       "      <td>0</td>\n",
       "      <td>10</td>\n",
       "      <td>13</td>\n",
       "      <td>6</td>\n",
       "      <td>5</td>\n",
       "      <td>1</td>\n",
       "    </tr>\n",
       "    <tr>\n",
       "      <th>677784</th>\n",
       "      <td>677784</td>\n",
       "      <td>0.072974</td>\n",
       "      <td>4238</td>\n",
       "      <td>60788</td>\n",
       "      <td>31</td>\n",
       "      <td>29</td>\n",
       "      <td>7</td>\n",
       "      <td>30</td>\n",
       "      <td>6.571546e+06</td>\n",
       "      <td>72</td>\n",
       "      <td>...</td>\n",
       "      <td>0.000144</td>\n",
       "      <td>0</td>\n",
       "      <td>0</td>\n",
       "      <td>0</td>\n",
       "      <td>0</td>\n",
       "      <td>13</td>\n",
       "      <td>13</td>\n",
       "      <td>6</td>\n",
       "      <td>7</td>\n",
       "      <td>1</td>\n",
       "    </tr>\n",
       "  </tbody>\n",
       "</table>\n",
       "<p>677785 rows × 31 columns</p>\n",
       "</div>"
      ],
      "text/plain": [
       "        Unnamed: 0       dur  sbytes   dbytes  sttl  dttl  sloss  dloss  \\\n",
       "0                0  0.036133     528      304    31    29      0      0   \n",
       "1                1  0.001119     146      178    31    29      0      0   \n",
       "2                2  0.001209     132      164    31    29      0      0   \n",
       "3                3  0.001169     146      178    31    29      0      0   \n",
       "4                4  0.078339     568      312    31    29      0      0   \n",
       "...            ...       ...     ...      ...   ...   ...    ...    ...   \n",
       "677780      677780  0.020383     320     1874    31    29      1      2   \n",
       "677781      677781  1.402957   19410  1087890    31    29      2    370   \n",
       "677782      677782  0.007108    2158     2464    31    29      6      6   \n",
       "677783      677783  0.004435     568      304    31    29      0      0   \n",
       "677784      677784  0.072974    4238    60788    31    29      7     30   \n",
       "\n",
       "               Dload  Spkts  ...    ackdat  is_sm_ips_ports  ct_state_ttl  \\\n",
       "0       5.048017e+04      4  ...  0.000000                0             0   \n",
       "1       6.362824e+05      2  ...  0.000000                0             0   \n",
       "2       5.425972e+05      2  ...  0.000000                0             0   \n",
       "3       6.090676e+05      2  ...  0.000000                0             0   \n",
       "4       2.389614e+04      4  ...  0.000000                0             0   \n",
       "...              ...    ...  ...       ...              ...           ...   \n",
       "677780  6.436736e+05      6  ...  0.000197                0             0   \n",
       "677781  6.195098e+06    364  ...  0.000162                0             0   \n",
       "677782  2.658413e+06     24  ...  0.000125                0             0   \n",
       "677783  4.112740e+05      4  ...  0.000000                0             0   \n",
       "677784  6.571546e+06     72  ...  0.000144                0             0   \n",
       "\n",
       "        ct_flw_http_mthd  ct_ftp_cmd  ct_srv_src  ct_srv_dst  ct_dst_ltm  \\\n",
       "0                      0           0           2           4           2   \n",
       "1                      0           0          12           8           1   \n",
       "2                      0           0           6           9           1   \n",
       "3                      0           0           7           9           1   \n",
       "4                      0           0           2           4           2   \n",
       "...                  ...         ...         ...         ...         ...   \n",
       "677780                 0           0           8          20           7   \n",
       "677781                 4           0           1           1           2   \n",
       "677782                 0           0          13          13           6   \n",
       "677783                 0           0          10          13           6   \n",
       "677784                 0           0          13          13           6   \n",
       "\n",
       "        ct_src_ ltm  ct_dst_sport_ltm  \n",
       "0                 3                 1  \n",
       "1                 2                 1  \n",
       "2                 1                 1  \n",
       "3                 1                 1  \n",
       "4                 3                 1  \n",
       "...             ...               ...  \n",
       "677780            5                 1  \n",
       "677781            7                 2  \n",
       "677782            7                 1  \n",
       "677783            5                 1  \n",
       "677784            7                 1  \n",
       "\n",
       "[677785 rows x 31 columns]"
      ]
     },
     "execution_count": 261,
     "metadata": {},
     "output_type": "execute_result"
    }
   ],
   "source": [
    "X_1"
   ]
  },
  {
   "cell_type": "code",
   "execution_count": 262,
   "id": "df558e84",
   "metadata": {},
   "outputs": [
    {
     "data": {
      "text/html": [
       "<div>\n",
       "<style scoped>\n",
       "    .dataframe tbody tr th:only-of-type {\n",
       "        vertical-align: middle;\n",
       "    }\n",
       "\n",
       "    .dataframe tbody tr th {\n",
       "        vertical-align: top;\n",
       "    }\n",
       "\n",
       "    .dataframe thead th {\n",
       "        text-align: right;\n",
       "    }\n",
       "</style>\n",
       "<table border=\"1\" class=\"dataframe\">\n",
       "  <thead>\n",
       "    <tr style=\"text-align: right;\">\n",
       "      <th></th>\n",
       "      <th>Normal</th>\n",
       "      <th>Fuzzers</th>\n",
       "      <th>Analysis</th>\n",
       "      <th>Backdoors</th>\n",
       "      <th>DoS</th>\n",
       "      <th>Exploits</th>\n",
       "      <th>Generic</th>\n",
       "      <th>Reconnaissance</th>\n",
       "      <th>Shellcode</th>\n",
       "      <th>Worms</th>\n",
       "    </tr>\n",
       "  </thead>\n",
       "  <tbody>\n",
       "    <tr>\n",
       "      <th>0</th>\n",
       "      <td>1</td>\n",
       "      <td>0</td>\n",
       "      <td>0</td>\n",
       "      <td>0</td>\n",
       "      <td>0</td>\n",
       "      <td>0</td>\n",
       "      <td>0</td>\n",
       "      <td>0</td>\n",
       "      <td>0</td>\n",
       "      <td>0</td>\n",
       "    </tr>\n",
       "    <tr>\n",
       "      <th>1</th>\n",
       "      <td>1</td>\n",
       "      <td>0</td>\n",
       "      <td>0</td>\n",
       "      <td>0</td>\n",
       "      <td>0</td>\n",
       "      <td>0</td>\n",
       "      <td>0</td>\n",
       "      <td>0</td>\n",
       "      <td>0</td>\n",
       "      <td>0</td>\n",
       "    </tr>\n",
       "    <tr>\n",
       "      <th>2</th>\n",
       "      <td>1</td>\n",
       "      <td>0</td>\n",
       "      <td>0</td>\n",
       "      <td>0</td>\n",
       "      <td>0</td>\n",
       "      <td>0</td>\n",
       "      <td>0</td>\n",
       "      <td>0</td>\n",
       "      <td>0</td>\n",
       "      <td>0</td>\n",
       "    </tr>\n",
       "    <tr>\n",
       "      <th>3</th>\n",
       "      <td>1</td>\n",
       "      <td>0</td>\n",
       "      <td>0</td>\n",
       "      <td>0</td>\n",
       "      <td>0</td>\n",
       "      <td>0</td>\n",
       "      <td>0</td>\n",
       "      <td>0</td>\n",
       "      <td>0</td>\n",
       "      <td>0</td>\n",
       "    </tr>\n",
       "    <tr>\n",
       "      <th>4</th>\n",
       "      <td>1</td>\n",
       "      <td>0</td>\n",
       "      <td>0</td>\n",
       "      <td>0</td>\n",
       "      <td>0</td>\n",
       "      <td>0</td>\n",
       "      <td>0</td>\n",
       "      <td>0</td>\n",
       "      <td>0</td>\n",
       "      <td>0</td>\n",
       "    </tr>\n",
       "    <tr>\n",
       "      <th>...</th>\n",
       "      <td>...</td>\n",
       "      <td>...</td>\n",
       "      <td>...</td>\n",
       "      <td>...</td>\n",
       "      <td>...</td>\n",
       "      <td>...</td>\n",
       "      <td>...</td>\n",
       "      <td>...</td>\n",
       "      <td>...</td>\n",
       "      <td>...</td>\n",
       "    </tr>\n",
       "    <tr>\n",
       "      <th>677780</th>\n",
       "      <td>1</td>\n",
       "      <td>0</td>\n",
       "      <td>0</td>\n",
       "      <td>0</td>\n",
       "      <td>0</td>\n",
       "      <td>0</td>\n",
       "      <td>0</td>\n",
       "      <td>0</td>\n",
       "      <td>0</td>\n",
       "      <td>0</td>\n",
       "    </tr>\n",
       "    <tr>\n",
       "      <th>677781</th>\n",
       "      <td>1</td>\n",
       "      <td>0</td>\n",
       "      <td>0</td>\n",
       "      <td>0</td>\n",
       "      <td>0</td>\n",
       "      <td>0</td>\n",
       "      <td>0</td>\n",
       "      <td>0</td>\n",
       "      <td>0</td>\n",
       "      <td>0</td>\n",
       "    </tr>\n",
       "    <tr>\n",
       "      <th>677782</th>\n",
       "      <td>1</td>\n",
       "      <td>0</td>\n",
       "      <td>0</td>\n",
       "      <td>0</td>\n",
       "      <td>0</td>\n",
       "      <td>0</td>\n",
       "      <td>0</td>\n",
       "      <td>0</td>\n",
       "      <td>0</td>\n",
       "      <td>0</td>\n",
       "    </tr>\n",
       "    <tr>\n",
       "      <th>677783</th>\n",
       "      <td>1</td>\n",
       "      <td>0</td>\n",
       "      <td>0</td>\n",
       "      <td>0</td>\n",
       "      <td>0</td>\n",
       "      <td>0</td>\n",
       "      <td>0</td>\n",
       "      <td>0</td>\n",
       "      <td>0</td>\n",
       "      <td>0</td>\n",
       "    </tr>\n",
       "    <tr>\n",
       "      <th>677784</th>\n",
       "      <td>1</td>\n",
       "      <td>0</td>\n",
       "      <td>0</td>\n",
       "      <td>0</td>\n",
       "      <td>0</td>\n",
       "      <td>0</td>\n",
       "      <td>0</td>\n",
       "      <td>0</td>\n",
       "      <td>0</td>\n",
       "      <td>0</td>\n",
       "    </tr>\n",
       "  </tbody>\n",
       "</table>\n",
       "<p>677785 rows × 10 columns</p>\n",
       "</div>"
      ],
      "text/plain": [
       "        Normal   Fuzzers  Analysis  Backdoors  DoS  Exploits  Generic  \\\n",
       "0            1         0         0          0    0         0        0   \n",
       "1            1         0         0          0    0         0        0   \n",
       "2            1         0         0          0    0         0        0   \n",
       "3            1         0         0          0    0         0        0   \n",
       "4            1         0         0          0    0         0        0   \n",
       "...        ...       ...       ...        ...  ...       ...      ...   \n",
       "677780       1         0         0          0    0         0        0   \n",
       "677781       1         0         0          0    0         0        0   \n",
       "677782       1         0         0          0    0         0        0   \n",
       "677783       1         0         0          0    0         0        0   \n",
       "677784       1         0         0          0    0         0        0   \n",
       "\n",
       "        Reconnaissance  Shellcode  Worms  \n",
       "0                    0          0      0  \n",
       "1                    0          0      0  \n",
       "2                    0          0      0  \n",
       "3                    0          0      0  \n",
       "4                    0          0      0  \n",
       "...                ...        ...    ...  \n",
       "677780               0          0      0  \n",
       "677781               0          0      0  \n",
       "677782               0          0      0  \n",
       "677783               0          0      0  \n",
       "677784               0          0      0  \n",
       "\n",
       "[677785 rows x 10 columns]"
      ]
     },
     "execution_count": 262,
     "metadata": {},
     "output_type": "execute_result"
    }
   ],
   "source": [
    "y_1"
   ]
  },
  {
   "cell_type": "markdown",
   "id": "2373b389",
   "metadata": {},
   "source": [
    "# Load Anormal Dataset"
   ]
  },
  {
   "cell_type": "code",
   "execution_count": 179,
   "id": "7b33c255",
   "metadata": {},
   "outputs": [],
   "source": [
    "data_anormal=pd.read_csv(r'E:\\My Drive\\UNSW-NB15 Dataset\\StabdardizedDatasetXY\\UNSW-NB15_1NN_Anormalwith10targets_OneHot.csv')"
   ]
  },
  {
   "cell_type": "code",
   "execution_count": 180,
   "id": "84c62537",
   "metadata": {},
   "outputs": [
    {
     "data": {
      "text/html": [
       "<div>\n",
       "<style scoped>\n",
       "    .dataframe tbody tr th:only-of-type {\n",
       "        vertical-align: middle;\n",
       "    }\n",
       "\n",
       "    .dataframe tbody tr th {\n",
       "        vertical-align: top;\n",
       "    }\n",
       "\n",
       "    .dataframe thead th {\n",
       "        text-align: right;\n",
       "    }\n",
       "</style>\n",
       "<table border=\"1\" class=\"dataframe\">\n",
       "  <thead>\n",
       "    <tr style=\"text-align: right;\">\n",
       "      <th></th>\n",
       "      <th>Unnamed: 0</th>\n",
       "      <th>dur</th>\n",
       "      <th>sbytes</th>\n",
       "      <th>dbytes</th>\n",
       "      <th>sttl</th>\n",
       "      <th>dttl</th>\n",
       "      <th>sloss</th>\n",
       "      <th>dloss</th>\n",
       "      <th>Sload</th>\n",
       "      <th>Dload</th>\n",
       "      <th>...</th>\n",
       "      <th>Normal</th>\n",
       "      <th>Fuzzers</th>\n",
       "      <th>Analysis</th>\n",
       "      <th>Backdoors</th>\n",
       "      <th>DoS</th>\n",
       "      <th>Exploits</th>\n",
       "      <th>Generic</th>\n",
       "      <th>Reconnaissance</th>\n",
       "      <th>Shellcode</th>\n",
       "      <th>Worms</th>\n",
       "    </tr>\n",
       "  </thead>\n",
       "  <tbody>\n",
       "    <tr>\n",
       "      <th>0</th>\n",
       "      <td>19</td>\n",
       "      <td>0.000021</td>\n",
       "      <td>728</td>\n",
       "      <td>0</td>\n",
       "      <td>254</td>\n",
       "      <td>0</td>\n",
       "      <td>0</td>\n",
       "      <td>0</td>\n",
       "      <td>1.386667e+08</td>\n",
       "      <td>0.000000</td>\n",
       "      <td>...</td>\n",
       "      <td>0</td>\n",
       "      <td>0</td>\n",
       "      <td>0</td>\n",
       "      <td>0</td>\n",
       "      <td>0</td>\n",
       "      <td>1</td>\n",
       "      <td>0</td>\n",
       "      <td>0</td>\n",
       "      <td>0</td>\n",
       "      <td>0</td>\n",
       "    </tr>\n",
       "    <tr>\n",
       "      <th>1</th>\n",
       "      <td>20</td>\n",
       "      <td>0.240139</td>\n",
       "      <td>918</td>\n",
       "      <td>25552</td>\n",
       "      <td>62</td>\n",
       "      <td>252</td>\n",
       "      <td>2</td>\n",
       "      <td>10</td>\n",
       "      <td>2.805042e+04</td>\n",
       "      <td>815794.187500</td>\n",
       "      <td>...</td>\n",
       "      <td>0</td>\n",
       "      <td>0</td>\n",
       "      <td>0</td>\n",
       "      <td>0</td>\n",
       "      <td>0</td>\n",
       "      <td>1</td>\n",
       "      <td>0</td>\n",
       "      <td>0</td>\n",
       "      <td>0</td>\n",
       "      <td>0</td>\n",
       "    </tr>\n",
       "    <tr>\n",
       "      <th>2</th>\n",
       "      <td>21</td>\n",
       "      <td>2.390390</td>\n",
       "      <td>1362</td>\n",
       "      <td>268</td>\n",
       "      <td>254</td>\n",
       "      <td>252</td>\n",
       "      <td>6</td>\n",
       "      <td>1</td>\n",
       "      <td>4.233619e+03</td>\n",
       "      <td>749.668518</td>\n",
       "      <td>...</td>\n",
       "      <td>0</td>\n",
       "      <td>0</td>\n",
       "      <td>0</td>\n",
       "      <td>0</td>\n",
       "      <td>0</td>\n",
       "      <td>0</td>\n",
       "      <td>0</td>\n",
       "      <td>1</td>\n",
       "      <td>0</td>\n",
       "      <td>0</td>\n",
       "    </tr>\n",
       "    <tr>\n",
       "      <th>3</th>\n",
       "      <td>38</td>\n",
       "      <td>0.175190</td>\n",
       "      <td>8168</td>\n",
       "      <td>268</td>\n",
       "      <td>254</td>\n",
       "      <td>252</td>\n",
       "      <td>4</td>\n",
       "      <td>1</td>\n",
       "      <td>3.463668e+05</td>\n",
       "      <td>10228.894530</td>\n",
       "      <td>...</td>\n",
       "      <td>0</td>\n",
       "      <td>0</td>\n",
       "      <td>0</td>\n",
       "      <td>0</td>\n",
       "      <td>0</td>\n",
       "      <td>1</td>\n",
       "      <td>0</td>\n",
       "      <td>0</td>\n",
       "      <td>0</td>\n",
       "      <td>0</td>\n",
       "    </tr>\n",
       "    <tr>\n",
       "      <th>4</th>\n",
       "      <td>39</td>\n",
       "      <td>0.190600</td>\n",
       "      <td>844</td>\n",
       "      <td>268</td>\n",
       "      <td>254</td>\n",
       "      <td>252</td>\n",
       "      <td>2</td>\n",
       "      <td>1</td>\n",
       "      <td>3.189927e+04</td>\n",
       "      <td>9401.888672</td>\n",
       "      <td>...</td>\n",
       "      <td>0</td>\n",
       "      <td>0</td>\n",
       "      <td>0</td>\n",
       "      <td>0</td>\n",
       "      <td>0</td>\n",
       "      <td>1</td>\n",
       "      <td>0</td>\n",
       "      <td>0</td>\n",
       "      <td>0</td>\n",
       "      <td>0</td>\n",
       "    </tr>\n",
       "  </tbody>\n",
       "</table>\n",
       "<p>5 rows × 51 columns</p>\n",
       "</div>"
      ],
      "text/plain": [
       "   Unnamed: 0       dur  sbytes  dbytes  sttl  dttl  sloss  dloss  \\\n",
       "0          19  0.000021     728       0   254     0      0      0   \n",
       "1          20  0.240139     918   25552    62   252      2     10   \n",
       "2          21  2.390390    1362     268   254   252      6      1   \n",
       "3          38  0.175190    8168     268   254   252      4      1   \n",
       "4          39  0.190600     844     268   254   252      2      1   \n",
       "\n",
       "          Sload          Dload  ...  Normal   Fuzzers  Analysis  Backdoors  \\\n",
       "0  1.386667e+08       0.000000  ...       0         0         0          0   \n",
       "1  2.805042e+04  815794.187500  ...       0         0         0          0   \n",
       "2  4.233619e+03     749.668518  ...       0         0         0          0   \n",
       "3  3.463668e+05   10228.894530  ...       0         0         0          0   \n",
       "4  3.189927e+04    9401.888672  ...       0         0         0          0   \n",
       "\n",
       "   DoS  Exploits  Generic  Reconnaissance  Shellcode  Worms  \n",
       "0    0         1        0               0          0      0  \n",
       "1    0         1        0               0          0      0  \n",
       "2    0         0        0               1          0      0  \n",
       "3    0         1        0               0          0      0  \n",
       "4    0         1        0               0          0      0  \n",
       "\n",
       "[5 rows x 51 columns]"
      ]
     },
     "execution_count": 180,
     "metadata": {},
     "output_type": "execute_result"
    }
   ],
   "source": [
    "data_anormal.head()"
   ]
  },
  {
   "cell_type": "code",
   "execution_count": 181,
   "id": "332fab6e",
   "metadata": {},
   "outputs": [
    {
     "data": {
      "text/plain": [
       "Index(['Unnamed: 0', 'dur', 'sbytes', 'dbytes', 'sttl', 'dttl', 'sloss',\n",
       "       'dloss', 'Sload', 'Dload', 'Spkts', 'Dpkts', 'swin', 'dwin', 'stcpb',\n",
       "       'dtcpb', 'smeansz', 'dmeansz', 'trans_depth', 'res_bdy_len', 'Sjit',\n",
       "       'Djit', 'Stime', 'Ltime', 'Sintpkt', 'Dintpkt', 'tcprtt', 'synack',\n",
       "       'ackdat', 'is_sm_ips_ports', 'ct_state_ttl', 'ct_flw_http_mthd',\n",
       "       'is_ftp_login', 'ct_ftp_cmd', 'ct_srv_src', 'ct_srv_dst', 'ct_dst_ltm',\n",
       "       'ct_src_ ltm', 'ct_src_dport_ltm', 'ct_dst_sport_ltm', 'ct_dst_src_ltm',\n",
       "       'Normal', ' Fuzzers', 'Analysis', 'Backdoors', 'DoS', 'Exploits',\n",
       "       'Generic', 'Reconnaissance', 'Shellcode', 'Worms'],\n",
       "      dtype='object')"
      ]
     },
     "execution_count": 181,
     "metadata": {},
     "output_type": "execute_result"
    }
   ],
   "source": [
    "data_anormal.columns"
   ]
  },
  {
   "cell_type": "code",
   "execution_count": 182,
   "id": "b583eb99",
   "metadata": {},
   "outputs": [],
   "source": [
    "# Drop Anomaly Dataset into 31 Features also \n",
    "# Drop index 8, 13, 14, 18, 21, 24, 25, 32, 39, 40\n",
    "Data_anormal_New=data_anormal.drop(['Sload','dwin', 'stcpb','trans_depth','Djit','Sintpkt', 'Dintpkt','is_ftp_login','ct_src_dport_ltm'],axis=1)"
   ]
  },
  {
   "cell_type": "code",
   "execution_count": 183,
   "id": "086082ea",
   "metadata": {},
   "outputs": [
    {
     "data": {
      "text/plain": [
       "(22215, 42)"
      ]
     },
     "execution_count": 183,
     "metadata": {},
     "output_type": "execute_result"
    }
   ],
   "source": [
    "Data_anormal_New.shape"
   ]
  },
  {
   "cell_type": "code",
   "execution_count": 184,
   "id": "68eea85e",
   "metadata": {},
   "outputs": [
    {
     "name": "stdout",
     "output_type": "stream",
     "text": [
      "<class 'pandas.core.frame.DataFrame'>\n",
      "RangeIndex: 22215 entries, 0 to 22214\n",
      "Data columns (total 42 columns):\n",
      " #   Column            Non-Null Count  Dtype  \n",
      "---  ------            --------------  -----  \n",
      " 0   Unnamed: 0        22215 non-null  int64  \n",
      " 1   dur               22215 non-null  float64\n",
      " 2   sbytes            22215 non-null  int64  \n",
      " 3   dbytes            22215 non-null  int64  \n",
      " 4   sttl              22215 non-null  int64  \n",
      " 5   dttl              22215 non-null  int64  \n",
      " 6   sloss             22215 non-null  int64  \n",
      " 7   dloss             22215 non-null  int64  \n",
      " 8   Dload             22215 non-null  float64\n",
      " 9   Spkts             22215 non-null  int64  \n",
      " 10  Dpkts             22215 non-null  int64  \n",
      " 11  swin              22215 non-null  int64  \n",
      " 12  dtcpb             22215 non-null  int64  \n",
      " 13  smeansz           22215 non-null  int64  \n",
      " 14  dmeansz           22215 non-null  int64  \n",
      " 15  res_bdy_len       22215 non-null  int64  \n",
      " 16  Sjit              22215 non-null  float64\n",
      " 17  Stime             22215 non-null  int64  \n",
      " 18  Ltime             22215 non-null  int64  \n",
      " 19  tcprtt            22215 non-null  float64\n",
      " 20  synack            22215 non-null  float64\n",
      " 21  ackdat            22215 non-null  float64\n",
      " 22  is_sm_ips_ports   22215 non-null  int64  \n",
      " 23  ct_state_ttl      22215 non-null  int64  \n",
      " 24  ct_flw_http_mthd  22215 non-null  int64  \n",
      " 25  ct_ftp_cmd        22215 non-null  int64  \n",
      " 26  ct_srv_src        22215 non-null  int64  \n",
      " 27  ct_srv_dst        22215 non-null  int64  \n",
      " 28  ct_dst_ltm        22215 non-null  int64  \n",
      " 29  ct_src_ ltm       22215 non-null  int64  \n",
      " 30  ct_dst_sport_ltm  22215 non-null  int64  \n",
      " 31  ct_dst_src_ltm    22215 non-null  int64  \n",
      " 32  Normal            22215 non-null  int64  \n",
      " 33   Fuzzers          22215 non-null  int64  \n",
      " 34  Analysis          22215 non-null  int64  \n",
      " 35  Backdoors         22215 non-null  int64  \n",
      " 36  DoS               22215 non-null  int64  \n",
      " 37  Exploits          22215 non-null  int64  \n",
      " 38  Generic           22215 non-null  int64  \n",
      " 39  Reconnaissance    22215 non-null  int64  \n",
      " 40  Shellcode         22215 non-null  int64  \n",
      " 41  Worms             22215 non-null  int64  \n",
      "dtypes: float64(6), int64(36)\n",
      "memory usage: 7.1 MB\n"
     ]
    }
   ],
   "source": [
    "Data_anormal_New.info()"
   ]
  },
  {
   "cell_type": "code",
   "execution_count": 125,
   "id": "d9cf3335",
   "metadata": {},
   "outputs": [
    {
     "data": {
      "text/plain": [
       "(22215, 42)"
      ]
     },
     "execution_count": 125,
     "metadata": {},
     "output_type": "execute_result"
    }
   ],
   "source": [
    "Data_anormal_New.shape"
   ]
  },
  {
   "cell_type": "code",
   "execution_count": 126,
   "id": "49ea17bb",
   "metadata": {},
   "outputs": [
    {
     "data": {
      "text/html": [
       "<div>\n",
       "<style scoped>\n",
       "    .dataframe tbody tr th:only-of-type {\n",
       "        vertical-align: middle;\n",
       "    }\n",
       "\n",
       "    .dataframe tbody tr th {\n",
       "        vertical-align: top;\n",
       "    }\n",
       "\n",
       "    .dataframe thead th {\n",
       "        text-align: right;\n",
       "    }\n",
       "</style>\n",
       "<table border=\"1\" class=\"dataframe\">\n",
       "  <thead>\n",
       "    <tr style=\"text-align: right;\">\n",
       "      <th></th>\n",
       "      <th>Unnamed: 0</th>\n",
       "      <th>dur</th>\n",
       "      <th>sbytes</th>\n",
       "      <th>dbytes</th>\n",
       "      <th>sttl</th>\n",
       "      <th>dttl</th>\n",
       "      <th>sloss</th>\n",
       "      <th>dloss</th>\n",
       "      <th>Dload</th>\n",
       "      <th>Spkts</th>\n",
       "      <th>...</th>\n",
       "      <th>Fuzzers</th>\n",
       "      <th>Analysis</th>\n",
       "      <th>Backdoors</th>\n",
       "      <th>DoS</th>\n",
       "      <th>Exploits</th>\n",
       "      <th>Generic</th>\n",
       "      <th>Normal</th>\n",
       "      <th>Reconnaissance</th>\n",
       "      <th>Shellcode</th>\n",
       "      <th>Worms</th>\n",
       "    </tr>\n",
       "  </thead>\n",
       "  <tbody>\n",
       "    <tr>\n",
       "      <th>0</th>\n",
       "      <td>19</td>\n",
       "      <td>0.000021</td>\n",
       "      <td>728</td>\n",
       "      <td>0</td>\n",
       "      <td>254</td>\n",
       "      <td>0</td>\n",
       "      <td>0</td>\n",
       "      <td>0</td>\n",
       "      <td>0.000000</td>\n",
       "      <td>2</td>\n",
       "      <td>...</td>\n",
       "      <td>0</td>\n",
       "      <td>0</td>\n",
       "      <td>0</td>\n",
       "      <td>0</td>\n",
       "      <td>1</td>\n",
       "      <td>0</td>\n",
       "      <td>0</td>\n",
       "      <td>0</td>\n",
       "      <td>0</td>\n",
       "      <td>0</td>\n",
       "    </tr>\n",
       "    <tr>\n",
       "      <th>1</th>\n",
       "      <td>20</td>\n",
       "      <td>0.240139</td>\n",
       "      <td>918</td>\n",
       "      <td>25552</td>\n",
       "      <td>62</td>\n",
       "      <td>252</td>\n",
       "      <td>2</td>\n",
       "      <td>10</td>\n",
       "      <td>815794.187500</td>\n",
       "      <td>12</td>\n",
       "      <td>...</td>\n",
       "      <td>0</td>\n",
       "      <td>0</td>\n",
       "      <td>0</td>\n",
       "      <td>0</td>\n",
       "      <td>1</td>\n",
       "      <td>0</td>\n",
       "      <td>0</td>\n",
       "      <td>0</td>\n",
       "      <td>0</td>\n",
       "      <td>0</td>\n",
       "    </tr>\n",
       "    <tr>\n",
       "      <th>2</th>\n",
       "      <td>21</td>\n",
       "      <td>2.390390</td>\n",
       "      <td>1362</td>\n",
       "      <td>268</td>\n",
       "      <td>254</td>\n",
       "      <td>252</td>\n",
       "      <td>6</td>\n",
       "      <td>1</td>\n",
       "      <td>749.668518</td>\n",
       "      <td>14</td>\n",
       "      <td>...</td>\n",
       "      <td>0</td>\n",
       "      <td>0</td>\n",
       "      <td>0</td>\n",
       "      <td>0</td>\n",
       "      <td>0</td>\n",
       "      <td>0</td>\n",
       "      <td>0</td>\n",
       "      <td>1</td>\n",
       "      <td>0</td>\n",
       "      <td>0</td>\n",
       "    </tr>\n",
       "    <tr>\n",
       "      <th>3</th>\n",
       "      <td>38</td>\n",
       "      <td>0.175190</td>\n",
       "      <td>8168</td>\n",
       "      <td>268</td>\n",
       "      <td>254</td>\n",
       "      <td>252</td>\n",
       "      <td>4</td>\n",
       "      <td>1</td>\n",
       "      <td>10228.894530</td>\n",
       "      <td>14</td>\n",
       "      <td>...</td>\n",
       "      <td>0</td>\n",
       "      <td>0</td>\n",
       "      <td>0</td>\n",
       "      <td>0</td>\n",
       "      <td>1</td>\n",
       "      <td>0</td>\n",
       "      <td>0</td>\n",
       "      <td>0</td>\n",
       "      <td>0</td>\n",
       "      <td>0</td>\n",
       "    </tr>\n",
       "    <tr>\n",
       "      <th>4</th>\n",
       "      <td>39</td>\n",
       "      <td>0.190600</td>\n",
       "      <td>844</td>\n",
       "      <td>268</td>\n",
       "      <td>254</td>\n",
       "      <td>252</td>\n",
       "      <td>2</td>\n",
       "      <td>1</td>\n",
       "      <td>9401.888672</td>\n",
       "      <td>10</td>\n",
       "      <td>...</td>\n",
       "      <td>0</td>\n",
       "      <td>0</td>\n",
       "      <td>0</td>\n",
       "      <td>0</td>\n",
       "      <td>1</td>\n",
       "      <td>0</td>\n",
       "      <td>0</td>\n",
       "      <td>0</td>\n",
       "      <td>0</td>\n",
       "      <td>0</td>\n",
       "    </tr>\n",
       "  </tbody>\n",
       "</table>\n",
       "<p>5 rows × 42 columns</p>\n",
       "</div>"
      ],
      "text/plain": [
       "   Unnamed: 0       dur  sbytes  dbytes  sttl  dttl  sloss  dloss  \\\n",
       "0          19  0.000021     728       0   254     0      0      0   \n",
       "1          20  0.240139     918   25552    62   252      2     10   \n",
       "2          21  2.390390    1362     268   254   252      6      1   \n",
       "3          38  0.175190    8168     268   254   252      4      1   \n",
       "4          39  0.190600     844     268   254   252      2      1   \n",
       "\n",
       "           Dload  Spkts  ...   Fuzzers  Analysis  Backdoors  DoS  Exploits  \\\n",
       "0       0.000000      2  ...         0         0          0    0         1   \n",
       "1  815794.187500     12  ...         0         0          0    0         1   \n",
       "2     749.668518     14  ...         0         0          0    0         0   \n",
       "3   10228.894530     14  ...         0         0          0    0         1   \n",
       "4    9401.888672     10  ...         0         0          0    0         1   \n",
       "\n",
       "   Generic  Normal  Reconnaissance  Shellcode  Worms  \n",
       "0        0       0               0          0      0  \n",
       "1        0       0               0          0      0  \n",
       "2        0       0               1          0      0  \n",
       "3        0       0               0          0      0  \n",
       "4        0       0               0          0      0  \n",
       "\n",
       "[5 rows x 42 columns]"
      ]
     },
     "execution_count": 126,
     "metadata": {},
     "output_type": "execute_result"
    }
   ],
   "source": [
    "Data_anormal_New.head()"
   ]
  },
  {
   "cell_type": "code",
   "execution_count": 344,
   "id": "870a4dca",
   "metadata": {},
   "outputs": [],
   "source": [
    "#Select the first 40 columns as features \n",
    "X_2=Data_anormal_New.iloc[:,:31]\n",
    "#Slecte the 41-50 columns as targets \n",
    "y_2=Data_anormal_New.iloc[:,32:42]"
   ]
  },
  {
   "cell_type": "code",
   "execution_count": 345,
   "id": "5eb244ed",
   "metadata": {},
   "outputs": [
    {
     "data": {
      "text/html": [
       "<div>\n",
       "<style scoped>\n",
       "    .dataframe tbody tr th:only-of-type {\n",
       "        vertical-align: middle;\n",
       "    }\n",
       "\n",
       "    .dataframe tbody tr th {\n",
       "        vertical-align: top;\n",
       "    }\n",
       "\n",
       "    .dataframe thead th {\n",
       "        text-align: right;\n",
       "    }\n",
       "</style>\n",
       "<table border=\"1\" class=\"dataframe\">\n",
       "  <thead>\n",
       "    <tr style=\"text-align: right;\">\n",
       "      <th></th>\n",
       "      <th>Unnamed: 0</th>\n",
       "      <th>dur</th>\n",
       "      <th>sbytes</th>\n",
       "      <th>dbytes</th>\n",
       "      <th>sttl</th>\n",
       "      <th>dttl</th>\n",
       "      <th>sloss</th>\n",
       "      <th>dloss</th>\n",
       "      <th>Dload</th>\n",
       "      <th>Spkts</th>\n",
       "      <th>...</th>\n",
       "      <th>ackdat</th>\n",
       "      <th>is_sm_ips_ports</th>\n",
       "      <th>ct_state_ttl</th>\n",
       "      <th>ct_flw_http_mthd</th>\n",
       "      <th>ct_ftp_cmd</th>\n",
       "      <th>ct_srv_src</th>\n",
       "      <th>ct_srv_dst</th>\n",
       "      <th>ct_dst_ltm</th>\n",
       "      <th>ct_src_ ltm</th>\n",
       "      <th>ct_dst_sport_ltm</th>\n",
       "    </tr>\n",
       "  </thead>\n",
       "  <tbody>\n",
       "    <tr>\n",
       "      <th>0</th>\n",
       "      <td>19</td>\n",
       "      <td>0.000021</td>\n",
       "      <td>728</td>\n",
       "      <td>0</td>\n",
       "      <td>254</td>\n",
       "      <td>0</td>\n",
       "      <td>0</td>\n",
       "      <td>0</td>\n",
       "      <td>0.000000</td>\n",
       "      <td>2</td>\n",
       "      <td>...</td>\n",
       "      <td>0.000000</td>\n",
       "      <td>0</td>\n",
       "      <td>2</td>\n",
       "      <td>0</td>\n",
       "      <td>0</td>\n",
       "      <td>1</td>\n",
       "      <td>1</td>\n",
       "      <td>1</td>\n",
       "      <td>1</td>\n",
       "      <td>1</td>\n",
       "    </tr>\n",
       "    <tr>\n",
       "      <th>1</th>\n",
       "      <td>20</td>\n",
       "      <td>0.240139</td>\n",
       "      <td>918</td>\n",
       "      <td>25552</td>\n",
       "      <td>62</td>\n",
       "      <td>252</td>\n",
       "      <td>2</td>\n",
       "      <td>10</td>\n",
       "      <td>815794.187500</td>\n",
       "      <td>12</td>\n",
       "      <td>...</td>\n",
       "      <td>0.044947</td>\n",
       "      <td>0</td>\n",
       "      <td>1</td>\n",
       "      <td>1</td>\n",
       "      <td>0</td>\n",
       "      <td>3</td>\n",
       "      <td>2</td>\n",
       "      <td>2</td>\n",
       "      <td>1</td>\n",
       "      <td>1</td>\n",
       "    </tr>\n",
       "    <tr>\n",
       "      <th>2</th>\n",
       "      <td>21</td>\n",
       "      <td>2.390390</td>\n",
       "      <td>1362</td>\n",
       "      <td>268</td>\n",
       "      <td>254</td>\n",
       "      <td>252</td>\n",
       "      <td>6</td>\n",
       "      <td>1</td>\n",
       "      <td>749.668518</td>\n",
       "      <td>14</td>\n",
       "      <td>...</td>\n",
       "      <td>0.048129</td>\n",
       "      <td>0</td>\n",
       "      <td>1</td>\n",
       "      <td>1</td>\n",
       "      <td>0</td>\n",
       "      <td>5</td>\n",
       "      <td>2</td>\n",
       "      <td>2</td>\n",
       "      <td>1</td>\n",
       "      <td>1</td>\n",
       "    </tr>\n",
       "    <tr>\n",
       "      <th>3</th>\n",
       "      <td>38</td>\n",
       "      <td>0.175190</td>\n",
       "      <td>8168</td>\n",
       "      <td>268</td>\n",
       "      <td>254</td>\n",
       "      <td>252</td>\n",
       "      <td>4</td>\n",
       "      <td>1</td>\n",
       "      <td>10228.894530</td>\n",
       "      <td>14</td>\n",
       "      <td>...</td>\n",
       "      <td>0.046134</td>\n",
       "      <td>0</td>\n",
       "      <td>1</td>\n",
       "      <td>0</td>\n",
       "      <td>0</td>\n",
       "      <td>1</td>\n",
       "      <td>1</td>\n",
       "      <td>1</td>\n",
       "      <td>1</td>\n",
       "      <td>1</td>\n",
       "    </tr>\n",
       "    <tr>\n",
       "      <th>4</th>\n",
       "      <td>39</td>\n",
       "      <td>0.190600</td>\n",
       "      <td>844</td>\n",
       "      <td>268</td>\n",
       "      <td>254</td>\n",
       "      <td>252</td>\n",
       "      <td>2</td>\n",
       "      <td>1</td>\n",
       "      <td>9401.888672</td>\n",
       "      <td>10</td>\n",
       "      <td>...</td>\n",
       "      <td>0.044321</td>\n",
       "      <td>0</td>\n",
       "      <td>1</td>\n",
       "      <td>1</td>\n",
       "      <td>0</td>\n",
       "      <td>3</td>\n",
       "      <td>1</td>\n",
       "      <td>1</td>\n",
       "      <td>1</td>\n",
       "      <td>1</td>\n",
       "    </tr>\n",
       "    <tr>\n",
       "      <th>...</th>\n",
       "      <td>...</td>\n",
       "      <td>...</td>\n",
       "      <td>...</td>\n",
       "      <td>...</td>\n",
       "      <td>...</td>\n",
       "      <td>...</td>\n",
       "      <td>...</td>\n",
       "      <td>...</td>\n",
       "      <td>...</td>\n",
       "      <td>...</td>\n",
       "      <td>...</td>\n",
       "      <td>...</td>\n",
       "      <td>...</td>\n",
       "      <td>...</td>\n",
       "      <td>...</td>\n",
       "      <td>...</td>\n",
       "      <td>...</td>\n",
       "      <td>...</td>\n",
       "      <td>...</td>\n",
       "      <td>...</td>\n",
       "      <td>...</td>\n",
       "    </tr>\n",
       "    <tr>\n",
       "      <th>22210</th>\n",
       "      <td>186497</td>\n",
       "      <td>31.461020</td>\n",
       "      <td>924</td>\n",
       "      <td>708</td>\n",
       "      <td>254</td>\n",
       "      <td>252</td>\n",
       "      <td>2</td>\n",
       "      <td>1</td>\n",
       "      <td>168.843857</td>\n",
       "      <td>16</td>\n",
       "      <td>...</td>\n",
       "      <td>0.051658</td>\n",
       "      <td>0</td>\n",
       "      <td>1</td>\n",
       "      <td>0</td>\n",
       "      <td>0</td>\n",
       "      <td>6</td>\n",
       "      <td>6</td>\n",
       "      <td>2</td>\n",
       "      <td>2</td>\n",
       "      <td>1</td>\n",
       "    </tr>\n",
       "    <tr>\n",
       "      <th>22211</th>\n",
       "      <td>186498</td>\n",
       "      <td>57.995934</td>\n",
       "      <td>1362</td>\n",
       "      <td>536</td>\n",
       "      <td>254</td>\n",
       "      <td>252</td>\n",
       "      <td>6</td>\n",
       "      <td>1</td>\n",
       "      <td>67.866829</td>\n",
       "      <td>20</td>\n",
       "      <td>...</td>\n",
       "      <td>0.062194</td>\n",
       "      <td>0</td>\n",
       "      <td>1</td>\n",
       "      <td>0</td>\n",
       "      <td>0</td>\n",
       "      <td>6</td>\n",
       "      <td>6</td>\n",
       "      <td>2</td>\n",
       "      <td>2</td>\n",
       "      <td>1</td>\n",
       "    </tr>\n",
       "    <tr>\n",
       "      <th>22212</th>\n",
       "      <td>186561</td>\n",
       "      <td>32.361782</td>\n",
       "      <td>1128</td>\n",
       "      <td>622</td>\n",
       "      <td>254</td>\n",
       "      <td>252</td>\n",
       "      <td>6</td>\n",
       "      <td>1</td>\n",
       "      <td>142.884598</td>\n",
       "      <td>18</td>\n",
       "      <td>...</td>\n",
       "      <td>0.000000</td>\n",
       "      <td>0</td>\n",
       "      <td>1</td>\n",
       "      <td>0</td>\n",
       "      <td>0</td>\n",
       "      <td>6</td>\n",
       "      <td>6</td>\n",
       "      <td>2</td>\n",
       "      <td>2</td>\n",
       "      <td>1</td>\n",
       "    </tr>\n",
       "    <tr>\n",
       "      <th>22213</th>\n",
       "      <td>186657</td>\n",
       "      <td>0.476639</td>\n",
       "      <td>470</td>\n",
       "      <td>354</td>\n",
       "      <td>254</td>\n",
       "      <td>252</td>\n",
       "      <td>1</td>\n",
       "      <td>1</td>\n",
       "      <td>6915.086426</td>\n",
       "      <td>8</td>\n",
       "      <td>...</td>\n",
       "      <td>0.000000</td>\n",
       "      <td>0</td>\n",
       "      <td>1</td>\n",
       "      <td>0</td>\n",
       "      <td>0</td>\n",
       "      <td>8</td>\n",
       "      <td>8</td>\n",
       "      <td>2</td>\n",
       "      <td>2</td>\n",
       "      <td>1</td>\n",
       "    </tr>\n",
       "    <tr>\n",
       "      <th>22214</th>\n",
       "      <td>186786</td>\n",
       "      <td>0.343431</td>\n",
       "      <td>550</td>\n",
       "      <td>268</td>\n",
       "      <td>254</td>\n",
       "      <td>252</td>\n",
       "      <td>2</td>\n",
       "      <td>0</td>\n",
       "      <td>5217.933105</td>\n",
       "      <td>10</td>\n",
       "      <td>...</td>\n",
       "      <td>0.043948</td>\n",
       "      <td>0</td>\n",
       "      <td>1</td>\n",
       "      <td>0</td>\n",
       "      <td>0</td>\n",
       "      <td>5</td>\n",
       "      <td>5</td>\n",
       "      <td>3</td>\n",
       "      <td>3</td>\n",
       "      <td>1</td>\n",
       "    </tr>\n",
       "  </tbody>\n",
       "</table>\n",
       "<p>22215 rows × 31 columns</p>\n",
       "</div>"
      ],
      "text/plain": [
       "       Unnamed: 0        dur  sbytes  dbytes  sttl  dttl  sloss  dloss  \\\n",
       "0              19   0.000021     728       0   254     0      0      0   \n",
       "1              20   0.240139     918   25552    62   252      2     10   \n",
       "2              21   2.390390    1362     268   254   252      6      1   \n",
       "3              38   0.175190    8168     268   254   252      4      1   \n",
       "4              39   0.190600     844     268   254   252      2      1   \n",
       "...           ...        ...     ...     ...   ...   ...    ...    ...   \n",
       "22210      186497  31.461020     924     708   254   252      2      1   \n",
       "22211      186498  57.995934    1362     536   254   252      6      1   \n",
       "22212      186561  32.361782    1128     622   254   252      6      1   \n",
       "22213      186657   0.476639     470     354   254   252      1      1   \n",
       "22214      186786   0.343431     550     268   254   252      2      0   \n",
       "\n",
       "               Dload  Spkts  ...    ackdat  is_sm_ips_ports  ct_state_ttl  \\\n",
       "0           0.000000      2  ...  0.000000                0             2   \n",
       "1      815794.187500     12  ...  0.044947                0             1   \n",
       "2         749.668518     14  ...  0.048129                0             1   \n",
       "3       10228.894530     14  ...  0.046134                0             1   \n",
       "4        9401.888672     10  ...  0.044321                0             1   \n",
       "...              ...    ...  ...       ...              ...           ...   \n",
       "22210     168.843857     16  ...  0.051658                0             1   \n",
       "22211      67.866829     20  ...  0.062194                0             1   \n",
       "22212     142.884598     18  ...  0.000000                0             1   \n",
       "22213    6915.086426      8  ...  0.000000                0             1   \n",
       "22214    5217.933105     10  ...  0.043948                0             1   \n",
       "\n",
       "       ct_flw_http_mthd  ct_ftp_cmd  ct_srv_src  ct_srv_dst  ct_dst_ltm  \\\n",
       "0                     0           0           1           1           1   \n",
       "1                     1           0           3           2           2   \n",
       "2                     1           0           5           2           2   \n",
       "3                     0           0           1           1           1   \n",
       "4                     1           0           3           1           1   \n",
       "...                 ...         ...         ...         ...         ...   \n",
       "22210                 0           0           6           6           2   \n",
       "22211                 0           0           6           6           2   \n",
       "22212                 0           0           6           6           2   \n",
       "22213                 0           0           8           8           2   \n",
       "22214                 0           0           5           5           3   \n",
       "\n",
       "       ct_src_ ltm  ct_dst_sport_ltm  \n",
       "0                1                 1  \n",
       "1                1                 1  \n",
       "2                1                 1  \n",
       "3                1                 1  \n",
       "4                1                 1  \n",
       "...            ...               ...  \n",
       "22210            2                 1  \n",
       "22211            2                 1  \n",
       "22212            2                 1  \n",
       "22213            2                 1  \n",
       "22214            3                 1  \n",
       "\n",
       "[22215 rows x 31 columns]"
      ]
     },
     "execution_count": 345,
     "metadata": {},
     "output_type": "execute_result"
    }
   ],
   "source": [
    "X_2"
   ]
  },
  {
   "cell_type": "code",
   "execution_count": 349,
   "id": "28063519",
   "metadata": {},
   "outputs": [
    {
     "data": {
      "text/html": [
       "<div>\n",
       "<style scoped>\n",
       "    .dataframe tbody tr th:only-of-type {\n",
       "        vertical-align: middle;\n",
       "    }\n",
       "\n",
       "    .dataframe tbody tr th {\n",
       "        vertical-align: top;\n",
       "    }\n",
       "\n",
       "    .dataframe thead th {\n",
       "        text-align: right;\n",
       "    }\n",
       "</style>\n",
       "<table border=\"1\" class=\"dataframe\">\n",
       "  <thead>\n",
       "    <tr style=\"text-align: right;\">\n",
       "      <th></th>\n",
       "      <th>Fuzzers</th>\n",
       "      <th>Analysis</th>\n",
       "      <th>Backdoors</th>\n",
       "      <th>DoS</th>\n",
       "      <th>Exploits</th>\n",
       "      <th>Generic</th>\n",
       "      <th>Reconnaissance</th>\n",
       "      <th>Shellcode</th>\n",
       "      <th>Worms</th>\n",
       "    </tr>\n",
       "  </thead>\n",
       "  <tbody>\n",
       "    <tr>\n",
       "      <th>0</th>\n",
       "      <td>0</td>\n",
       "      <td>0</td>\n",
       "      <td>0</td>\n",
       "      <td>0</td>\n",
       "      <td>1</td>\n",
       "      <td>0</td>\n",
       "      <td>0</td>\n",
       "      <td>0</td>\n",
       "      <td>0</td>\n",
       "    </tr>\n",
       "    <tr>\n",
       "      <th>1</th>\n",
       "      <td>0</td>\n",
       "      <td>0</td>\n",
       "      <td>0</td>\n",
       "      <td>0</td>\n",
       "      <td>1</td>\n",
       "      <td>0</td>\n",
       "      <td>0</td>\n",
       "      <td>0</td>\n",
       "      <td>0</td>\n",
       "    </tr>\n",
       "    <tr>\n",
       "      <th>2</th>\n",
       "      <td>0</td>\n",
       "      <td>0</td>\n",
       "      <td>0</td>\n",
       "      <td>0</td>\n",
       "      <td>0</td>\n",
       "      <td>0</td>\n",
       "      <td>1</td>\n",
       "      <td>0</td>\n",
       "      <td>0</td>\n",
       "    </tr>\n",
       "    <tr>\n",
       "      <th>3</th>\n",
       "      <td>0</td>\n",
       "      <td>0</td>\n",
       "      <td>0</td>\n",
       "      <td>0</td>\n",
       "      <td>1</td>\n",
       "      <td>0</td>\n",
       "      <td>0</td>\n",
       "      <td>0</td>\n",
       "      <td>0</td>\n",
       "    </tr>\n",
       "    <tr>\n",
       "      <th>4</th>\n",
       "      <td>0</td>\n",
       "      <td>0</td>\n",
       "      <td>0</td>\n",
       "      <td>0</td>\n",
       "      <td>1</td>\n",
       "      <td>0</td>\n",
       "      <td>0</td>\n",
       "      <td>0</td>\n",
       "      <td>0</td>\n",
       "    </tr>\n",
       "    <tr>\n",
       "      <th>...</th>\n",
       "      <td>...</td>\n",
       "      <td>...</td>\n",
       "      <td>...</td>\n",
       "      <td>...</td>\n",
       "      <td>...</td>\n",
       "      <td>...</td>\n",
       "      <td>...</td>\n",
       "      <td>...</td>\n",
       "      <td>...</td>\n",
       "    </tr>\n",
       "    <tr>\n",
       "      <th>22210</th>\n",
       "      <td>1</td>\n",
       "      <td>0</td>\n",
       "      <td>0</td>\n",
       "      <td>0</td>\n",
       "      <td>0</td>\n",
       "      <td>0</td>\n",
       "      <td>0</td>\n",
       "      <td>0</td>\n",
       "      <td>0</td>\n",
       "    </tr>\n",
       "    <tr>\n",
       "      <th>22211</th>\n",
       "      <td>1</td>\n",
       "      <td>0</td>\n",
       "      <td>0</td>\n",
       "      <td>0</td>\n",
       "      <td>0</td>\n",
       "      <td>0</td>\n",
       "      <td>0</td>\n",
       "      <td>0</td>\n",
       "      <td>0</td>\n",
       "    </tr>\n",
       "    <tr>\n",
       "      <th>22212</th>\n",
       "      <td>1</td>\n",
       "      <td>0</td>\n",
       "      <td>0</td>\n",
       "      <td>0</td>\n",
       "      <td>0</td>\n",
       "      <td>0</td>\n",
       "      <td>0</td>\n",
       "      <td>0</td>\n",
       "      <td>0</td>\n",
       "    </tr>\n",
       "    <tr>\n",
       "      <th>22213</th>\n",
       "      <td>1</td>\n",
       "      <td>0</td>\n",
       "      <td>0</td>\n",
       "      <td>0</td>\n",
       "      <td>0</td>\n",
       "      <td>0</td>\n",
       "      <td>0</td>\n",
       "      <td>0</td>\n",
       "      <td>0</td>\n",
       "    </tr>\n",
       "    <tr>\n",
       "      <th>22214</th>\n",
       "      <td>1</td>\n",
       "      <td>0</td>\n",
       "      <td>0</td>\n",
       "      <td>0</td>\n",
       "      <td>0</td>\n",
       "      <td>0</td>\n",
       "      <td>0</td>\n",
       "      <td>0</td>\n",
       "      <td>0</td>\n",
       "    </tr>\n",
       "  </tbody>\n",
       "</table>\n",
       "<p>22215 rows × 9 columns</p>\n",
       "</div>"
      ],
      "text/plain": [
       "        Fuzzers  Analysis  Backdoors  DoS  Exploits  Generic  Reconnaissance  \\\n",
       "0             0         0          0    0         1        0               0   \n",
       "1             0         0          0    0         1        0               0   \n",
       "2             0         0          0    0         0        0               1   \n",
       "3             0         0          0    0         1        0               0   \n",
       "4             0         0          0    0         1        0               0   \n",
       "...         ...       ...        ...  ...       ...      ...             ...   \n",
       "22210         1         0          0    0         0        0               0   \n",
       "22211         1         0          0    0         0        0               0   \n",
       "22212         1         0          0    0         0        0               0   \n",
       "22213         1         0          0    0         0        0               0   \n",
       "22214         1         0          0    0         0        0               0   \n",
       "\n",
       "       Shellcode  Worms  \n",
       "0              0      0  \n",
       "1              0      0  \n",
       "2              0      0  \n",
       "3              0      0  \n",
       "4              0      0  \n",
       "...          ...    ...  \n",
       "22210          0      0  \n",
       "22211          0      0  \n",
       "22212          0      0  \n",
       "22213          0      0  \n",
       "22214          0      0  \n",
       "\n",
       "[22215 rows x 9 columns]"
      ]
     },
     "execution_count": 349,
     "metadata": {},
     "output_type": "execute_result"
    }
   ],
   "source": [
    "y_3=y_2.drop(['Normal'],axis=1)\n",
    "y_3"
   ]
  },
  {
   "cell_type": "code",
   "execution_count": 351,
   "id": "ca55c4a1",
   "metadata": {},
   "outputs": [
    {
     "data": {
      "text/plain": [
       "array([[0, 0, 0, ..., 0, 0, 0],\n",
       "       [0, 0, 0, ..., 0, 0, 0],\n",
       "       [0, 0, 0, ..., 1, 0, 0],\n",
       "       ...,\n",
       "       [1, 0, 0, ..., 0, 0, 0],\n",
       "       [1, 0, 0, ..., 0, 0, 0],\n",
       "       [1, 0, 0, ..., 0, 0, 0]], dtype=int64)"
      ]
     },
     "execution_count": 351,
     "metadata": {},
     "output_type": "execute_result"
    }
   ],
   "source": [
    "y_3=np.array(y_3)\n",
    "y_3"
   ]
  },
  {
   "cell_type": "markdown",
   "id": "3eeb5503",
   "metadata": {},
   "source": [
    "# PCA Dimensionality Reduciton Based on # 31 Feaures\n",
    "# Normal Activity "
   ]
  },
  {
   "cell_type": "code",
   "execution_count": 266,
   "id": "cd55977e",
   "metadata": {},
   "outputs": [],
   "source": [
    "# Data stadanrdisation \n",
    "import pandas as pd\n",
    "import numpy as np\n",
    "import matplotlib.pyplot as plt\n",
    "from sklearn.decomposition import PCA\n",
    "from sklearn.preprocessing import StandardScaler"
   ]
  },
  {
   "cell_type": "code",
   "execution_count": 267,
   "id": "16d73c1a",
   "metadata": {},
   "outputs": [
    {
     "data": {
      "text/plain": [
       "array([[0.00000e+00, 3.61330e-02, 5.28000e+02, ..., 2.00000e+00,\n",
       "        3.00000e+00, 1.00000e+00],\n",
       "       [1.00000e+00, 1.11900e-03, 1.46000e+02, ..., 1.00000e+00,\n",
       "        2.00000e+00, 1.00000e+00],\n",
       "       [2.00000e+00, 1.20900e-03, 1.32000e+02, ..., 1.00000e+00,\n",
       "        1.00000e+00, 1.00000e+00],\n",
       "       ...,\n",
       "       [6.77782e+05, 7.10800e-03, 2.15800e+03, ..., 6.00000e+00,\n",
       "        7.00000e+00, 1.00000e+00],\n",
       "       [6.77783e+05, 4.43500e-03, 5.68000e+02, ..., 6.00000e+00,\n",
       "        5.00000e+00, 1.00000e+00],\n",
       "       [6.77784e+05, 7.29740e-02, 4.23800e+03, ..., 6.00000e+00,\n",
       "        7.00000e+00, 1.00000e+00]])"
      ]
     },
     "execution_count": 267,
     "metadata": {},
     "output_type": "execute_result"
    }
   ],
   "source": [
    "X_1=np.array(X_1)\n",
    "X_1"
   ]
  },
  {
   "cell_type": "code",
   "execution_count": 268,
   "id": "b1dd44ec",
   "metadata": {},
   "outputs": [],
   "source": [
    "y_1=np.array(y_1)"
   ]
  },
  {
   "cell_type": "code",
   "execution_count": 413,
   "id": "7f083bea",
   "metadata": {},
   "outputs": [
    {
     "data": {
      "text/plain": [
       "array([[1.9000000e+01, 2.1000000e-05, 7.2800000e+02, ..., 1.0000000e+00,\n",
       "        1.0000000e+00, 1.0000000e+00],\n",
       "       [2.0000000e+01, 2.4013900e-01, 9.1800000e+02, ..., 2.0000000e+00,\n",
       "        1.0000000e+00, 1.0000000e+00],\n",
       "       [2.1000000e+01, 2.3903900e+00, 1.3620000e+03, ..., 2.0000000e+00,\n",
       "        1.0000000e+00, 1.0000000e+00],\n",
       "       ...,\n",
       "       [1.8656100e+05, 3.2361782e+01, 1.1280000e+03, ..., 2.0000000e+00,\n",
       "        2.0000000e+00, 1.0000000e+00],\n",
       "       [1.8665700e+05, 4.7663900e-01, 4.7000000e+02, ..., 2.0000000e+00,\n",
       "        2.0000000e+00, 1.0000000e+00],\n",
       "       [1.8678600e+05, 3.4343100e-01, 5.5000000e+02, ..., 3.0000000e+00,\n",
       "        3.0000000e+00, 1.0000000e+00]])"
      ]
     },
     "execution_count": 413,
     "metadata": {},
     "output_type": "execute_result"
    }
   ],
   "source": [
    "X_2=np.array(X_2)\n",
    "X_2"
   ]
  },
  {
   "cell_type": "code",
   "execution_count": 414,
   "id": "4806416e",
   "metadata": {},
   "outputs": [],
   "source": [
    "y_2=np.array(y_2)"
   ]
  },
  {
   "cell_type": "code",
   "execution_count": 415,
   "id": "7c7a4d47",
   "metadata": {},
   "outputs": [
    {
     "data": {
      "text/plain": [
       "array([[-1.73204825, -0.03101792, -0.32008321, ..., -0.58085128,\n",
       "        -0.40326412, -0.26522393],\n",
       "       [-1.73204314, -0.03234724, -0.34907416, ..., -0.84591164,\n",
       "        -0.63999641, -0.26522393],\n",
       "       [-1.73203803, -0.03234382, -0.35013666, ..., -0.84591164,\n",
       "        -0.8767287 , -0.26522393],\n",
       "       ...,\n",
       "       [ 1.73203803, -0.03211986, -0.19637838, ...,  0.47939013,\n",
       "         0.54366505, -0.26522393],\n",
       "       [ 1.73204314, -0.03222134, -0.31704751, ...,  0.47939013,\n",
       "         0.07020047, -0.26522393],\n",
       "       [ 1.73204825, -0.02961924, -0.0385219 , ...,  0.47939013,\n",
       "         0.54366505, -0.26522393]])"
      ]
     },
     "execution_count": 415,
     "metadata": {},
     "output_type": "execute_result"
    }
   ],
   "source": [
    "#Standardizing the features\n",
    "X_1=StandardScaler().fit_transform(X_1)\n",
    "X_1"
   ]
  },
  {
   "cell_type": "code",
   "execution_count": 416,
   "id": "f3e31ee1",
   "metadata": {},
   "outputs": [
    {
     "data": {
      "text/plain": [
       "array([[-2.16659191e+00, -2.21783960e-01, -5.11621426e-02, ...,\n",
       "        -8.73137816e-01, -9.49609188e-01, -7.57354139e-01],\n",
       "       [-2.16657021e+00, -1.76506985e-01, -5.03742760e-02, ...,\n",
       "        -4.34177995e-01, -9.49609188e-01, -7.57354139e-01],\n",
       "       [-2.16654850e+00,  2.28947254e-01, -4.85331562e-02, ...,\n",
       "        -4.34177995e-01, -9.49609188e-01, -7.57354139e-01],\n",
       "       ...,\n",
       "       [ 1.88225560e+00,  5.88039350e+00, -4.95034761e-02, ...,\n",
       "        -4.34177995e-01, -5.85056539e-01, -7.57354139e-01],\n",
       "       [ 1.88433925e+00, -1.31912225e-01, -5.22319825e-02, ...,\n",
       "        -4.34177995e-01, -5.85056539e-01, -7.57354139e-01],\n",
       "       [ 1.88713917e+00, -1.57030106e-01, -5.19002492e-02, ...,\n",
       "         4.78182655e-03, -2.20503891e-01, -7.57354139e-01]])"
      ]
     },
     "execution_count": 416,
     "metadata": {},
     "output_type": "execute_result"
    }
   ],
   "source": [
    "X_2=StandardScaler().fit_transform(X_2)\n",
    "X_2"
   ]
  },
  {
   "cell_type": "code",
   "execution_count": 273,
   "id": "dd93b508",
   "metadata": {},
   "outputs": [],
   "source": [
    "# Normal Activity Data PCA Dimensionality Reduction "
   ]
  },
  {
   "cell_type": "code",
   "execution_count": 274,
   "id": "6c37caaf",
   "metadata": {},
   "outputs": [
    {
     "data": {
      "text/plain": [
       "array([1.77573336e-01, 1.27588849e-01, 9.88609306e-02, 8.27306201e-02,\n",
       "       6.66178495e-02, 6.32244320e-02, 4.67641286e-02, 4.23164735e-02,\n",
       "       3.63747992e-02, 3.22879840e-02, 3.03030042e-02, 2.85364168e-02,\n",
       "       2.20819206e-02, 2.17278692e-02, 1.86883083e-02, 1.83982561e-02,\n",
       "       1.57656680e-02, 1.46555663e-02, 1.15738451e-02, 9.82148346e-03,\n",
       "       8.72082330e-03, 8.61442974e-03, 6.31274067e-03, 6.28411902e-03,\n",
       "       3.83710818e-03, 1.97014293e-04, 1.13320108e-04, 2.06178502e-05,\n",
       "       7.72220249e-06])"
      ]
     },
     "execution_count": 274,
     "metadata": {},
     "output_type": "execute_result"
    }
   ],
   "source": [
    "#29 Features \n",
    "pca = PCA(n_components=29)\n",
    "principalComponents_normal_29 = pca.fit_transform(X_1)\n",
    "pca.explained_variance_ratio_"
   ]
  },
  {
   "cell_type": "code",
   "execution_count": 275,
   "id": "b90ce15f",
   "metadata": {},
   "outputs": [
    {
     "data": {
      "image/png": "[encoded data removed]",
      "text/plain": [
       "<Figure size 432x288 with 1 Axes>"
      ]
     },
     "metadata": {
      "needs_background": "light"
     },
     "output_type": "display_data"
    }
   ],
   "source": [
    "importance = pca.explained_variance_ratio_\n",
    "plt.scatter(range(1,30),importance)\n",
    "plt.plot(range(1,30),importance)\n",
    "plt.title('Scree Plot')\n",
    "plt.xlabel('Factors')\n",
    "plt.ylabel('Eigenvalue')\n",
    "plt.grid()\n",
    "plt.show()"
   ]
  },
  {
   "cell_type": "code",
   "execution_count": 276,
   "id": "d2f67d76",
   "metadata": {},
   "outputs": [
    {
     "data": {
      "text/plain": [
       "Text(0, 0.5, 'cumlative explained variance')"
      ]
     },
     "execution_count": 276,
     "metadata": {},
     "output_type": "execute_result"
    },
    {
     "data": {
      "image/png": "[encoded data removed]",
      "text/plain": [
       "<Figure size 432x288 with 1 Axes>"
      ]
     },
     "metadata": {
      "needs_background": "light"
     },
     "output_type": "display_data"
    }
   ],
   "source": [
    "plt.plot(np.cumsum(pca.explained_variance_ratio_))\n",
    "plt.xlabel('number of components')\n",
    "plt.ylabel('cumlative explained variance')"
   ]
  },
  {
   "cell_type": "code",
   "execution_count": 277,
   "id": "80d35dd2",
   "metadata": {},
   "outputs": [
    {
     "data": {
      "text/plain": [
       "array([0.17757334, 0.30516219, 0.40402312, 0.48675374, 0.55337159,\n",
       "       0.61659602, 0.66336015, 0.70567662, 0.74205142, 0.7743394 ,\n",
       "       0.80464241, 0.83317882, 0.85526074, 0.87698861, 0.89567692,\n",
       "       0.91407518, 0.92984085, 0.94449641, 0.95607026, 0.96589174,\n",
       "       0.97461256, 0.98322699, 0.98953973, 0.99582385, 0.99966096,\n",
       "       0.99985798, 0.9999713 , 0.99999191, 0.99999964])"
      ]
     },
     "execution_count": 277,
     "metadata": {},
     "output_type": "execute_result"
    }
   ],
   "source": [
    "a=np.cumsum(pca.explained_variance_ratio_)\n",
    "a"
   ]
  },
  {
   "cell_type": "code",
   "execution_count": 202,
   "id": "e537857b",
   "metadata": {},
   "outputs": [],
   "source": [
    "# Feature 20"
   ]
  },
  {
   "cell_type": "code",
   "execution_count": 203,
   "id": "1be14787",
   "metadata": {},
   "outputs": [
    {
     "data": {
      "text/plain": [
       "array([0.17757334, 0.12758885, 0.09886093, 0.08273062, 0.06661785,\n",
       "       0.06322443, 0.04676413, 0.04231647, 0.0363748 , 0.03228798,\n",
       "       0.030303  , 0.02853642, 0.02208192, 0.02172787, 0.01868831,\n",
       "       0.01839826, 0.01576567, 0.01465557, 0.01157385, 0.00982148])"
      ]
     },
     "execution_count": 203,
     "metadata": {},
     "output_type": "execute_result"
    }
   ],
   "source": [
    "pca = PCA(n_components=20)\n",
    "principalComponents_normal_20 = pca.fit_transform(X_1)\n",
    "pca.explained_variance_ratio_"
   ]
  },
  {
   "cell_type": "code",
   "execution_count": 204,
   "id": "d9fd22dc",
   "metadata": {},
   "outputs": [
    {
     "data": {
      "image/png": "[encoded data removed]",
      "text/plain": [
       "<Figure size 432x288 with 1 Axes>"
      ]
     },
     "metadata": {
      "needs_background": "light"
     },
     "output_type": "display_data"
    }
   ],
   "source": [
    "importance = pca.explained_variance_ratio_\n",
    "plt.scatter(range(1,21),importance)\n",
    "plt.plot(range(1,21),importance)\n",
    "plt.title('Scree Plot')\n",
    "plt.xlabel('Factors')\n",
    "plt.ylabel('Eigenvalue')\n",
    "plt.grid()\n",
    "plt.show()"
   ]
  },
  {
   "cell_type": "code",
   "execution_count": 205,
   "id": "5f21a8d4",
   "metadata": {},
   "outputs": [
    {
     "data": {
      "text/plain": [
       "Text(0, 0.5, 'cumlative explained variance')"
      ]
     },
     "execution_count": 205,
     "metadata": {},
     "output_type": "execute_result"
    },
    {
     "data": {
      "image/png": "[encoded data removed]",
      "text/plain": [
       "<Figure size 432x288 with 1 Axes>"
      ]
     },
     "metadata": {
      "needs_background": "light"
     },
     "output_type": "display_data"
    }
   ],
   "source": [
    "plt.plot(np.cumsum(pca.explained_variance_ratio_))\n",
    "plt.xlabel('number of components')\n",
    "plt.ylabel('cumlative explained variance')"
   ]
  },
  {
   "cell_type": "code",
   "execution_count": 206,
   "id": "9bf417bc",
   "metadata": {},
   "outputs": [
    {
     "data": {
      "text/plain": [
       "array([0.17757334, 0.30516219, 0.40402312, 0.48675374, 0.55337159,\n",
       "       0.61659602, 0.66336015, 0.70567662, 0.74205142, 0.7743394 ,\n",
       "       0.80464241, 0.83317882, 0.85526074, 0.87698861, 0.89567692,\n",
       "       0.91407518, 0.92984085, 0.94449641, 0.95607026, 0.96589174])"
      ]
     },
     "execution_count": 206,
     "metadata": {},
     "output_type": "execute_result"
    }
   ],
   "source": [
    "b=np.cumsum(pca.explained_variance_ratio_)\n",
    "b"
   ]
  },
  {
   "cell_type": "code",
   "execution_count": 207,
   "id": "e8b410b4",
   "metadata": {},
   "outputs": [],
   "source": [
    "# Normal Feature 18 "
   ]
  },
  {
   "cell_type": "code",
   "execution_count": 208,
   "id": "e1acd638",
   "metadata": {},
   "outputs": [
    {
     "data": {
      "text/plain": [
       "array([0.17757334, 0.12758885, 0.09886093, 0.08273062, 0.06661785,\n",
       "       0.06322443, 0.04676413, 0.04231647, 0.0363748 , 0.03228798,\n",
       "       0.030303  , 0.02853642, 0.02208192, 0.02172787, 0.01868831,\n",
       "       0.01839826, 0.01576567, 0.01465557])"
      ]
     },
     "execution_count": 208,
     "metadata": {},
     "output_type": "execute_result"
    }
   ],
   "source": [
    "pca = PCA(n_components=18)\n",
    "principalComponents_normal_18 = pca.fit_transform(X_1)\n",
    "pca.explained_variance_ratio_"
   ]
  },
  {
   "cell_type": "code",
   "execution_count": 209,
   "id": "ead98bed",
   "metadata": {},
   "outputs": [
    {
     "name": "stdout",
     "output_type": "stream",
     "text": [
      "(677785, 18)\n"
     ]
    }
   ],
   "source": [
    "print(principalComponents_normal_18.shape)"
   ]
  },
  {
   "cell_type": "code",
   "execution_count": 210,
   "id": "3c87ea35",
   "metadata": {},
   "outputs": [
    {
     "data": {
      "image/png": "[encoded data removed]",
      "text/plain": [
       "<Figure size 432x288 with 1 Axes>"
      ]
     },
     "metadata": {
      "needs_background": "light"
     },
     "output_type": "display_data"
    }
   ],
   "source": [
    "importance = pca.explained_variance_ratio_\n",
    "plt.scatter(range(1,19),importance)\n",
    "plt.plot(range(1,19),importance)\n",
    "plt.title('Scree Plot')\n",
    "plt.xlabel('Factors')\n",
    "plt.ylabel('Eigenvalue')\n",
    "plt.grid()\n",
    "plt.show()"
   ]
  },
  {
   "cell_type": "code",
   "execution_count": 211,
   "id": "37eaf321",
   "metadata": {},
   "outputs": [
    {
     "data": {
      "text/plain": [
       "Text(0, 0.5, 'cumlative explained variance')"
      ]
     },
     "execution_count": 211,
     "metadata": {},
     "output_type": "execute_result"
    },
    {
     "data": {
      "image/png": "[encoded data removed]",
      "text/plain": [
       "<Figure size 432x288 with 1 Axes>"
      ]
     },
     "metadata": {
      "needs_background": "light"
     },
     "output_type": "display_data"
    }
   ],
   "source": [
    "plt.plot(np.cumsum(pca.explained_variance_ratio_))\n",
    "plt.xlabel('number of components')\n",
    "plt.ylabel('cumlative explained variance')"
   ]
  },
  {
   "cell_type": "code",
   "execution_count": 212,
   "id": "18d9e502",
   "metadata": {},
   "outputs": [
    {
     "data": {
      "text/plain": [
       "array([0.17757334, 0.30516219, 0.40402312, 0.48675374, 0.55337159,\n",
       "       0.61659602, 0.66336015, 0.70567662, 0.74205142, 0.7743394 ,\n",
       "       0.80464241, 0.83317882, 0.85526074, 0.87698861, 0.89567692,\n",
       "       0.91407518, 0.92984085, 0.94449641])"
      ]
     },
     "execution_count": 212,
     "metadata": {},
     "output_type": "execute_result"
    }
   ],
   "source": [
    "c=np.cumsum(pca.explained_variance_ratio_)\n",
    "c"
   ]
  },
  {
   "cell_type": "code",
   "execution_count": 213,
   "id": "3c39b69b",
   "metadata": {},
   "outputs": [],
   "source": [
    "# Normal Feature 15"
   ]
  },
  {
   "cell_type": "code",
   "execution_count": 214,
   "id": "7595dd64",
   "metadata": {},
   "outputs": [
    {
     "data": {
      "text/plain": [
       "array([0.17757334, 0.12758885, 0.09886093, 0.08273062, 0.06661785,\n",
       "       0.06322443, 0.04676413, 0.04231647, 0.0363748 , 0.03228798,\n",
       "       0.030303  , 0.02853642, 0.02208192, 0.02172787, 0.01868831])"
      ]
     },
     "execution_count": 214,
     "metadata": {},
     "output_type": "execute_result"
    }
   ],
   "source": [
    "pca = PCA(n_components=15)\n",
    "principalComponents_normal_15 = pca.fit_transform(X_1)\n",
    "pca.explained_variance_ratio_"
   ]
  },
  {
   "cell_type": "code",
   "execution_count": 215,
   "id": "03293558",
   "metadata": {},
   "outputs": [
    {
     "data": {
      "image/png": "[encoded data removed]",
      "text/plain": [
       "<Figure size 432x288 with 1 Axes>"
      ]
     },
     "metadata": {
      "needs_background": "light"
     },
     "output_type": "display_data"
    }
   ],
   "source": [
    "importance = pca.explained_variance_ratio_\n",
    "plt.scatter(range(1,16),importance)\n",
    "plt.plot(range(1,16),importance)\n",
    "plt.title('Scree Plot')\n",
    "plt.xlabel('Factors')\n",
    "plt.ylabel('Eigenvalue')\n",
    "plt.grid()\n",
    "plt.show()"
   ]
  },
  {
   "cell_type": "code",
   "execution_count": 216,
   "id": "10575ab0",
   "metadata": {},
   "outputs": [
    {
     "data": {
      "text/plain": [
       "Text(0, 0.5, 'cumlative explained variance')"
      ]
     },
     "execution_count": 216,
     "metadata": {},
     "output_type": "execute_result"
    },
    {
     "data": {
      "image/png": "[encoded data removed]",
      "text/plain": [
       "<Figure size 432x288 with 1 Axes>"
      ]
     },
     "metadata": {
      "needs_background": "light"
     },
     "output_type": "display_data"
    }
   ],
   "source": [
    "plt.plot(np.cumsum(pca.explained_variance_ratio_))\n",
    "plt.xlabel('number of components')\n",
    "plt.ylabel('cumlative explained variance')"
   ]
  },
  {
   "cell_type": "code",
   "execution_count": 217,
   "id": "8b75b78d",
   "metadata": {},
   "outputs": [
    {
     "data": {
      "text/plain": [
       "array([0.17757334, 0.30516219, 0.40402312, 0.48675374, 0.55337159,\n",
       "       0.61659602, 0.66336015, 0.70567662, 0.74205142, 0.7743394 ,\n",
       "       0.80464241, 0.83317882, 0.85526074, 0.87698861, 0.89567692])"
      ]
     },
     "execution_count": 217,
     "metadata": {},
     "output_type": "execute_result"
    }
   ],
   "source": [
    "d=np.cumsum(pca.explained_variance_ratio_)\n",
    "d"
   ]
  },
  {
   "cell_type": "code",
   "execution_count": 218,
   "id": "10d93f93",
   "metadata": {},
   "outputs": [],
   "source": [
    "#Normal Feature 9"
   ]
  },
  {
   "cell_type": "code",
   "execution_count": 219,
   "id": "02818828",
   "metadata": {},
   "outputs": [
    {
     "data": {
      "text/plain": [
       "array([0.17757334, 0.12758885, 0.09886093, 0.08273062, 0.06661785,\n",
       "       0.06322441, 0.04676411, 0.04231614, 0.03637348])"
      ]
     },
     "execution_count": 219,
     "metadata": {},
     "output_type": "execute_result"
    }
   ],
   "source": [
    "pca = PCA(n_components=9)\n",
    "principalComponents_normal_9 = pca.fit_transform(X_1)\n",
    "pca.explained_variance_ratio_"
   ]
  },
  {
   "cell_type": "code",
   "execution_count": 220,
   "id": "23fb8eb4",
   "metadata": {},
   "outputs": [
    {
     "name": "stdout",
     "output_type": "stream",
     "text": [
      "(677785, 9)\n"
     ]
    }
   ],
   "source": [
    "print(principalComponents_normal_9.shape)"
   ]
  },
  {
   "cell_type": "code",
   "execution_count": 221,
   "id": "82828eab",
   "metadata": {},
   "outputs": [
    {
     "data": {
      "image/png": "[encoded data removed]",
      "text/plain": [
       "<Figure size 432x288 with 1 Axes>"
      ]
     },
     "metadata": {
      "needs_background": "light"
     },
     "output_type": "display_data"
    }
   ],
   "source": [
    "importance = pca.explained_variance_ratio_\n",
    "plt.scatter(range(1,10),importance)\n",
    "plt.plot(range(1,10),importance)\n",
    "plt.title('Scree Plot')\n",
    "plt.xlabel('Factors')\n",
    "plt.ylabel('Eigenvalue')\n",
    "plt.grid()\n",
    "plt.show()"
   ]
  },
  {
   "cell_type": "code",
   "execution_count": 222,
   "id": "3353ccb6",
   "metadata": {},
   "outputs": [
    {
     "data": {
      "text/plain": [
       "Text(0, 0.5, 'cumlative explained variance')"
      ]
     },
     "execution_count": 222,
     "metadata": {},
     "output_type": "execute_result"
    },
    {
     "data": {
      "image/png": "[encoded data removed]",
      "text/plain": [
       "<Figure size 432x288 with 1 Axes>"
      ]
     },
     "metadata": {
      "needs_background": "light"
     },
     "output_type": "display_data"
    }
   ],
   "source": [
    "plt.plot(np.cumsum(pca.explained_variance_ratio_))\n",
    "plt.xlabel('number of components')\n",
    "plt.ylabel('cumlative explained variance')"
   ]
  },
  {
   "cell_type": "code",
   "execution_count": 223,
   "id": "bfd685f9",
   "metadata": {},
   "outputs": [
    {
     "data": {
      "text/plain": [
       "array([0.17757334, 0.30516219, 0.40402312, 0.48675373, 0.55337158,\n",
       "       0.61659599, 0.6633601 , 0.70567624, 0.74204972])"
      ]
     },
     "execution_count": 223,
     "metadata": {},
     "output_type": "execute_result"
    }
   ],
   "source": [
    "e=np.cumsum(pca.explained_variance_ratio_)\n",
    "e"
   ]
  },
  {
   "cell_type": "code",
   "execution_count": null,
   "id": "f3e8b623",
   "metadata": {},
   "outputs": [],
   "source": [
    "# 8 Features "
   ]
  },
  {
   "cell_type": "code",
   "execution_count": 417,
   "id": "92db36b0",
   "metadata": {},
   "outputs": [
    {
     "data": {
      "text/plain": [
       "array([0.17757334, 0.12758885, 0.09886093, 0.08273062, 0.06661785,\n",
       "       0.06322443, 0.0467641 , 0.04231642])"
      ]
     },
     "execution_count": 417,
     "metadata": {},
     "output_type": "execute_result"
    }
   ],
   "source": [
    "pca = PCA(n_components=8)\n",
    "principalComponents_normal_8 = pca.fit_transform(X_1)\n",
    "pca.explained_variance_ratio_"
   ]
  },
  {
   "cell_type": "code",
   "execution_count": 418,
   "id": "5eab9e66",
   "metadata": {},
   "outputs": [
    {
     "data": {
      "image/png": "[encoded data removed]",
      "text/plain": [
       "<Figure size 432x288 with 1 Axes>"
      ]
     },
     "metadata": {
      "needs_background": "light"
     },
     "output_type": "display_data"
    }
   ],
   "source": [
    "importance = pca.explained_variance_ratio_\n",
    "plt.scatter(range(1,9),importance)\n",
    "plt.plot(range(1,9),importance)\n",
    "plt.title('Scree Plot')\n",
    "plt.xlabel('Factors')\n",
    "plt.ylabel('Eigenvalue')\n",
    "plt.grid()\n",
    "plt.show()"
   ]
  },
  {
   "cell_type": "code",
   "execution_count": 419,
   "id": "3133c9c9",
   "metadata": {},
   "outputs": [
    {
     "data": {
      "text/plain": [
       "Text(0, 0.5, 'cumlative explained variance')"
      ]
     },
     "execution_count": 419,
     "metadata": {},
     "output_type": "execute_result"
    },
    {
     "data": {
      "image/png": "[encoded data removed]",
      "text/plain": [
       "<Figure size 432x288 with 1 Axes>"
      ]
     },
     "metadata": {
      "needs_background": "light"
     },
     "output_type": "display_data"
    }
   ],
   "source": [
    "plt.plot(np.cumsum(pca.explained_variance_ratio_))\n",
    "plt.xlabel('number of components')\n",
    "plt.ylabel('cumlative explained variance')"
   ]
  },
  {
   "cell_type": "code",
   "execution_count": 420,
   "id": "f4a52915",
   "metadata": {},
   "outputs": [
    {
     "data": {
      "text/plain": [
       "array([0.17757334, 0.30516219, 0.40402311, 0.48675373, 0.55337158,\n",
       "       0.616596  , 0.66336011, 0.70567653])"
      ]
     },
     "execution_count": 420,
     "metadata": {},
     "output_type": "execute_result"
    }
   ],
   "source": [
    "f=np.cumsum(pca.explained_variance_ratio_)\n",
    "f"
   ]
  },
  {
   "cell_type": "code",
   "execution_count": null,
   "id": "740c0b86",
   "metadata": {},
   "outputs": [],
   "source": []
  },
  {
   "cell_type": "code",
   "execution_count": null,
   "id": "3a9a1a0d",
   "metadata": {},
   "outputs": [],
   "source": []
  },
  {
   "cell_type": "markdown",
   "id": "a5aebb28",
   "metadata": {},
   "source": [
    "# PCA Dimensionality Reduciton Based on # 31 Feaures\n",
    "# Anormal Activity "
   ]
  },
  {
   "cell_type": "code",
   "execution_count": 224,
   "id": "cb5a457e",
   "metadata": {},
   "outputs": [],
   "source": [
    "# 29 Feature "
   ]
  },
  {
   "cell_type": "code",
   "execution_count": 225,
   "id": "514379c3",
   "metadata": {},
   "outputs": [
    {
     "data": {
      "text/plain": [
       "array([3.00298219e-01, 1.20955041e-01, 1.01082736e-01, 9.45177085e-02,\n",
       "       5.76347336e-02, 5.12813604e-02, 3.60655596e-02, 3.40922264e-02,\n",
       "       3.14780083e-02, 2.89940675e-02, 2.68860445e-02, 2.37164168e-02,\n",
       "       2.10786358e-02, 1.71341343e-02, 1.57122372e-02, 9.40323064e-03,\n",
       "       8.61721847e-03, 5.59454153e-03, 5.23109221e-03, 4.69607666e-03,\n",
       "       3.57840363e-03, 1.61161021e-03, 1.45888608e-04, 8.31354067e-05,\n",
       "       4.17064330e-05, 2.95069188e-05, 2.50640901e-05, 1.53945945e-05,\n",
       "       1.57332451e-09])"
      ]
     },
     "execution_count": 225,
     "metadata": {},
     "output_type": "execute_result"
    }
   ],
   "source": [
    "pca = PCA(n_components=29)\n",
    "principalComponents_anormal_29 = pca.fit_transform(X_2)\n",
    "pca.explained_variance_ratio_"
   ]
  },
  {
   "cell_type": "code",
   "execution_count": 226,
   "id": "0e67a2ba",
   "metadata": {},
   "outputs": [
    {
     "data": {
      "image/png": "[encoded data removed]",
      "text/plain": [
       "<Figure size 432x288 with 1 Axes>"
      ]
     },
     "metadata": {
      "needs_background": "light"
     },
     "output_type": "display_data"
    }
   ],
   "source": [
    "importance = pca.explained_variance_ratio_\n",
    "plt.scatter(range(1,30),importance)\n",
    "plt.plot(range(1,30),importance)\n",
    "plt.title('Scree Plot')\n",
    "plt.xlabel('Factors')\n",
    "plt.ylabel('Eigenvalue')\n",
    "plt.grid()\n",
    "plt.show()"
   ]
  },
  {
   "cell_type": "code",
   "execution_count": 227,
   "id": "1d42dc70",
   "metadata": {},
   "outputs": [
    {
     "data": {
      "text/plain": [
       "Text(0, 0.5, 'cumlative explained variance')"
      ]
     },
     "execution_count": 227,
     "metadata": {},
     "output_type": "execute_result"
    },
    {
     "data": {
      "image/png": "[encoded data removed]",
      "text/plain": [
       "<Figure size 432x288 with 1 Axes>"
      ]
     },
     "metadata": {
      "needs_background": "light"
     },
     "output_type": "display_data"
    }
   ],
   "source": [
    "plt.plot(np.cumsum(pca.explained_variance_ratio_))\n",
    "plt.xlabel('number of components')\n",
    "plt.ylabel('cumlative explained variance')"
   ]
  },
  {
   "cell_type": "code",
   "execution_count": 228,
   "id": "0c3c702b",
   "metadata": {},
   "outputs": [
    {
     "data": {
      "text/plain": [
       "array([0.30029822, 0.42125326, 0.522336  , 0.6168537 , 0.67448844,\n",
       "       0.7257698 , 0.76183536, 0.79592758, 0.82740559, 0.85639966,\n",
       "       0.88328571, 0.90700212, 0.92808076, 0.94521489, 0.96092713,\n",
       "       0.97033036, 0.97894758, 0.98454212, 0.98977321, 0.99446929,\n",
       "       0.99804769, 0.9996593 , 0.99980519, 0.99988833, 0.99993003,\n",
       "       0.99995954, 0.9999846 , 1.        , 1.        ])"
      ]
     },
     "execution_count": 228,
     "metadata": {},
     "output_type": "execute_result"
    }
   ],
   "source": [
    "a_1=np.cumsum(pca.explained_variance_ratio_)\n",
    "a_1"
   ]
  },
  {
   "cell_type": "code",
   "execution_count": 229,
   "id": "592bf4be",
   "metadata": {},
   "outputs": [],
   "source": [
    "#Feature 20"
   ]
  },
  {
   "cell_type": "code",
   "execution_count": 230,
   "id": "a7b8ea89",
   "metadata": {},
   "outputs": [
    {
     "data": {
      "text/plain": [
       "array([0.30029822, 0.12095504, 0.10108274, 0.09451771, 0.05763473,\n",
       "       0.05128136, 0.03606556, 0.03409223, 0.03147801, 0.02899407,\n",
       "       0.02688604, 0.02371642, 0.02107864, 0.01713413, 0.01571224,\n",
       "       0.00940323, 0.00861722, 0.00559454, 0.00523109, 0.00469608])"
      ]
     },
     "execution_count": 230,
     "metadata": {},
     "output_type": "execute_result"
    }
   ],
   "source": [
    "pca = PCA(n_components=20)\n",
    "principalComponents_anormal_20 = pca.fit_transform(X_2)\n",
    "pca.explained_variance_ratio_"
   ]
  },
  {
   "cell_type": "code",
   "execution_count": 231,
   "id": "0d268a8d",
   "metadata": {},
   "outputs": [
    {
     "data": {
      "image/png": "[encoded data removed]",
      "text/plain": [
       "<Figure size 432x288 with 1 Axes>"
      ]
     },
     "metadata": {
      "needs_background": "light"
     },
     "output_type": "display_data"
    }
   ],
   "source": [
    "importance = pca.explained_variance_ratio_\n",
    "plt.scatter(range(1,21),importance)\n",
    "plt.plot(range(1,21),importance)\n",
    "plt.title('Scree Plot')\n",
    "plt.xlabel('Factors')\n",
    "plt.ylabel('Eigenvalue')\n",
    "plt.grid()\n",
    "plt.show()"
   ]
  },
  {
   "cell_type": "code",
   "execution_count": 232,
   "id": "23198fe8",
   "metadata": {},
   "outputs": [
    {
     "data": {
      "text/plain": [
       "Text(0, 0.5, 'cumlative explained variance')"
      ]
     },
     "execution_count": 232,
     "metadata": {},
     "output_type": "execute_result"
    },
    {
     "data": {
      "image/png": "[encoded data removed]",
      "text/plain": [
       "<Figure size 432x288 with 1 Axes>"
      ]
     },
     "metadata": {
      "needs_background": "light"
     },
     "output_type": "display_data"
    }
   ],
   "source": [
    "plt.plot(np.cumsum(pca.explained_variance_ratio_))\n",
    "plt.xlabel('number of components')\n",
    "plt.ylabel('cumlative explained variance')"
   ]
  },
  {
   "cell_type": "code",
   "execution_count": 233,
   "id": "636e1b99",
   "metadata": {},
   "outputs": [
    {
     "data": {
      "text/plain": [
       "array([0.30029822, 0.42125326, 0.522336  , 0.6168537 , 0.67448844,\n",
       "       0.7257698 , 0.76183536, 0.79592758, 0.82740559, 0.85639966,\n",
       "       0.88328571, 0.90700212, 0.92808076, 0.94521489, 0.96092713,\n",
       "       0.97033036, 0.97894758, 0.98454212, 0.98977321, 0.99446929])"
      ]
     },
     "execution_count": 233,
     "metadata": {},
     "output_type": "execute_result"
    }
   ],
   "source": [
    "b_1=np.cumsum(pca.explained_variance_ratio_)\n",
    "b_1"
   ]
  },
  {
   "cell_type": "code",
   "execution_count": 234,
   "id": "67bd8f81",
   "metadata": {},
   "outputs": [],
   "source": [
    "#18 Feature "
   ]
  },
  {
   "cell_type": "code",
   "execution_count": 235,
   "id": "ac5e34e1",
   "metadata": {},
   "outputs": [
    {
     "data": {
      "text/plain": [
       "array([0.30029822, 0.12095504, 0.10108274, 0.09451771, 0.05763473,\n",
       "       0.05128136, 0.03606556, 0.03409223, 0.03147801, 0.02899407,\n",
       "       0.02688604, 0.02371642, 0.02107864, 0.01713413, 0.01571224,\n",
       "       0.00940323, 0.00861722, 0.00559454])"
      ]
     },
     "execution_count": 235,
     "metadata": {},
     "output_type": "execute_result"
    }
   ],
   "source": [
    "pca = PCA(n_components=18)\n",
    "principalComponents_anormal_18 = pca.fit_transform(X_2)\n",
    "pca.explained_variance_ratio_"
   ]
  },
  {
   "cell_type": "code",
   "execution_count": 236,
   "id": "3ad1af16",
   "metadata": {},
   "outputs": [
    {
     "data": {
      "image/png": "[encoded data removed]",
      "text/plain": [
       "<Figure size 432x288 with 1 Axes>"
      ]
     },
     "metadata": {
      "needs_background": "light"
     },
     "output_type": "display_data"
    }
   ],
   "source": [
    "importance = pca.explained_variance_ratio_\n",
    "plt.scatter(range(1,19),importance)\n",
    "plt.plot(range(1,19),importance)\n",
    "plt.title('Scree Plot')\n",
    "plt.xlabel('Factors')\n",
    "plt.ylabel('Eigenvalue')\n",
    "plt.grid()\n",
    "plt.show()"
   ]
  },
  {
   "cell_type": "code",
   "execution_count": 237,
   "id": "345e14a6",
   "metadata": {},
   "outputs": [
    {
     "data": {
      "text/plain": [
       "Text(0, 0.5, 'cumlative explained variance')"
      ]
     },
     "execution_count": 237,
     "metadata": {},
     "output_type": "execute_result"
    },
    {
     "data": {
      "image/png": "[encoded data removed]",
      "text/plain": [
       "<Figure size 432x288 with 1 Axes>"
      ]
     },
     "metadata": {
      "needs_background": "light"
     },
     "output_type": "display_data"
    }
   ],
   "source": [
    "plt.plot(np.cumsum(pca.explained_variance_ratio_))\n",
    "plt.xlabel('number of components')\n",
    "plt.ylabel('cumlative explained variance')"
   ]
  },
  {
   "cell_type": "code",
   "execution_count": 238,
   "id": "4a64cc2d",
   "metadata": {},
   "outputs": [
    {
     "name": "stdout",
     "output_type": "stream",
     "text": [
      "(677785, 18)\n"
     ]
    }
   ],
   "source": [
    "print(principalComponents_normal_18.shape)"
   ]
  },
  {
   "cell_type": "code",
   "execution_count": 239,
   "id": "63313f1a",
   "metadata": {},
   "outputs": [
    {
     "data": {
      "text/plain": [
       "array([0.30029822, 0.42125326, 0.522336  , 0.6168537 , 0.67448844,\n",
       "       0.7257698 , 0.76183536, 0.79592758, 0.82740559, 0.85639966,\n",
       "       0.88328571, 0.90700212, 0.92808076, 0.94521489, 0.96092713,\n",
       "       0.97033036, 0.97894758, 0.98454212])"
      ]
     },
     "execution_count": 239,
     "metadata": {},
     "output_type": "execute_result"
    }
   ],
   "source": [
    "c_1=np.cumsum(pca.explained_variance_ratio_)\n",
    "c_1"
   ]
  },
  {
   "cell_type": "code",
   "execution_count": 240,
   "id": "079e047b",
   "metadata": {},
   "outputs": [],
   "source": [
    "#15 Feature "
   ]
  },
  {
   "cell_type": "code",
   "execution_count": 241,
   "id": "80752f61",
   "metadata": {},
   "outputs": [
    {
     "data": {
      "text/plain": [
       "array([0.30029822, 0.12095504, 0.10108274, 0.09451771, 0.05763473,\n",
       "       0.05128136, 0.03606556, 0.03409223, 0.03147801, 0.02899407,\n",
       "       0.02688604, 0.02371642, 0.02107864, 0.01713413, 0.01571224])"
      ]
     },
     "execution_count": 241,
     "metadata": {},
     "output_type": "execute_result"
    }
   ],
   "source": [
    "pca = PCA(n_components=15)\n",
    "principalComponents_anormal_15 = pca.fit_transform(X_2)\n",
    "pca.explained_variance_ratio_"
   ]
  },
  {
   "cell_type": "code",
   "execution_count": 242,
   "id": "ca9b5035",
   "metadata": {},
   "outputs": [
    {
     "data": {
      "image/png": "[encoded data removed]",
      "text/plain": [
       "<Figure size 432x288 with 1 Axes>"
      ]
     },
     "metadata": {
      "needs_background": "light"
     },
     "output_type": "display_data"
    }
   ],
   "source": [
    "importance = pca.explained_variance_ratio_\n",
    "plt.scatter(range(1,16),importance)\n",
    "plt.plot(range(1,16),importance)\n",
    "plt.title('Scree Plot')\n",
    "plt.xlabel('Factors')\n",
    "plt.ylabel('Eigenvalue')\n",
    "plt.grid()\n",
    "plt.show()"
   ]
  },
  {
   "cell_type": "code",
   "execution_count": 243,
   "id": "8fd24fc3",
   "metadata": {},
   "outputs": [
    {
     "data": {
      "text/plain": [
       "Text(0, 0.5, 'cumlative explained variance')"
      ]
     },
     "execution_count": 243,
     "metadata": {},
     "output_type": "execute_result"
    },
    {
     "data": {
      "image/png": "[encoded data removed]",
      "text/plain": [
       "<Figure size 432x288 with 1 Axes>"
      ]
     },
     "metadata": {
      "needs_background": "light"
     },
     "output_type": "display_data"
    }
   ],
   "source": [
    "plt.plot(np.cumsum(pca.explained_variance_ratio_))\n",
    "plt.xlabel('number of components')\n",
    "plt.ylabel('cumlative explained variance')"
   ]
  },
  {
   "cell_type": "code",
   "execution_count": 244,
   "id": "cb43087d",
   "metadata": {},
   "outputs": [
    {
     "data": {
      "text/plain": [
       "array([0.30029822, 0.42125326, 0.522336  , 0.6168537 , 0.67448844,\n",
       "       0.7257698 , 0.76183536, 0.79592758, 0.82740559, 0.85639966,\n",
       "       0.88328571, 0.90700212, 0.92808076, 0.94521489, 0.96092713])"
      ]
     },
     "execution_count": 244,
     "metadata": {},
     "output_type": "execute_result"
    }
   ],
   "source": [
    "d_1=np.cumsum(pca.explained_variance_ratio_)\n",
    "d_1"
   ]
  },
  {
   "cell_type": "code",
   "execution_count": 245,
   "id": "e3e254c0",
   "metadata": {},
   "outputs": [],
   "source": [
    "# 9 Feature "
   ]
  },
  {
   "cell_type": "code",
   "execution_count": 246,
   "id": "50bf1199",
   "metadata": {},
   "outputs": [
    {
     "data": {
      "text/plain": [
       "array([0.30029822, 0.12095504, 0.10108274, 0.09451771, 0.05763473,\n",
       "       0.05128136, 0.03606556, 0.03409223, 0.03147801])"
      ]
     },
     "execution_count": 246,
     "metadata": {},
     "output_type": "execute_result"
    }
   ],
   "source": [
    "pca = PCA(n_components=9)\n",
    "principalComponents_anormal_9 = pca.fit_transform(X_2)\n",
    "pca.explained_variance_ratio_"
   ]
  },
  {
   "cell_type": "code",
   "execution_count": 247,
   "id": "f659cc82",
   "metadata": {},
   "outputs": [
    {
     "name": "stdout",
     "output_type": "stream",
     "text": [
      "(677785, 9)\n"
     ]
    }
   ],
   "source": [
    "print(principalComponents_normal_9.shape)"
   ]
  },
  {
   "cell_type": "code",
   "execution_count": 248,
   "id": "e4aa6cc5",
   "metadata": {},
   "outputs": [
    {
     "data": {
      "image/png": "[encoded data removed]",
      "text/plain": [
       "<Figure size 432x288 with 1 Axes>"
      ]
     },
     "metadata": {
      "needs_background": "light"
     },
     "output_type": "display_data"
    }
   ],
   "source": [
    "importance = pca.explained_variance_ratio_\n",
    "plt.scatter(range(1,10),importance)\n",
    "plt.plot(range(1,10),importance)\n",
    "plt.title('Scree Plot')\n",
    "plt.xlabel('Factors')\n",
    "plt.ylabel('Eigenvalue')\n",
    "plt.grid()\n",
    "plt.show()"
   ]
  },
  {
   "cell_type": "code",
   "execution_count": 249,
   "id": "dfab76fc",
   "metadata": {},
   "outputs": [
    {
     "data": {
      "text/plain": [
       "Text(0, 0.5, 'cumlative explained variance')"
      ]
     },
     "execution_count": 249,
     "metadata": {},
     "output_type": "execute_result"
    },
    {
     "data": {
      "image/png": "[encoded data removed]",
      "text/plain": [
       "<Figure size 432x288 with 1 Axes>"
      ]
     },
     "metadata": {
      "needs_background": "light"
     },
     "output_type": "display_data"
    }
   ],
   "source": [
    "plt.plot(np.cumsum(pca.explained_variance_ratio_))\n",
    "plt.xlabel('number of components')\n",
    "plt.ylabel('cumlative explained variance')"
   ]
  },
  {
   "cell_type": "code",
   "execution_count": 250,
   "id": "858a38ae",
   "metadata": {},
   "outputs": [
    {
     "data": {
      "text/plain": [
       "array([0.30029822, 0.42125326, 0.522336  , 0.6168537 , 0.67448844,\n",
       "       0.7257698 , 0.76183536, 0.79592758, 0.82740559])"
      ]
     },
     "execution_count": 250,
     "metadata": {},
     "output_type": "execute_result"
    }
   ],
   "source": [
    "e_1=np.cumsum(pca.explained_variance_ratio_)\n",
    "e_1"
   ]
  },
  {
   "cell_type": "code",
   "execution_count": null,
   "id": "a492cffb",
   "metadata": {},
   "outputs": [],
   "source": [
    "# 8 Features "
   ]
  },
  {
   "cell_type": "code",
   "execution_count": 421,
   "id": "fb9c23a9",
   "metadata": {},
   "outputs": [
    {
     "data": {
      "text/plain": [
       "array([0.30029822, 0.12095504, 0.10108274, 0.09451771, 0.05763473,\n",
       "       0.05128136, 0.03606555, 0.03409222])"
      ]
     },
     "execution_count": 421,
     "metadata": {},
     "output_type": "execute_result"
    }
   ],
   "source": [
    "pca = PCA(n_components=8)\n",
    "principalComponents_anormal_8 = pca.fit_transform(X_2)\n",
    "pca.explained_variance_ratio_"
   ]
  },
  {
   "cell_type": "code",
   "execution_count": 422,
   "id": "9675f79b",
   "metadata": {},
   "outputs": [
    {
     "data": {
      "image/png": "[encoded data removed]",
      "text/plain": [
       "<Figure size 432x288 with 1 Axes>"
      ]
     },
     "metadata": {
      "needs_background": "light"
     },
     "output_type": "display_data"
    }
   ],
   "source": [
    "importance = pca.explained_variance_ratio_\n",
    "plt.scatter(range(1,9),importance)\n",
    "plt.plot(range(1,9),importance)\n",
    "plt.title('Scree Plot')\n",
    "plt.xlabel('Factors')\n",
    "plt.ylabel('Eigenvalue')\n",
    "plt.grid()\n",
    "plt.show()"
   ]
  },
  {
   "cell_type": "code",
   "execution_count": 423,
   "id": "c509aeca",
   "metadata": {},
   "outputs": [
    {
     "data": {
      "text/plain": [
       "Text(0, 0.5, 'cumlative explained variance')"
      ]
     },
     "execution_count": 423,
     "metadata": {},
     "output_type": "execute_result"
    },
    {
     "data": {
      "image/png": "[encoded data removed]",
      "text/plain": [
       "<Figure size 432x288 with 1 Axes>"
      ]
     },
     "metadata": {
      "needs_background": "light"
     },
     "output_type": "display_data"
    }
   ],
   "source": [
    "plt.plot(np.cumsum(pca.explained_variance_ratio_))\n",
    "plt.xlabel('number of components')\n",
    "plt.ylabel('cumlative explained variance')"
   ]
  },
  {
   "cell_type": "code",
   "execution_count": 424,
   "id": "44d6fc3b",
   "metadata": {},
   "outputs": [
    {
     "data": {
      "text/plain": [
       "array([0.30029822, 0.42125326, 0.522336  , 0.6168537 , 0.67448844,\n",
       "       0.7257698 , 0.76183535, 0.79592757])"
      ]
     },
     "execution_count": 424,
     "metadata": {},
     "output_type": "execute_result"
    }
   ],
   "source": [
    "f_1=np.cumsum(pca.explained_variance_ratio_)\n",
    "f_1"
   ]
  },
  {
   "cell_type": "markdown",
   "id": "2a020fc8",
   "metadata": {},
   "source": [
    "# PCA Dimensionality Reduciton _Anormal Data and KNN test "
   ]
  },
  {
   "cell_type": "markdown",
   "id": "15aa8919",
   "metadata": {},
   "source": [
    "# 1. PCA-29 FEature Dimensionality _ANoral Dataset "
   ]
  },
  {
   "cell_type": "code",
   "execution_count": 385,
   "id": "f24b2098",
   "metadata": {},
   "outputs": [],
   "source": [
    "from sklearn.neighbors import KNeighborsClassifier\n",
    "knn=KNeighborsClassifier(n_neighbors=9)\n",
    "PCA_29a=principalComponents_anormal_29"
   ]
  },
  {
   "cell_type": "code",
   "execution_count": 386,
   "id": "efd94f97",
   "metadata": {},
   "outputs": [],
   "source": [
    "# Split the anoraml dataset into training_test \n",
    "from sklearn.model_selection import train_test_split\n",
    "X_29a_train, X_29a_test, y_3_train, y_3_test=train_test_split(PCA_29a, y_3, random_state=0)"
   ]
  },
  {
   "cell_type": "code",
   "execution_count": 387,
   "id": "fee9eaee",
   "metadata": {},
   "outputs": [
    {
     "data": {
      "text/plain": [
       "KNeighborsClassifier(n_neighbors=9)"
      ]
     },
     "execution_count": 387,
     "metadata": {},
     "output_type": "execute_result"
    }
   ],
   "source": [
    "knn.fit(X_29a_train, y_3_train)"
   ]
  },
  {
   "cell_type": "code",
   "execution_count": 388,
   "id": "8256d78a",
   "metadata": {},
   "outputs": [
    {
     "name": "stdout",
     "output_type": "stream",
     "text": [
      "X_29a_train shape (16661, 29)\n",
      "y_3_train shape (16661, 9)\n",
      "X_29a_test shape (5554, 29)\n",
      "y_3_test shape (5554, 9)\n"
     ]
    }
   ],
   "source": [
    "print(\"X_29a_train shape\",X_29a_train.shape )\n",
    "print(\"y_3_train shape\",y_3_train.shape )\n",
    "print(\"X_29a_test shape\",X_29a_test.shape )\n",
    "print(\"y_3_test shape\",y_3_test.shape )"
   ]
  },
  {
   "cell_type": "code",
   "execution_count": 389,
   "id": "e528f255",
   "metadata": {},
   "outputs": [
    {
     "name": "stdout",
     "output_type": "stream",
     "text": [
      "Test set predictions:\n",
      " [[0 0 0 ... 0 0 0]\n",
      " [0 0 0 ... 0 0 0]\n",
      " [0 0 0 ... 0 0 0]\n",
      " ...\n",
      " [0 0 0 ... 0 0 0]\n",
      " [0 0 0 ... 0 0 0]\n",
      " [0 0 0 ... 0 0 0]]\n",
      "Test score:0.9521\n"
     ]
    }
   ],
   "source": [
    "y_pred=knn.predict(X_29a_test)\n",
    "print(\"Test set predictions:\\n\", y_pred)\n",
    "print(\"Test score:{:.4f}\".format(np.mean(y_pred==y_3_test)))"
   ]
  },
  {
   "cell_type": "markdown",
   "id": "611ed63a",
   "metadata": {},
   "source": [
    "# 2 PCA-20 Anormal Feature "
   ]
  },
  {
   "cell_type": "code",
   "execution_count": 352,
   "id": "cc0ed185",
   "metadata": {},
   "outputs": [],
   "source": [
    "PCA_20a=principalComponents_anormal_20"
   ]
  },
  {
   "cell_type": "code",
   "execution_count": 353,
   "id": "ad19cffd",
   "metadata": {},
   "outputs": [
    {
     "data": {
      "text/plain": [
       "array([[0, 0, 0, ..., 0, 0, 0],\n",
       "       [0, 0, 0, ..., 0, 0, 0],\n",
       "       [0, 0, 0, ..., 1, 0, 0],\n",
       "       ...,\n",
       "       [1, 0, 0, ..., 0, 0, 0],\n",
       "       [1, 0, 0, ..., 0, 0, 0],\n",
       "       [1, 0, 0, ..., 0, 0, 0]], dtype=int64)"
      ]
     },
     "execution_count": 353,
     "metadata": {},
     "output_type": "execute_result"
    }
   ],
   "source": [
    "y_3"
   ]
  },
  {
   "cell_type": "code",
   "execution_count": 354,
   "id": "c8d66944",
   "metadata": {},
   "outputs": [],
   "source": [
    "# Split the anoraml dataset into training_test \n",
    "from sklearn.model_selection import train_test_split\n",
    "X_20a_train, X_20a_test, y_3_train, y_3_test=train_test_split(PCA_20a, y_3, random_state=0)"
   ]
  },
  {
   "cell_type": "code",
   "execution_count": 355,
   "id": "e53c20e4",
   "metadata": {},
   "outputs": [
    {
     "name": "stdout",
     "output_type": "stream",
     "text": [
      "X_20a_train shape (16661, 20)\n",
      "y_3_train shape (16661, 9)\n"
     ]
    }
   ],
   "source": [
    "print(\"X_20a_train shape\",X_20a_train.shape )\n",
    "print(\"y_3_train shape\",y_3_train.shape )"
   ]
  },
  {
   "cell_type": "code",
   "execution_count": 356,
   "id": "7585eaa6",
   "metadata": {},
   "outputs": [
    {
     "name": "stdout",
     "output_type": "stream",
     "text": [
      "X_20a_test shape (5554, 20)\n",
      "y_3_test shape (5554, 9)\n"
     ]
    }
   ],
   "source": [
    "print(\"X_20a_test shape\",X_20a_test.shape )\n",
    "print(\"y_3_test shape\",y_3_test.shape )"
   ]
  },
  {
   "cell_type": "code",
   "execution_count": 357,
   "id": "8f7f4f5b",
   "metadata": {},
   "outputs": [],
   "source": [
    "from sklearn.neighbors import KNeighborsClassifier\n",
    "knn=KNeighborsClassifier(n_neighbors=9)"
   ]
  },
  {
   "cell_type": "code",
   "execution_count": 358,
   "id": "1ec398d5",
   "metadata": {},
   "outputs": [
    {
     "data": {
      "text/plain": [
       "KNeighborsClassifier(n_neighbors=9)"
      ]
     },
     "execution_count": 358,
     "metadata": {},
     "output_type": "execute_result"
    }
   ],
   "source": [
    "knn.fit(X_20a_train, y_3_train)"
   ]
  },
  {
   "cell_type": "code",
   "execution_count": 362,
   "id": "a5fb0368",
   "metadata": {},
   "outputs": [
    {
     "name": "stdout",
     "output_type": "stream",
     "text": [
      "Test set predictions:\n",
      " [[0 0 0 ... 0 0 0]\n",
      " [0 0 0 ... 0 0 0]\n",
      " [0 0 0 ... 0 0 0]\n",
      " ...\n",
      " [0 0 0 ... 0 0 0]\n",
      " [0 0 0 ... 0 0 0]\n",
      " [0 0 0 ... 0 0 0]]\n"
     ]
    }
   ],
   "source": [
    "y_pred=knn.predict(X_20a_test)\n",
    "print(\"Test set predictions:\\n\", y_pred)"
   ]
  },
  {
   "cell_type": "code",
   "execution_count": 364,
   "id": "5d23ccd5",
   "metadata": {},
   "outputs": [
    {
     "name": "stdout",
     "output_type": "stream",
     "text": [
      "Test score:0.9514\n"
     ]
    }
   ],
   "source": [
    "print(\"Test score:{:.4f}\".format(np.mean(y_pred==y_3_test)))"
   ]
  },
  {
   "cell_type": "markdown",
   "id": "4cd39a3c",
   "metadata": {},
   "source": [
    "# 3 PCA -15 fEATURE Anoraml Dataset "
   ]
  },
  {
   "cell_type": "code",
   "execution_count": 369,
   "id": "04fb1456",
   "metadata": {},
   "outputs": [],
   "source": [
    "from sklearn.neighbors import KNeighborsClassifier\n",
    "knn=KNeighborsClassifier(n_neighbors=9)\n",
    "PCA_15a=principalComponents_anormal_15"
   ]
  },
  {
   "cell_type": "code",
   "execution_count": 370,
   "id": "bd9bfd1e",
   "metadata": {},
   "outputs": [],
   "source": [
    "# Split the anoraml dataset into training_test \n",
    "from sklearn.model_selection import train_test_split\n",
    "X_15a_train, X_15a_test, y_3_train, y_3_test=train_test_split(PCA_15a, y_3, random_state=0)"
   ]
  },
  {
   "cell_type": "code",
   "execution_count": 371,
   "id": "2ce191b0",
   "metadata": {},
   "outputs": [
    {
     "name": "stdout",
     "output_type": "stream",
     "text": [
      "X_15a_train shape (16661, 15)\n",
      "y_3_train shape (16661, 9)\n",
      "X_15a_test shape (5554, 15)\n",
      "y_3_test shape (5554, 9)\n"
     ]
    }
   ],
   "source": [
    "print(\"X_15a_train shape\",X_15a_train.shape )\n",
    "print(\"y_3_train shape\",y_3_train.shape )\n",
    "print(\"X_15a_test shape\",X_15a_test.shape )\n",
    "print(\"y_3_test shape\",y_3_test.shape )"
   ]
  },
  {
   "cell_type": "code",
   "execution_count": 372,
   "id": "972aa42d",
   "metadata": {},
   "outputs": [
    {
     "data": {
      "text/plain": [
       "KNeighborsClassifier(n_neighbors=9)"
      ]
     },
     "execution_count": 372,
     "metadata": {},
     "output_type": "execute_result"
    }
   ],
   "source": [
    "knn.fit(X_15a_train, y_3_train)"
   ]
  },
  {
   "cell_type": "code",
   "execution_count": 373,
   "id": "0dcb5185",
   "metadata": {},
   "outputs": [
    {
     "name": "stdout",
     "output_type": "stream",
     "text": [
      "Test set predictions:\n",
      " [[0 0 0 ... 0 0 0]\n",
      " [0 0 0 ... 0 0 0]\n",
      " [0 0 0 ... 0 0 0]\n",
      " ...\n",
      " [0 0 0 ... 0 0 0]\n",
      " [0 0 0 ... 0 0 0]\n",
      " [0 0 0 ... 0 0 0]]\n",
      "Test score:0.9513\n"
     ]
    }
   ],
   "source": [
    "y_pred=knn.predict(X_15a_test)\n",
    "print(\"Test set predictions:\\n\", y_pred)\n",
    "print(\"Test score:{:.4f}\".format(np.mean(y_pred==y_3_test)))"
   ]
  },
  {
   "cell_type": "markdown",
   "id": "3b6b570d",
   "metadata": {},
   "source": [
    "# 4. PCA 9 Feature Anormal dataset "
   ]
  },
  {
   "cell_type": "code",
   "execution_count": 374,
   "id": "69b363b5",
   "metadata": {},
   "outputs": [],
   "source": [
    "from sklearn.neighbors import KNeighborsClassifier\n",
    "knn=KNeighborsClassifier(n_neighbors=9)\n",
    "PCA_9a=principalComponents_anormal_9"
   ]
  },
  {
   "cell_type": "code",
   "execution_count": 375,
   "id": "8d0b2afd",
   "metadata": {},
   "outputs": [],
   "source": [
    "# Split the anoraml dataset into training_test \n",
    "from sklearn.model_selection import train_test_split\n",
    "X_9a_train, X_9a_test, y_3_train, y_3_test=train_test_split(PCA_9a, y_3, random_state=0)"
   ]
  },
  {
   "cell_type": "code",
   "execution_count": 376,
   "id": "de3a9e18",
   "metadata": {},
   "outputs": [
    {
     "data": {
      "text/plain": [
       "KNeighborsClassifier(n_neighbors=9)"
      ]
     },
     "execution_count": 376,
     "metadata": {},
     "output_type": "execute_result"
    }
   ],
   "source": [
    "knn.fit(X_9a_train, y_3_train)"
   ]
  },
  {
   "cell_type": "code",
   "execution_count": 377,
   "id": "2bc252d2",
   "metadata": {},
   "outputs": [
    {
     "name": "stdout",
     "output_type": "stream",
     "text": [
      "Test set predictions:\n",
      " [[0 0 0 ... 0 0 0]\n",
      " [0 0 0 ... 0 0 0]\n",
      " [0 0 0 ... 0 0 0]\n",
      " ...\n",
      " [0 0 0 ... 0 0 0]\n",
      " [0 0 0 ... 0 0 0]\n",
      " [0 0 0 ... 0 0 0]]\n",
      "Test score:0.9490\n"
     ]
    }
   ],
   "source": [
    "y_pred=knn.predict(X_9a_test)\n",
    "print(\"Test set predictions:\\n\", y_pred)\n",
    "print(\"Test score:{:.4f}\".format(np.mean(y_pred==y_3_test)))"
   ]
  },
  {
   "cell_type": "code",
   "execution_count": null,
   "id": "ce8c0336",
   "metadata": {},
   "outputs": [],
   "source": [
    "#PCA 8 Features ANormal Dataset"
   ]
  },
  {
   "cell_type": "code",
   "execution_count": 425,
   "id": "a33c2097",
   "metadata": {},
   "outputs": [],
   "source": [
    "from sklearn.neighbors import KNeighborsClassifier\n",
    "knn=KNeighborsClassifier(n_neighbors=9)\n",
    "PCA_8a=principalComponents_anormal_8"
   ]
  },
  {
   "cell_type": "code",
   "execution_count": 426,
   "id": "6c0ddbbb",
   "metadata": {},
   "outputs": [],
   "source": [
    "# Split the anoraml dataset into training_test \n",
    "from sklearn.model_selection import train_test_split\n",
    "X_8a_train, X_8a_test, y_3_train, y_3_test=train_test_split(PCA_8a, y_3, random_state=0)"
   ]
  },
  {
   "cell_type": "code",
   "execution_count": 427,
   "id": "d273e827",
   "metadata": {},
   "outputs": [
    {
     "data": {
      "text/plain": [
       "KNeighborsClassifier(n_neighbors=9)"
      ]
     },
     "execution_count": 427,
     "metadata": {},
     "output_type": "execute_result"
    }
   ],
   "source": [
    "knn.fit(X_8a_train, y_3_train)"
   ]
  },
  {
   "cell_type": "code",
   "execution_count": 428,
   "id": "cd0831b0",
   "metadata": {},
   "outputs": [
    {
     "name": "stdout",
     "output_type": "stream",
     "text": [
      "Test set predictions:\n",
      " [[0 0 0 ... 0 0 0]\n",
      " [0 0 0 ... 0 0 0]\n",
      " [0 0 0 ... 0 0 0]\n",
      " ...\n",
      " [0 0 0 ... 0 0 0]\n",
      " [0 0 0 ... 0 0 0]\n",
      " [0 0 0 ... 0 0 0]]\n",
      "Test score:0.9490\n"
     ]
    }
   ],
   "source": [
    "y_pred=knn.predict(X_8a_test)\n",
    "print(\"Test set predictions:\\n\", y_pred)\n",
    "print(\"Test score:{:.4f}\".format(np.mean(y_pred==y_3_test)))"
   ]
  },
  {
   "cell_type": "markdown",
   "id": "750d966b",
   "metadata": {},
   "source": [
    "# PCA Dimensionality Reduction Stack ( axis=0) Normal+Anormal"
   ]
  },
  {
   "cell_type": "code",
   "execution_count": null,
   "id": "c8f2a1d4",
   "metadata": {},
   "outputs": [],
   "source": [
    "# 29 Feature Stack "
   ]
  },
  {
   "cell_type": "code",
   "execution_count": 251,
   "id": "38faf36a",
   "metadata": {},
   "outputs": [],
   "source": [
    "PCA_29=np.concatenate((principalComponents_normal_29, principalComponents_anormal_29 ),axis=0)"
   ]
  },
  {
   "cell_type": "code",
   "execution_count": 252,
   "id": "c0831392",
   "metadata": {},
   "outputs": [
    {
     "data": {
      "text/plain": [
       "array([[-2.21005256e+00,  6.90822479e-01, -2.63568648e+00, ...,\n",
       "         5.26209344e-02, -1.25528371e-03,  7.18519716e-03],\n",
       "       [-1.87492472e+00,  6.94047149e-01, -2.17818441e+00, ...,\n",
       "         5.30957009e-02, -4.87220329e-03, -2.23112067e-03],\n",
       "       [-2.04098937e+00,  7.06952272e-01, -2.44783628e+00, ...,\n",
       "         5.31269977e-02, -3.46021080e-03, -2.26583453e-03],\n",
       "       ...,\n",
       "       [ 1.72599996e+00,  8.03016576e-01,  8.00026095e-01, ...,\n",
       "         3.64592004e-02, -5.15635629e-03,  8.11073908e-06],\n",
       "       [ 3.05565651e-01, -8.49101403e-02, -2.52105481e-01, ...,\n",
       "         1.53723292e-02, -7.38640205e-03, -2.25991044e-04],\n",
       "       [ 2.44493901e+00, -8.19437747e-01,  2.16719476e-01, ...,\n",
       "         6.59747967e-02, -9.31294866e-03,  1.59411526e-04]])"
      ]
     },
     "execution_count": 252,
     "metadata": {},
     "output_type": "execute_result"
    }
   ],
   "source": [
    "PCA_29"
   ]
  },
  {
   "cell_type": "code",
   "execution_count": 253,
   "id": "9e69ac17",
   "metadata": {},
   "outputs": [
    {
     "name": "stdout",
     "output_type": "stream",
     "text": [
      "(700000, 29)\n"
     ]
    }
   ],
   "source": [
    "print(PCA_29.shape)"
   ]
  },
  {
   "cell_type": "code",
   "execution_count": null,
   "id": "fda67314",
   "metadata": {},
   "outputs": [],
   "source": [
    "# 20 Feature Stack "
   ]
  },
  {
   "cell_type": "code",
   "execution_count": 254,
   "id": "f2715af5",
   "metadata": {},
   "outputs": [],
   "source": [
    "PCA_20=np.concatenate((principalComponents_normal_20, principalComponents_anormal_20 ),axis=0)"
   ]
  },
  {
   "cell_type": "code",
   "execution_count": 255,
   "id": "940e39c6",
   "metadata": {},
   "outputs": [
    {
     "data": {
      "text/plain": [
       "array([[-2.21005256,  0.69082248, -2.63568648, ..., -0.10156532,\n",
       "         0.1674778 ,  0.20618868],\n",
       "       [-1.87492472,  0.69404715, -2.17818441, ..., -0.38039541,\n",
       "         0.66364496,  0.14833142],\n",
       "       [-2.04098937,  0.70695227, -2.44783628, ..., -0.22926678,\n",
       "         0.59381649,  0.1702536 ],\n",
       "       ...,\n",
       "       [ 1.72599996,  0.80301658,  0.80002609, ..., -1.35441112,\n",
       "        -0.14503652, -0.19043863],\n",
       "       [ 0.30556565, -0.08491014, -0.25210548, ..., -0.27335988,\n",
       "        -0.03992958,  0.14797794],\n",
       "       [ 2.44493901, -0.81943775,  0.21671948, ..., -1.22762146,\n",
       "        -0.45138776, -0.19602608]])"
      ]
     },
     "execution_count": 255,
     "metadata": {},
     "output_type": "execute_result"
    }
   ],
   "source": [
    "PCA_20"
   ]
  },
  {
   "cell_type": "code",
   "execution_count": null,
   "id": "5a5dde1b",
   "metadata": {},
   "outputs": [],
   "source": [
    "# 18 Feature Stack "
   ]
  },
  {
   "cell_type": "code",
   "execution_count": 256,
   "id": "2cf81ee6",
   "metadata": {},
   "outputs": [],
   "source": [
    "PCA_18=np.concatenate((principalComponents_normal_18, principalComponents_anormal_18 ),axis=0)"
   ]
  },
  {
   "cell_type": "code",
   "execution_count": null,
   "id": "cd3876cd",
   "metadata": {},
   "outputs": [],
   "source": [
    "## 15 Feature Stack "
   ]
  },
  {
   "cell_type": "code",
   "execution_count": 257,
   "id": "cd72c76c",
   "metadata": {},
   "outputs": [],
   "source": [
    "PCA_15=np.concatenate((principalComponents_normal_15, principalComponents_anormal_15 ),axis=0)"
   ]
  },
  {
   "cell_type": "code",
   "execution_count": null,
   "id": "8ea03c5b",
   "metadata": {},
   "outputs": [],
   "source": [
    "## 9 Feature Stack "
   ]
  },
  {
   "cell_type": "code",
   "execution_count": 258,
   "id": "77da6b58",
   "metadata": {},
   "outputs": [],
   "source": [
    "PCA_9=np.concatenate((principalComponents_normal_9, principalComponents_anormal_9 ),axis=0)"
   ]
  },
  {
   "cell_type": "code",
   "execution_count": null,
   "id": "6bf6b824",
   "metadata": {},
   "outputs": [],
   "source": [
    "# Target stack"
   ]
  },
  {
   "cell_type": "code",
   "execution_count": 278,
   "id": "ecb23f7b",
   "metadata": {},
   "outputs": [],
   "source": [
    "y=np.concatenate((y_1,y_2),axis=0)"
   ]
  },
  {
   "cell_type": "code",
   "execution_count": 279,
   "id": "d135be25",
   "metadata": {},
   "outputs": [
    {
     "data": {
      "text/plain": [
       "array([[1, 0, 0, ..., 0, 0, 0],\n",
       "       [1, 0, 0, ..., 0, 0, 0],\n",
       "       [1, 0, 0, ..., 0, 0, 0],\n",
       "       ...,\n",
       "       [0, 1, 0, ..., 0, 0, 0],\n",
       "       [0, 1, 0, ..., 0, 0, 0],\n",
       "       [0, 1, 0, ..., 0, 0, 0]], dtype=int64)"
      ]
     },
     "execution_count": 279,
     "metadata": {},
     "output_type": "execute_result"
    }
   ],
   "source": [
    "y"
   ]
  },
  {
   "cell_type": "markdown",
   "id": "4f075b66",
   "metadata": {},
   "source": [
    "# Split the reduction data into training, test"
   ]
  },
  {
   "cell_type": "code",
   "execution_count": null,
   "id": "d092f985",
   "metadata": {},
   "outputs": [],
   "source": [
    "# 20 PCA Dataset split "
   ]
  },
  {
   "cell_type": "code",
   "execution_count": 282,
   "id": "64821553",
   "metadata": {},
   "outputs": [],
   "source": [
    "from sklearn.model_selection import train_test_split"
   ]
  },
  {
   "cell_type": "code",
   "execution_count": 288,
   "id": "18284b87",
   "metadata": {},
   "outputs": [],
   "source": [
    "X_20F_train, X_20F_test, y_train, y_test=train_test_split(PCA_20,y, random_state=0)"
   ]
  },
  {
   "cell_type": "code",
   "execution_count": 289,
   "id": "fa6df362",
   "metadata": {},
   "outputs": [
    {
     "name": "stdout",
     "output_type": "stream",
     "text": [
      "X_20F_train shape (525000, 20)\n",
      "y_train shape (525000, 10)\n"
     ]
    }
   ],
   "source": [
    "print(\"X_20F_train shape\",X_20F_train.shape )\n",
    "print(\"y_train shape\",y_train.shape )"
   ]
  },
  {
   "cell_type": "code",
   "execution_count": 290,
   "id": "e79102be",
   "metadata": {},
   "outputs": [
    {
     "name": "stdout",
     "output_type": "stream",
     "text": [
      "X_20F_test shape (175000, 20)\n",
      "y_train shape (175000, 10)\n"
     ]
    }
   ],
   "source": [
    "print(\"X_20F_test shape\",X_20F_test.shape )\n",
    "print(\"y_train shape\",y_test.shape )"
   ]
  },
  {
   "cell_type": "code",
   "execution_count": 303,
   "id": "9354ca59",
   "metadata": {},
   "outputs": [
    {
     "name": "stdout",
     "output_type": "stream",
     "text": [
      "X_18F_train shape (525000, 18)\n",
      "y_train shape (525000, 10)\n",
      "X_18F_test shape (175000, 18)\n",
      "y_train shape (175000, 10)\n"
     ]
    }
   ],
   "source": [
    "# 18 PCA Dataset split \n",
    "X_18F_train, X_18F_test, y_train, y_test=train_test_split(PCA_18,y, random_state=0)\n",
    "print(\"X_18F_train shape\",X_18F_train.shape )\n",
    "print(\"y_train shape\",y_train.shape )\n",
    "print(\"X_18F_test shape\",X_18F_test.shape )\n",
    "print(\"y_train shape\",y_test.shape )"
   ]
  },
  {
   "cell_type": "code",
   "execution_count": 304,
   "id": "ced38660",
   "metadata": {},
   "outputs": [
    {
     "name": "stdout",
     "output_type": "stream",
     "text": [
      "X_15F_train shape (525000, 15)\n",
      "y_train shape (525000, 10)\n",
      "X_15F_test shape (175000, 15)\n",
      "y_train shape (175000, 10)\n"
     ]
    }
   ],
   "source": [
    "# 15 PCA Dataset split \n",
    "X_15F_train, X_15F_test, y_train, y_test=train_test_split(PCA_15,y, random_state=0)\n",
    "print(\"X_15F_train shape\",X_15F_train.shape )\n",
    "print(\"y_train shape\",y_train.shape )\n",
    "print(\"X_15F_test shape\",X_15F_test.shape )\n",
    "print(\"y_train shape\",y_test.shape )"
   ]
  },
  {
   "cell_type": "code",
   "execution_count": 305,
   "id": "65665b98",
   "metadata": {},
   "outputs": [
    {
     "name": "stdout",
     "output_type": "stream",
     "text": [
      "X_9F_train shape (525000, 9)\n",
      "y_train shape (525000, 10)\n",
      "X_9F_test shape (175000, 9)\n",
      "y_train shape (175000, 10)\n"
     ]
    }
   ],
   "source": [
    "# 9 PCA Dataset split \n",
    "X_9F_train, X_9F_test, y_train, y_test=train_test_split(PCA_9,y, random_state=0)\n",
    "print(\"X_9F_train shape\",X_9F_train.shape )\n",
    "print(\"y_train shape\",y_train.shape )\n",
    "print(\"X_9F_test shape\",X_9F_test.shape )\n",
    "print(\"y_train shape\",y_test.shape )"
   ]
  },
  {
   "cell_type": "code",
   "execution_count": null,
   "id": "ea10efd3",
   "metadata": {},
   "outputs": [],
   "source": []
  },
  {
   "cell_type": "markdown",
   "id": "535d81a7",
   "metadata": {},
   "source": [
    "# Traing Model KNN"
   ]
  },
  {
   "cell_type": "code",
   "execution_count": 393,
   "id": "d89e6a22",
   "metadata": {},
   "outputs": [],
   "source": [
    "from sklearn.neighbors import KNeighborsClassifier\n",
    "knn=KNeighborsClassifier(n_neighbors=10)"
   ]
  },
  {
   "cell_type": "markdown",
   "id": "c608fd88",
   "metadata": {},
   "source": [
    "# 20  Feature Complete Dataset test "
   ]
  },
  {
   "cell_type": "code",
   "execution_count": 298,
   "id": "5b82e9ef",
   "metadata": {},
   "outputs": [
    {
     "data": {
      "text/plain": [
       "KNeighborsClassifier(n_neighbors=10)"
      ]
     },
     "execution_count": 298,
     "metadata": {},
     "output_type": "execute_result"
    }
   ],
   "source": [
    "knn.fit(X_20F_train, y_train)"
   ]
  },
  {
   "cell_type": "markdown",
   "id": "526d154e",
   "metadata": {},
   "source": [
    "# Evaluating the model "
   ]
  },
  {
   "cell_type": "code",
   "execution_count": 299,
   "id": "e47bccbd",
   "metadata": {},
   "outputs": [
    {
     "name": "stdout",
     "output_type": "stream",
     "text": [
      "Test set predictions:\n",
      " [[1 0 0 ... 0 0 0]\n",
      " [1 0 0 ... 0 0 0]\n",
      " [1 0 0 ... 0 0 0]\n",
      " ...\n",
      " [1 0 0 ... 0 0 0]\n",
      " [1 0 0 ... 0 0 0]\n",
      " [1 0 0 ... 0 0 0]]\n"
     ]
    }
   ],
   "source": [
    "y_pred=knn.predict(X_20F_test)\n",
    "print(\"Test set predictions:\\n\", y_pred)"
   ]
  },
  {
   "cell_type": "code",
   "execution_count": 302,
   "id": "cca3c49c",
   "metadata": {},
   "outputs": [
    {
     "name": "stdout",
     "output_type": "stream",
     "text": [
      "Test score:0.9986\n"
     ]
    }
   ],
   "source": [
    "print(\"Test score:{:.4f}\".format(np.mean(y_pred==y_test)))"
   ]
  },
  {
   "cell_type": "markdown",
   "id": "526f7481",
   "metadata": {},
   "source": [
    "# 18 Feature  Complete dataset"
   ]
  },
  {
   "cell_type": "code",
   "execution_count": 394,
   "id": "fcfaf020",
   "metadata": {},
   "outputs": [
    {
     "data": {
      "text/plain": [
       "KNeighborsClassifier(n_neighbors=10)"
      ]
     },
     "execution_count": 394,
     "metadata": {},
     "output_type": "execute_result"
    }
   ],
   "source": [
    "knn.fit(X_18F_train, y_train)"
   ]
  },
  {
   "cell_type": "code",
   "execution_count": 307,
   "id": "2771d015",
   "metadata": {},
   "outputs": [
    {
     "name": "stdout",
     "output_type": "stream",
     "text": [
      "Test set predictions:\n",
      " [[1 0 0 ... 0 0 0]\n",
      " [1 0 0 ... 0 0 0]\n",
      " [1 0 0 ... 0 0 0]\n",
      " ...\n",
      " [1 0 0 ... 0 0 0]\n",
      " [1 0 0 ... 0 0 0]\n",
      " [1 0 0 ... 0 0 0]]\n"
     ]
    }
   ],
   "source": [
    "y_pred=knn.predict(X_18F_test)\n",
    "print(\"Test set predictions:\\n\", y_pred)"
   ]
  },
  {
   "cell_type": "code",
   "execution_count": 308,
   "id": "c95887aa",
   "metadata": {},
   "outputs": [
    {
     "name": "stdout",
     "output_type": "stream",
     "text": [
      "Test score:0.9986\n"
     ]
    }
   ],
   "source": [
    "print(\"Test score:{:.4f}\".format(np.mean(y_pred==y_test)))"
   ]
  },
  {
   "cell_type": "markdown",
   "id": "6dad7eed",
   "metadata": {},
   "source": [
    "# 15 Feature Complete dataset"
   ]
  },
  {
   "cell_type": "code",
   "execution_count": 365,
   "id": "5355dc4f",
   "metadata": {},
   "outputs": [
    {
     "data": {
      "text/plain": [
       "KNeighborsClassifier(n_neighbors=9)"
      ]
     },
     "execution_count": 365,
     "metadata": {},
     "output_type": "execute_result"
    }
   ],
   "source": [
    "knn.fit(X_15F_train, y_train)"
   ]
  },
  {
   "cell_type": "code",
   "execution_count": 366,
   "id": "4585c045",
   "metadata": {},
   "outputs": [
    {
     "name": "stdout",
     "output_type": "stream",
     "text": [
      "Test set predictions:\n",
      " [[1 0 0 ... 0 0 0]\n",
      " [1 0 0 ... 0 0 0]\n",
      " [1 0 0 ... 0 0 0]\n",
      " ...\n",
      " [1 0 0 ... 0 0 0]\n",
      " [1 0 0 ... 0 0 0]\n",
      " [1 0 0 ... 0 0 0]]\n"
     ]
    }
   ],
   "source": [
    "y_pred=knn.predict(X_15F_test)\n",
    "print(\"Test set predictions:\\n\", y_pred)"
   ]
  },
  {
   "cell_type": "code",
   "execution_count": 367,
   "id": "e40397cf",
   "metadata": {},
   "outputs": [
    {
     "name": "stdout",
     "output_type": "stream",
     "text": [
      "Test score:0.9986\n"
     ]
    }
   ],
   "source": [
    "print(\"Test score:{:.4f}\".format(np.mean(y_pred==y_test)))"
   ]
  },
  {
   "cell_type": "markdown",
   "id": "ee7a862d",
   "metadata": {},
   "source": [
    "# 9 Features Complete dataset"
   ]
  },
  {
   "cell_type": "code",
   "execution_count": 395,
   "id": "8b4fe595",
   "metadata": {},
   "outputs": [
    {
     "data": {
      "text/plain": [
       "KNeighborsClassifier(n_neighbors=10)"
      ]
     },
     "execution_count": 395,
     "metadata": {},
     "output_type": "execute_result"
    }
   ],
   "source": [
    "knn.fit(X_9F_train, y_train)"
   ]
  },
  {
   "cell_type": "code",
   "execution_count": 396,
   "id": "6e19ce30",
   "metadata": {},
   "outputs": [
    {
     "name": "stdout",
     "output_type": "stream",
     "text": [
      "Test set predictions:\n",
      " [[1 0 0 ... 0 0 0]\n",
      " [1 0 0 ... 0 0 0]\n",
      " [1 0 0 ... 0 0 0]\n",
      " ...\n",
      " [1 0 0 ... 0 0 0]\n",
      " [1 0 0 ... 0 0 0]\n",
      " [1 0 0 ... 0 0 0]]\n"
     ]
    }
   ],
   "source": [
    "y_pred=knn.predict(X_9F_test)\n",
    "print(\"Test set predictions:\\n\", y_pred)"
   ]
  },
  {
   "cell_type": "code",
   "execution_count": 397,
   "id": "ee5e6acc",
   "metadata": {},
   "outputs": [
    {
     "name": "stdout",
     "output_type": "stream",
     "text": [
      "Test score:0.9985\n"
     ]
    }
   ],
   "source": [
    "print(\"Test score:{:.4f}\".format(np.mean(y_pred==y_test)))"
   ]
  },
  {
   "cell_type": "code",
   "execution_count": null,
   "id": "6b82a757",
   "metadata": {},
   "outputs": [],
   "source": []
  }
 ],
 "metadata": {
  "kernelspec": {
   "display_name": "Python 3",
   "language": "python",
   "name": "python3"
  },
  "language_info": {
   "codemirror_mode": {
    "name": "ipython",
    "version": 3
   },
   "file_extension": ".py",
   "mimetype": "text/x-python",
   "name": "python",
   "nbconvert_exporter": "python",
   "pygments_lexer": "ipython3",
   "version": "3.7.10"
  }
 },
 "nbformat": 4,
 "nbformat_minor": 5
}
